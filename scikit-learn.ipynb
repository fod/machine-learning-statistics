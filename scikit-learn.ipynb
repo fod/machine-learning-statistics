{
 "cells": [
  {
   "cell_type": "markdown",
   "id": "a7b8698f-7774-4147-97c2-17d1c62c1c9a",
   "metadata": {},
   "source": [
    "# scikit-learn"
   ]
  },
  {
   "cell_type": "code",
   "execution_count": null,
   "id": "f8646fc4-516c-4eab-afcd-5ffb56c5154e",
   "metadata": {},
   "outputs": [],
   "source": []
  }
 ],
 "metadata": {
  "kernelspec": {
   "display_name": "Python 3.9.7 64-bit ('.venv')",
   "language": "python",
   "name": "python39764bitvenv435cff97ed104b11a90a2d311e701c5d"
  },
  "language_info": {
   "codemirror_mode": {
    "name": "ipython",
    "version": 3
   },
   "file_extension": ".py",
   "mimetype": "text/x-python",
   "name": "python",
   "nbconvert_exporter": "python",
   "pygments_lexer": "ipython3",
   "version": "3.9.7"
  }
 },
 "nbformat": 4,
 "nbformat_minor": 5
}
