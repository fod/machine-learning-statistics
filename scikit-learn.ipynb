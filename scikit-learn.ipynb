{
 "cells": [
  {
   "cell_type": "markdown",
   "id": "96866573",
   "metadata": {},
   "source": [
    "# scikit-learn"
   ]
  },
  {
   "cell_type": "markdown",
   "id": "0e7e67ad",
   "metadata": {},
   "source": [
    "## Overview\n",
    "\n",
    "Scikit-learn [R] is a Python package containing a wide selection of tools for machine learning. Machine learning is a technique of using computers to make predtictions on unseen data based on either previously seen data or algorithms which find patterns within data. In addition to a large collection of data analysis algorithms, the package also provides tools for data preprocessing and dimensionality reduction; model selection and hyperparameter tuning - that is, finding an algorithm and a set of parameters to that algorithm that enable it to best perform on a particular dataset.\n"
   ]
  },
  {
   "cell_type": "markdown",
   "id": "8643b0b3-14be-42f9-ae48-f52ac006caac",
   "metadata": {},
   "source": [
    "## Imports\n",
    "\n",
    "The following code cells import all the libraries necessary to run this notebook. As there are a lot of imports, they are divided into four cells according to their function for easier management. "
   ]
  },
  {
   "cell_type": "code",
   "execution_count": 1,
   "id": "11b2db0e-f2bd-4a49-af77-b6db2b1d303a",
   "metadata": {},
   "outputs": [],
   "source": [
    "# General utilities\n",
    "\n",
    "# file management\n",
    "import os\n",
    "# downloading datasets\n",
    "import requests\n",
    "# url construction\n",
    "from urllib.parse import urljoin"
   ]
  },
  {
   "cell_type": "code",
   "execution_count": 2,
   "id": "0c24679d-753a-4d1f-95e0-50985dfd7d65",
   "metadata": {},
   "outputs": [],
   "source": [
    "# Plotting libraries\n",
    "\n",
    "import matplotlib.pyplot as plt\n",
    "import seaborn as sns"
   ]
  },
  {
   "cell_type": "code",
   "execution_count": 3,
   "id": "b2186e0c-ec0c-4771-b786-b6cd9ee1db2b",
   "metadata": {},
   "outputs": [],
   "source": [
    "# Data manipulation\n",
    "import pandas as pd\n",
    "import numpy as np"
   ]
  },
  {
   "cell_type": "code",
   "execution_count": 41,
   "id": "fb9e2277-4179-4c69-b8ab-0dbc6b2c575f",
   "metadata": {},
   "outputs": [],
   "source": [
    "# scikit-learn\n",
    "from sklearn.model_selection import train_test_split\n",
    "from sklearn.preprocessing import StandardScaler\n",
    "from sklearn.preprocessing import MinMaxScaler\n",
    "from sklearn.svm import SVC\n",
    "from sklearn.pipeline import Pipeline\n",
    "from sklearn.pipeline import make_pipeline\n",
    "from sklearn.model_selection import GridSearchCV\n",
    "from sklearn.model_selection import cross_val_score\n",
    "from sklearn.model_selection import StratifiedShuffleSplit\n",
    "from sklearn.base import BaseEstimator\n",
    "from sklearn.metrics import confusion_matrix\n",
    "from sklearn.model_selection import cross_val_predict\n",
    "from sklearn.metrics import ConfusionMatrixDisplay\n",
    "from sklearn.decomposition import PCA\n",
    "from sklearn.decomposition import KernelPCA\n",
    "from sklearn.discriminant_analysis import LinearDiscriminantAnalysis \n",
    "from sklearn.base import TransformerMixin\n",
    "from sklearn.cluster import FeatureAgglomeration\n",
    "from sklearn.metrics import precision_score, recall_score, f1_score\n",
    "from sklearn.preprocessing import LabelEncoder"
   ]
  },
  {
   "cell_type": "markdown",
   "id": "cfdd71a2",
   "metadata": {},
   "source": [
    "## The Wine Quality Dataset\n",
    "The wine quality dataset, available from the [UCI Machine Learning Repository](https://archive.ics.uci.edu/ml/machine-learning-databases/wine-quality/), consists of two semicolon-delimited files, one relating to Portuguese *Vinho Verde* red wines and one to whites. The datasets were produced by [Cortez et al.][cortezetal] in order to assess various machine learning algorithms in prediction of the quality of a wine from its properties. They considered support vector machines (SVM), multiple regression analysis, and neural networks. Of these the best performance was achieved using SVM [RPaper,RDatasheet].\n",
    "\n",
    "Twelve attributes are recorded for each wine sample; eleven are objective physical or chemical attributes, and one, `quality`, is a subjective assessment of the wine's quality. The `quality` attribute is recorded as a value from 0 (poorest quality) to 10 (best quality) and is derived from the median score assigned to it by at least three experts [RDatasheet].\n",
    "\n",
    "The data information sheet distributed with the data [R] notes that several attributes may be correlated and that not all attributes necessarily affect quality and suggests that feature selection may be advisable. The datasheet also suggests that the problem of wine quality prediction may be cast as a regression problem or as a classification problem."
   ]
  },
  {
   "cell_type": "markdown",
   "id": "f26a9ec8-9630-4c61-8620-85392e53cc2e",
   "metadata": {
    "jp-MarkdownHeadingCollapsed": true,
    "tags": []
   },
   "source": [
    "### Procedure\n",
    "\n",
    "1. [Acquire the data](#Acquire-the-dataset)\n",
    "1. [Split the data](#Split-the-data)\n",
    "1. [Explore the data](#Explore-the-dataset)\n",
    "    1. [View a sample of each dataset](#View-the-data)\n",
    "    1. [View the distribution of each feature](#View-the-distribution-of-each-feature)\n",
    "    1. [View distribution of target variable](#View-distribution-of-target-variable)\n",
    "    1. [View correlations between features](#View-feature-correlations)\n",
    "    1. [Assess relative influence of each feature on the target variable](#Assess-relative-influence-of-each-feature-on-the-target-variable)\n",
    "1. [Feature scaling](#Feature-scaling)\n",
    "1. [Dimensionality reduction](#Dimensionality-reduction)\n",
    "    1. [Feature selection](#Feature-selection)\n",
    "    1. [Principal Components Analysis](#Principal-components-analysis) \n",
    "1. Model selection\n",
    "    1. Decide on whether the problem will be cast as binary classification, multiclass classification, or regression\n",
    "    1. Adjust target variable as necessary\n",
    "    1. Select some suitable models\n",
    "1. Hyperparameter tuning\n",
    "    1. Construct a grid search or randomized search to test various combinations of hyperparameters\n",
    "1. Fit and assess models\n",
    "    1. Fit each model/hyperparameter/featureset combination\n",
    "    1. Conduct assessment appropriate to each combination\n",
    "    1. Select best candidates and fine tune\n",
    "1. Test predictions\n",
    "    1. Use trained model(s) to predict test set\n",
    "    2. Assess model performance on test set\n"
   ]
  },
  {
   "cell_type": "markdown",
   "id": "17edbbce",
   "metadata": {},
   "source": [
    "### Acquire the dataset\n",
    "The dataset is downloaded as two semicolon delimited files from the UCI Machine Learning Repository and saved to disc. "
   ]
  },
  {
   "cell_type": "code",
   "execution_count": 5,
   "id": "bb6629cd",
   "metadata": {},
   "outputs": [],
   "source": [
    "# Location of wine quality dataset\n",
    "base_url = 'https://archive.ics.uci.edu/ml/machine-learning-databases/wine-quality/'\n",
    "# Local data directory\n",
    "data_dir = 'data/wine/'\n",
    "\n",
    "# Names of dataset files to be downloaded\n",
    "source_files = ('winequality-red.csv', 'winequality-white.csv', 'winequality.names')\n",
    "\n",
    "# for each of the source files construct url, \n",
    "# fetch file, and write to data directory\n",
    "for datafile in (source_files):\n",
    "    response = requests.get(urljoin(base_url, datafile))\n",
    "    with open(os.path.join(data_dir, datafile), 'wb') as f:\n",
    "        f.write(response.content)"
   ]
  },
  {
   "cell_type": "markdown",
   "id": "480e6f98-a71e-4860-8d62-1025f89c6467",
   "metadata": {},
   "source": [
    "The data is then loaded into two pandas dataframes, one for the red wine dataset and one for the white."
   ]
  },
  {
   "cell_type": "code",
   "execution_count": 6,
   "id": "74ce7542-4095-4a60-bffb-9ded67433a82",
   "metadata": {},
   "outputs": [],
   "source": [
    "# Load red wine and white wine datasets into pandas DataFrames\n",
    "redwine = pd.read_csv('data/wine/winequality-red.csv', delimiter=\";\")\n",
    "whitewine = pd.read_csv('data/wine/winequality-white.csv', delimiter=\";\")"
   ]
  },
  {
   "cell_type": "markdown",
   "id": "d18fa45c-5449-41ae-a62f-82cfd614c5c5",
   "metadata": {},
   "source": [
    "## Split the data\n",
    "Each of the two wine datasets is split into a training set, representing 80% of the data, and a test set, representing the other 20%. The data is shuffled before splitting and the split is stratified on the `quality` output variable. This ensures that each category is proportionally represented in both the training and test sets. It is necessary to do this because, as noted [below](#View-distribution-of-target-variable), the target variable is unevenly distributed. The input features are also split from the target variable in both the training and testing sets. The input feature DataFrame names are prefixed with an `X` and the targets with a `y`. The split is conducted using `sklearn.model_selection.train_test_split()` [5]."
   ]
  },
  {
   "cell_type": "code",
   "execution_count": 7,
   "id": "8c7a9b14-03ef-4aa5-b54b-7993fcca3738",
   "metadata": {},
   "outputs": [],
   "source": [
    "# Merge quality ratngs so that 3,4 = low, 5,6 = medium, 7,8,9 = high\n",
    "for w in redwine, whitewine:\n",
    "    w['quality_cat'] = np.where(w['quality'] <= 4, 'low', np.where(w['quality'] >= 7, 'high', 'medium'))"
   ]
  },
  {
   "cell_type": "code",
   "execution_count": 8,
   "id": "780b1e70-6d08-4504-8770-679976e944ad",
   "metadata": {},
   "outputs": [],
   "source": [
    "# Split red wine data into random training and test (20%) subsets with stratified sampling on quality\n",
    "X_train_rw, X_test_rw, y_train_rw, y_test_rw = \\\n",
    "    train_test_split(redwine.drop('quality', axis=1), redwine['quality'], stratify=redwine['quality'], test_size=0.2)\n",
    "# Split red wine data into random training and test (20%) subsets with stratified sampling on quality\n",
    "X_train_ww, X_test_ww, y_train_ww, y_test_ww = \\\n",
    "    train_test_split(whitewine.drop('quality', axis=1), whitewine['quality'], stratify=whitewine['quality'], test_size=0.2)"
   ]
  },
  {
   "cell_type": "code",
   "execution_count": 9,
   "id": "eaac96be-d170-4ea9-9ce1-53903d9e9adf",
   "metadata": {},
   "outputs": [
    {
     "data": {
      "text/html": [
       "<div>\n",
       "<style scoped>\n",
       "    .dataframe tbody tr th:only-of-type {\n",
       "        vertical-align: middle;\n",
       "    }\n",
       "\n",
       "    .dataframe tbody tr th {\n",
       "        vertical-align: top;\n",
       "    }\n",
       "\n",
       "    .dataframe thead th {\n",
       "        text-align: right;\n",
       "    }\n",
       "</style>\n",
       "<table border=\"1\" class=\"dataframe\">\n",
       "  <thead>\n",
       "    <tr style=\"text-align: right;\">\n",
       "      <th></th>\n",
       "      <th>fixed acidity</th>\n",
       "      <th>volatile acidity</th>\n",
       "      <th>citric acid</th>\n",
       "      <th>residual sugar</th>\n",
       "      <th>chlorides</th>\n",
       "      <th>free sulfur dioxide</th>\n",
       "      <th>total sulfur dioxide</th>\n",
       "      <th>density</th>\n",
       "      <th>pH</th>\n",
       "      <th>sulphates</th>\n",
       "      <th>alcohol</th>\n",
       "      <th>quality_cat</th>\n",
       "    </tr>\n",
       "  </thead>\n",
       "  <tbody>\n",
       "    <tr>\n",
       "      <th>1499</th>\n",
       "      <td>6.9</td>\n",
       "      <td>0.74</td>\n",
       "      <td>0.03</td>\n",
       "      <td>2.3</td>\n",
       "      <td>0.054</td>\n",
       "      <td>7.0</td>\n",
       "      <td>16.0</td>\n",
       "      <td>0.99508</td>\n",
       "      <td>3.45</td>\n",
       "      <td>0.63</td>\n",
       "      <td>11.5</td>\n",
       "      <td>medium</td>\n",
       "    </tr>\n",
       "    <tr>\n",
       "      <th>95</th>\n",
       "      <td>4.7</td>\n",
       "      <td>0.60</td>\n",
       "      <td>0.17</td>\n",
       "      <td>2.3</td>\n",
       "      <td>0.058</td>\n",
       "      <td>17.0</td>\n",
       "      <td>106.0</td>\n",
       "      <td>0.99320</td>\n",
       "      <td>3.85</td>\n",
       "      <td>0.60</td>\n",
       "      <td>12.9</td>\n",
       "      <td>medium</td>\n",
       "    </tr>\n",
       "    <tr>\n",
       "      <th>641</th>\n",
       "      <td>9.5</td>\n",
       "      <td>0.59</td>\n",
       "      <td>0.44</td>\n",
       "      <td>2.3</td>\n",
       "      <td>0.071</td>\n",
       "      <td>21.0</td>\n",
       "      <td>68.0</td>\n",
       "      <td>0.99920</td>\n",
       "      <td>3.46</td>\n",
       "      <td>0.63</td>\n",
       "      <td>9.5</td>\n",
       "      <td>medium</td>\n",
       "    </tr>\n",
       "    <tr>\n",
       "      <th>380</th>\n",
       "      <td>8.3</td>\n",
       "      <td>0.26</td>\n",
       "      <td>0.42</td>\n",
       "      <td>2.0</td>\n",
       "      <td>0.080</td>\n",
       "      <td>11.0</td>\n",
       "      <td>27.0</td>\n",
       "      <td>0.99740</td>\n",
       "      <td>3.21</td>\n",
       "      <td>0.80</td>\n",
       "      <td>9.4</td>\n",
       "      <td>medium</td>\n",
       "    </tr>\n",
       "    <tr>\n",
       "      <th>590</th>\n",
       "      <td>9.0</td>\n",
       "      <td>0.45</td>\n",
       "      <td>0.49</td>\n",
       "      <td>2.6</td>\n",
       "      <td>0.084</td>\n",
       "      <td>21.0</td>\n",
       "      <td>75.0</td>\n",
       "      <td>0.99870</td>\n",
       "      <td>3.35</td>\n",
       "      <td>0.57</td>\n",
       "      <td>9.7</td>\n",
       "      <td>medium</td>\n",
       "    </tr>\n",
       "  </tbody>\n",
       "</table>\n",
       "</div>"
      ],
      "text/plain": [
       "      fixed acidity  volatile acidity  citric acid  residual sugar  chlorides  \\\n",
       "1499            6.9              0.74         0.03             2.3      0.054   \n",
       "95              4.7              0.60         0.17             2.3      0.058   \n",
       "641             9.5              0.59         0.44             2.3      0.071   \n",
       "380             8.3              0.26         0.42             2.0      0.080   \n",
       "590             9.0              0.45         0.49             2.6      0.084   \n",
       "\n",
       "      free sulfur dioxide  total sulfur dioxide  density    pH  sulphates  \\\n",
       "1499                  7.0                  16.0  0.99508  3.45       0.63   \n",
       "95                   17.0                 106.0  0.99320  3.85       0.60   \n",
       "641                  21.0                  68.0  0.99920  3.46       0.63   \n",
       "380                  11.0                  27.0  0.99740  3.21       0.80   \n",
       "590                  21.0                  75.0  0.99870  3.35       0.57   \n",
       "\n",
       "      alcohol quality_cat  \n",
       "1499     11.5      medium  \n",
       "95       12.9      medium  \n",
       "641       9.5      medium  \n",
       "380       9.4      medium  \n",
       "590       9.7      medium  "
      ]
     },
     "execution_count": 9,
     "metadata": {},
     "output_type": "execute_result"
    }
   ],
   "source": [
    "X_train_rw.head()"
   ]
  },
  {
   "cell_type": "code",
   "execution_count": 10,
   "id": "dfead91b-7bc0-48a9-9e06-3dac38749695",
   "metadata": {},
   "outputs": [],
   "source": [
    "# Create new train and test y values from the quality_cat column \n",
    "# and remove the column from the X value datasets\n",
    "# Red wine\n",
    "y_train_cat_rw, y_test_cat_rw = X_train_rw['quality_cat'], X_test_rw['quality_cat']\n",
    "X_train_rw, X_test_rw = X_train_rw.drop('quality_cat', axis=1), X_test_rw.drop('quality_cat', axis=1)\n",
    "\n",
    "# White wine\n",
    "y_train_cat_ww, y_test_cat_ww = X_train_ww['quality_cat'], X_test_ww['quality_cat']\n",
    "X_train_ww, X_test_ww = X_train_ww.drop('quality_cat', axis=1), X_test_ww.drop('quality_cat', axis=1)"
   ]
  },
  {
   "cell_type": "markdown",
   "id": "823c2743-7aec-435b-849b-7c2eb45e7edd",
   "metadata": {},
   "source": [
    "## Explore the dataset\n",
    "Two DataFrames are created, `rw` and `ww`, representing The red wine and white wine datasets respectively. They are subset from the original full datasets as loaded from csv using the training set indices. They will be used to explore the data. The instances in the test subsets must remain unseen if the analysis is to remain unbiased by their contents."
   ]
  },
  {
   "cell_type": "code",
   "execution_count": 11,
   "id": "fa7fba32-9080-4a6d-9534-8c27e3ca57e0",
   "metadata": {},
   "outputs": [],
   "source": [
    "rw = redwine.iloc[X_train_rw.index]\n",
    "ww = whitewine.iloc[X_train_ww.index]\n",
    "# Give the DataFrames name attributes for quick labelling of output\n",
    "rw.name, ww.name = \"Red Wine\", \"White Wine\""
   ]
  },
  {
   "cell_type": "markdown",
   "id": "99a2273d-7e72-4c31-9ac4-e147afc5b68b",
   "metadata": {},
   "source": [
    "### View the data\n",
    "The first five rows of each of the two DataFrames are viewed using `pandas.DataFrame.head()`. This gives a general idea of the structure of the dataset."
   ]
  },
  {
   "cell_type": "code",
   "execution_count": 12,
   "id": "842ac8cc-a561-4301-b5f5-d7c004d66d89",
   "metadata": {},
   "outputs": [
    {
     "name": "stdout",
     "output_type": "stream",
     "text": [
      "-----------\n",
      "Red Wine\n",
      "-----------\n"
     ]
    },
    {
     "data": {
      "text/html": [
       "<div>\n",
       "<style scoped>\n",
       "    .dataframe tbody tr th:only-of-type {\n",
       "        vertical-align: middle;\n",
       "    }\n",
       "\n",
       "    .dataframe tbody tr th {\n",
       "        vertical-align: top;\n",
       "    }\n",
       "\n",
       "    .dataframe thead th {\n",
       "        text-align: right;\n",
       "    }\n",
       "</style>\n",
       "<table border=\"1\" class=\"dataframe\">\n",
       "  <thead>\n",
       "    <tr style=\"text-align: right;\">\n",
       "      <th></th>\n",
       "      <th>fixed acidity</th>\n",
       "      <th>volatile acidity</th>\n",
       "      <th>citric acid</th>\n",
       "      <th>residual sugar</th>\n",
       "      <th>chlorides</th>\n",
       "      <th>free sulfur dioxide</th>\n",
       "      <th>total sulfur dioxide</th>\n",
       "      <th>density</th>\n",
       "      <th>pH</th>\n",
       "      <th>sulphates</th>\n",
       "      <th>alcohol</th>\n",
       "      <th>quality</th>\n",
       "      <th>quality_cat</th>\n",
       "    </tr>\n",
       "  </thead>\n",
       "  <tbody>\n",
       "    <tr>\n",
       "      <th>1499</th>\n",
       "      <td>6.9</td>\n",
       "      <td>0.74</td>\n",
       "      <td>0.03</td>\n",
       "      <td>2.3</td>\n",
       "      <td>0.054</td>\n",
       "      <td>7.0</td>\n",
       "      <td>16.0</td>\n",
       "      <td>0.99508</td>\n",
       "      <td>3.45</td>\n",
       "      <td>0.63</td>\n",
       "      <td>11.5</td>\n",
       "      <td>6</td>\n",
       "      <td>medium</td>\n",
       "    </tr>\n",
       "    <tr>\n",
       "      <th>95</th>\n",
       "      <td>4.7</td>\n",
       "      <td>0.60</td>\n",
       "      <td>0.17</td>\n",
       "      <td>2.3</td>\n",
       "      <td>0.058</td>\n",
       "      <td>17.0</td>\n",
       "      <td>106.0</td>\n",
       "      <td>0.99320</td>\n",
       "      <td>3.85</td>\n",
       "      <td>0.60</td>\n",
       "      <td>12.9</td>\n",
       "      <td>6</td>\n",
       "      <td>medium</td>\n",
       "    </tr>\n",
       "    <tr>\n",
       "      <th>641</th>\n",
       "      <td>9.5</td>\n",
       "      <td>0.59</td>\n",
       "      <td>0.44</td>\n",
       "      <td>2.3</td>\n",
       "      <td>0.071</td>\n",
       "      <td>21.0</td>\n",
       "      <td>68.0</td>\n",
       "      <td>0.99920</td>\n",
       "      <td>3.46</td>\n",
       "      <td>0.63</td>\n",
       "      <td>9.5</td>\n",
       "      <td>5</td>\n",
       "      <td>medium</td>\n",
       "    </tr>\n",
       "    <tr>\n",
       "      <th>380</th>\n",
       "      <td>8.3</td>\n",
       "      <td>0.26</td>\n",
       "      <td>0.42</td>\n",
       "      <td>2.0</td>\n",
       "      <td>0.080</td>\n",
       "      <td>11.0</td>\n",
       "      <td>27.0</td>\n",
       "      <td>0.99740</td>\n",
       "      <td>3.21</td>\n",
       "      <td>0.80</td>\n",
       "      <td>9.4</td>\n",
       "      <td>6</td>\n",
       "      <td>medium</td>\n",
       "    </tr>\n",
       "    <tr>\n",
       "      <th>590</th>\n",
       "      <td>9.0</td>\n",
       "      <td>0.45</td>\n",
       "      <td>0.49</td>\n",
       "      <td>2.6</td>\n",
       "      <td>0.084</td>\n",
       "      <td>21.0</td>\n",
       "      <td>75.0</td>\n",
       "      <td>0.99870</td>\n",
       "      <td>3.35</td>\n",
       "      <td>0.57</td>\n",
       "      <td>9.7</td>\n",
       "      <td>5</td>\n",
       "      <td>medium</td>\n",
       "    </tr>\n",
       "  </tbody>\n",
       "</table>\n",
       "</div>"
      ],
      "text/plain": [
       "      fixed acidity  volatile acidity  citric acid  residual sugar  chlorides  \\\n",
       "1499            6.9              0.74         0.03             2.3      0.054   \n",
       "95              4.7              0.60         0.17             2.3      0.058   \n",
       "641             9.5              0.59         0.44             2.3      0.071   \n",
       "380             8.3              0.26         0.42             2.0      0.080   \n",
       "590             9.0              0.45         0.49             2.6      0.084   \n",
       "\n",
       "      free sulfur dioxide  total sulfur dioxide  density    pH  sulphates  \\\n",
       "1499                  7.0                  16.0  0.99508  3.45       0.63   \n",
       "95                   17.0                 106.0  0.99320  3.85       0.60   \n",
       "641                  21.0                  68.0  0.99920  3.46       0.63   \n",
       "380                  11.0                  27.0  0.99740  3.21       0.80   \n",
       "590                  21.0                  75.0  0.99870  3.35       0.57   \n",
       "\n",
       "      alcohol  quality quality_cat  \n",
       "1499     11.5        6      medium  \n",
       "95       12.9        6      medium  \n",
       "641       9.5        5      medium  \n",
       "380       9.4        6      medium  \n",
       "590       9.7        5      medium  "
      ]
     },
     "metadata": {},
     "output_type": "display_data"
    },
    {
     "name": "stdout",
     "output_type": "stream",
     "text": [
      "-----------\n",
      "White Wine\n",
      "-----------\n"
     ]
    },
    {
     "data": {
      "text/html": [
       "<div>\n",
       "<style scoped>\n",
       "    .dataframe tbody tr th:only-of-type {\n",
       "        vertical-align: middle;\n",
       "    }\n",
       "\n",
       "    .dataframe tbody tr th {\n",
       "        vertical-align: top;\n",
       "    }\n",
       "\n",
       "    .dataframe thead th {\n",
       "        text-align: right;\n",
       "    }\n",
       "</style>\n",
       "<table border=\"1\" class=\"dataframe\">\n",
       "  <thead>\n",
       "    <tr style=\"text-align: right;\">\n",
       "      <th></th>\n",
       "      <th>fixed acidity</th>\n",
       "      <th>volatile acidity</th>\n",
       "      <th>citric acid</th>\n",
       "      <th>residual sugar</th>\n",
       "      <th>chlorides</th>\n",
       "      <th>free sulfur dioxide</th>\n",
       "      <th>total sulfur dioxide</th>\n",
       "      <th>density</th>\n",
       "      <th>pH</th>\n",
       "      <th>sulphates</th>\n",
       "      <th>alcohol</th>\n",
       "      <th>quality</th>\n",
       "      <th>quality_cat</th>\n",
       "    </tr>\n",
       "  </thead>\n",
       "  <tbody>\n",
       "    <tr>\n",
       "      <th>2641</th>\n",
       "      <td>6.1</td>\n",
       "      <td>0.15</td>\n",
       "      <td>0.35</td>\n",
       "      <td>15.8</td>\n",
       "      <td>0.042</td>\n",
       "      <td>55.0</td>\n",
       "      <td>158.0</td>\n",
       "      <td>0.99642</td>\n",
       "      <td>3.24</td>\n",
       "      <td>0.37</td>\n",
       "      <td>10.6</td>\n",
       "      <td>5</td>\n",
       "      <td>medium</td>\n",
       "    </tr>\n",
       "    <tr>\n",
       "      <th>1783</th>\n",
       "      <td>8.7</td>\n",
       "      <td>0.45</td>\n",
       "      <td>0.40</td>\n",
       "      <td>1.5</td>\n",
       "      <td>0.067</td>\n",
       "      <td>17.0</td>\n",
       "      <td>100.0</td>\n",
       "      <td>0.99570</td>\n",
       "      <td>3.27</td>\n",
       "      <td>0.57</td>\n",
       "      <td>10.1</td>\n",
       "      <td>6</td>\n",
       "      <td>medium</td>\n",
       "    </tr>\n",
       "    <tr>\n",
       "      <th>1124</th>\n",
       "      <td>9.6</td>\n",
       "      <td>0.23</td>\n",
       "      <td>0.40</td>\n",
       "      <td>1.5</td>\n",
       "      <td>0.044</td>\n",
       "      <td>19.0</td>\n",
       "      <td>135.0</td>\n",
       "      <td>0.99370</td>\n",
       "      <td>2.96</td>\n",
       "      <td>0.49</td>\n",
       "      <td>10.9</td>\n",
       "      <td>5</td>\n",
       "      <td>medium</td>\n",
       "    </tr>\n",
       "    <tr>\n",
       "      <th>1087</th>\n",
       "      <td>7.0</td>\n",
       "      <td>0.24</td>\n",
       "      <td>0.32</td>\n",
       "      <td>1.3</td>\n",
       "      <td>0.037</td>\n",
       "      <td>39.0</td>\n",
       "      <td>123.0</td>\n",
       "      <td>0.99200</td>\n",
       "      <td>3.17</td>\n",
       "      <td>0.42</td>\n",
       "      <td>11.2</td>\n",
       "      <td>8</td>\n",
       "      <td>high</td>\n",
       "    </tr>\n",
       "    <tr>\n",
       "      <th>3592</th>\n",
       "      <td>5.6</td>\n",
       "      <td>0.28</td>\n",
       "      <td>0.27</td>\n",
       "      <td>3.9</td>\n",
       "      <td>0.043</td>\n",
       "      <td>52.0</td>\n",
       "      <td>158.0</td>\n",
       "      <td>0.99202</td>\n",
       "      <td>3.35</td>\n",
       "      <td>0.44</td>\n",
       "      <td>10.7</td>\n",
       "      <td>7</td>\n",
       "      <td>high</td>\n",
       "    </tr>\n",
       "  </tbody>\n",
       "</table>\n",
       "</div>"
      ],
      "text/plain": [
       "      fixed acidity  volatile acidity  citric acid  residual sugar  chlorides  \\\n",
       "2641            6.1              0.15         0.35            15.8      0.042   \n",
       "1783            8.7              0.45         0.40             1.5      0.067   \n",
       "1124            9.6              0.23         0.40             1.5      0.044   \n",
       "1087            7.0              0.24         0.32             1.3      0.037   \n",
       "3592            5.6              0.28         0.27             3.9      0.043   \n",
       "\n",
       "      free sulfur dioxide  total sulfur dioxide  density    pH  sulphates  \\\n",
       "2641                 55.0                 158.0  0.99642  3.24       0.37   \n",
       "1783                 17.0                 100.0  0.99570  3.27       0.57   \n",
       "1124                 19.0                 135.0  0.99370  2.96       0.49   \n",
       "1087                 39.0                 123.0  0.99200  3.17       0.42   \n",
       "3592                 52.0                 158.0  0.99202  3.35       0.44   \n",
       "\n",
       "      alcohol  quality quality_cat  \n",
       "2641     10.6        5      medium  \n",
       "1783     10.1        6      medium  \n",
       "1124     10.9        5      medium  \n",
       "1087     11.2        8        high  \n",
       "3592     10.7        7        high  "
      ]
     },
     "metadata": {},
     "output_type": "display_data"
    }
   ],
   "source": [
    "for w in rw, ww:\n",
    "    print(f\"-----------\\n{w.name}\\n-----------\")\n",
    "    display(w.head())"
   ]
  },
  {
   "cell_type": "markdown",
   "id": "4844c883-c174-4725-b7bd-2004e5ffe9bf",
   "metadata": {},
   "source": [
    "***\n",
    "\n",
    "The `DataFrame.info()` function returns the name, count, and datatype of each feature in the DataFrame. Each of the two wine datasets consists of 11 input variables of type `float64` and one out put variable of type `int64`. The red wine data contains 1599 samples and the white wine data contains 4898. Neither has any missing values."
   ]
  },
  {
   "cell_type": "code",
   "execution_count": 13,
   "id": "5b295801-6672-43ec-be32-616c104e0071",
   "metadata": {},
   "outputs": [
    {
     "name": "stdout",
     "output_type": "stream",
     "text": [
      "-----------\n",
      "Red Wine\n",
      "-----------\n",
      "<class 'pandas.core.frame.DataFrame'>\n",
      "Int64Index: 1279 entries, 1499 to 104\n",
      "Data columns (total 13 columns):\n",
      " #   Column                Non-Null Count  Dtype  \n",
      "---  ------                --------------  -----  \n",
      " 0   fixed acidity         1279 non-null   float64\n",
      " 1   volatile acidity      1279 non-null   float64\n",
      " 2   citric acid           1279 non-null   float64\n",
      " 3   residual sugar        1279 non-null   float64\n",
      " 4   chlorides             1279 non-null   float64\n",
      " 5   free sulfur dioxide   1279 non-null   float64\n",
      " 6   total sulfur dioxide  1279 non-null   float64\n",
      " 7   density               1279 non-null   float64\n",
      " 8   pH                    1279 non-null   float64\n",
      " 9   sulphates             1279 non-null   float64\n",
      " 10  alcohol               1279 non-null   float64\n",
      " 11  quality               1279 non-null   int64  \n",
      " 12  quality_cat           1279 non-null   object \n",
      "dtypes: float64(11), int64(1), object(1)\n",
      "memory usage: 139.9+ KB\n",
      "None\n",
      "-----------\n",
      "White Wine\n",
      "-----------\n",
      "<class 'pandas.core.frame.DataFrame'>\n",
      "Int64Index: 3918 entries, 2641 to 2566\n",
      "Data columns (total 13 columns):\n",
      " #   Column                Non-Null Count  Dtype  \n",
      "---  ------                --------------  -----  \n",
      " 0   fixed acidity         3918 non-null   float64\n",
      " 1   volatile acidity      3918 non-null   float64\n",
      " 2   citric acid           3918 non-null   float64\n",
      " 3   residual sugar        3918 non-null   float64\n",
      " 4   chlorides             3918 non-null   float64\n",
      " 5   free sulfur dioxide   3918 non-null   float64\n",
      " 6   total sulfur dioxide  3918 non-null   float64\n",
      " 7   density               3918 non-null   float64\n",
      " 8   pH                    3918 non-null   float64\n",
      " 9   sulphates             3918 non-null   float64\n",
      " 10  alcohol               3918 non-null   float64\n",
      " 11  quality               3918 non-null   int64  \n",
      " 12  quality_cat           3918 non-null   object \n",
      "dtypes: float64(11), int64(1), object(1)\n",
      "memory usage: 428.5+ KB\n",
      "None\n"
     ]
    }
   ],
   "source": [
    "for w in rw, ww:\n",
    "    print(f\"-----------\\n{w.name}\\n-----------\")\n",
    "    print(w.info())"
   ]
  },
  {
   "cell_type": "markdown",
   "id": "fcf5b054-af88-43f6-865c-7201c9689658",
   "metadata": {},
   "source": [
    "***\n",
    "\n",
    "The `DataFrame.describe()` function returns a table containing descriptive statistics for each of the features."
   ]
  },
  {
   "cell_type": "code",
   "execution_count": 14,
   "id": "1bbe98cc-3ee1-472e-a28b-93bd59517967",
   "metadata": {},
   "outputs": [
    {
     "name": "stdout",
     "output_type": "stream",
     "text": [
      "-----------\n",
      "Red Wine\n",
      "-----------\n"
     ]
    },
    {
     "data": {
      "text/html": [
       "<div>\n",
       "<style scoped>\n",
       "    .dataframe tbody tr th:only-of-type {\n",
       "        vertical-align: middle;\n",
       "    }\n",
       "\n",
       "    .dataframe tbody tr th {\n",
       "        vertical-align: top;\n",
       "    }\n",
       "\n",
       "    .dataframe thead th {\n",
       "        text-align: right;\n",
       "    }\n",
       "</style>\n",
       "<table border=\"1\" class=\"dataframe\">\n",
       "  <thead>\n",
       "    <tr style=\"text-align: right;\">\n",
       "      <th></th>\n",
       "      <th>fixed acidity</th>\n",
       "      <th>volatile acidity</th>\n",
       "      <th>citric acid</th>\n",
       "      <th>residual sugar</th>\n",
       "      <th>chlorides</th>\n",
       "      <th>free sulfur dioxide</th>\n",
       "      <th>total sulfur dioxide</th>\n",
       "      <th>density</th>\n",
       "      <th>pH</th>\n",
       "      <th>sulphates</th>\n",
       "      <th>alcohol</th>\n",
       "      <th>quality</th>\n",
       "    </tr>\n",
       "  </thead>\n",
       "  <tbody>\n",
       "    <tr>\n",
       "      <th>count</th>\n",
       "      <td>1279.00</td>\n",
       "      <td>1279.00</td>\n",
       "      <td>1279.00</td>\n",
       "      <td>1279.00</td>\n",
       "      <td>1279.00</td>\n",
       "      <td>1279.00</td>\n",
       "      <td>1279.00</td>\n",
       "      <td>1279.00</td>\n",
       "      <td>1279.00</td>\n",
       "      <td>1279.00</td>\n",
       "      <td>1279.00</td>\n",
       "      <td>1279.00</td>\n",
       "    </tr>\n",
       "    <tr>\n",
       "      <th>mean</th>\n",
       "      <td>8.31</td>\n",
       "      <td>0.53</td>\n",
       "      <td>0.27</td>\n",
       "      <td>2.56</td>\n",
       "      <td>0.09</td>\n",
       "      <td>16.07</td>\n",
       "      <td>47.02</td>\n",
       "      <td>1.00</td>\n",
       "      <td>3.31</td>\n",
       "      <td>0.65</td>\n",
       "      <td>10.43</td>\n",
       "      <td>5.64</td>\n",
       "    </tr>\n",
       "    <tr>\n",
       "      <th>std</th>\n",
       "      <td>1.72</td>\n",
       "      <td>0.18</td>\n",
       "      <td>0.19</td>\n",
       "      <td>1.45</td>\n",
       "      <td>0.05</td>\n",
       "      <td>10.56</td>\n",
       "      <td>33.50</td>\n",
       "      <td>0.00</td>\n",
       "      <td>0.15</td>\n",
       "      <td>0.16</td>\n",
       "      <td>1.07</td>\n",
       "      <td>0.81</td>\n",
       "    </tr>\n",
       "    <tr>\n",
       "      <th>min</th>\n",
       "      <td>4.60</td>\n",
       "      <td>0.12</td>\n",
       "      <td>0.00</td>\n",
       "      <td>0.90</td>\n",
       "      <td>0.01</td>\n",
       "      <td>1.00</td>\n",
       "      <td>6.00</td>\n",
       "      <td>0.99</td>\n",
       "      <td>2.74</td>\n",
       "      <td>0.33</td>\n",
       "      <td>8.50</td>\n",
       "      <td>3.00</td>\n",
       "    </tr>\n",
       "    <tr>\n",
       "      <th>25%</th>\n",
       "      <td>7.10</td>\n",
       "      <td>0.40</td>\n",
       "      <td>0.10</td>\n",
       "      <td>1.90</td>\n",
       "      <td>0.07</td>\n",
       "      <td>7.00</td>\n",
       "      <td>22.00</td>\n",
       "      <td>1.00</td>\n",
       "      <td>3.21</td>\n",
       "      <td>0.55</td>\n",
       "      <td>9.50</td>\n",
       "      <td>5.00</td>\n",
       "    </tr>\n",
       "    <tr>\n",
       "      <th>50%</th>\n",
       "      <td>7.90</td>\n",
       "      <td>0.52</td>\n",
       "      <td>0.25</td>\n",
       "      <td>2.20</td>\n",
       "      <td>0.08</td>\n",
       "      <td>14.00</td>\n",
       "      <td>38.00</td>\n",
       "      <td>1.00</td>\n",
       "      <td>3.31</td>\n",
       "      <td>0.62</td>\n",
       "      <td>10.20</td>\n",
       "      <td>6.00</td>\n",
       "    </tr>\n",
       "    <tr>\n",
       "      <th>75%</th>\n",
       "      <td>9.20</td>\n",
       "      <td>0.64</td>\n",
       "      <td>0.42</td>\n",
       "      <td>2.60</td>\n",
       "      <td>0.09</td>\n",
       "      <td>22.00</td>\n",
       "      <td>63.00</td>\n",
       "      <td>1.00</td>\n",
       "      <td>3.40</td>\n",
       "      <td>0.73</td>\n",
       "      <td>11.10</td>\n",
       "      <td>6.00</td>\n",
       "    </tr>\n",
       "    <tr>\n",
       "      <th>max</th>\n",
       "      <td>15.90</td>\n",
       "      <td>1.58</td>\n",
       "      <td>1.00</td>\n",
       "      <td>15.50</td>\n",
       "      <td>0.61</td>\n",
       "      <td>72.00</td>\n",
       "      <td>289.00</td>\n",
       "      <td>1.00</td>\n",
       "      <td>3.90</td>\n",
       "      <td>2.00</td>\n",
       "      <td>14.90</td>\n",
       "      <td>8.00</td>\n",
       "    </tr>\n",
       "  </tbody>\n",
       "</table>\n",
       "</div>"
      ],
      "text/plain": [
       "       fixed acidity  volatile acidity  citric acid  residual sugar  \\\n",
       "count        1279.00           1279.00      1279.00         1279.00   \n",
       "mean            8.31              0.53         0.27            2.56   \n",
       "std             1.72              0.18         0.19            1.45   \n",
       "min             4.60              0.12         0.00            0.90   \n",
       "25%             7.10              0.40         0.10            1.90   \n",
       "50%             7.90              0.52         0.25            2.20   \n",
       "75%             9.20              0.64         0.42            2.60   \n",
       "max            15.90              1.58         1.00           15.50   \n",
       "\n",
       "       chlorides  free sulfur dioxide  total sulfur dioxide  density       pH  \\\n",
       "count    1279.00              1279.00               1279.00  1279.00  1279.00   \n",
       "mean        0.09                16.07                 47.02     1.00     3.31   \n",
       "std         0.05                10.56                 33.50     0.00     0.15   \n",
       "min         0.01                 1.00                  6.00     0.99     2.74   \n",
       "25%         0.07                 7.00                 22.00     1.00     3.21   \n",
       "50%         0.08                14.00                 38.00     1.00     3.31   \n",
       "75%         0.09                22.00                 63.00     1.00     3.40   \n",
       "max         0.61                72.00                289.00     1.00     3.90   \n",
       "\n",
       "       sulphates  alcohol  quality  \n",
       "count    1279.00  1279.00  1279.00  \n",
       "mean        0.65    10.43     5.64  \n",
       "std         0.16     1.07     0.81  \n",
       "min         0.33     8.50     3.00  \n",
       "25%         0.55     9.50     5.00  \n",
       "50%         0.62    10.20     6.00  \n",
       "75%         0.73    11.10     6.00  \n",
       "max         2.00    14.90     8.00  "
      ]
     },
     "metadata": {},
     "output_type": "display_data"
    },
    {
     "name": "stdout",
     "output_type": "stream",
     "text": [
      "-----------\n",
      "White Wine\n",
      "-----------\n"
     ]
    },
    {
     "data": {
      "text/html": [
       "<div>\n",
       "<style scoped>\n",
       "    .dataframe tbody tr th:only-of-type {\n",
       "        vertical-align: middle;\n",
       "    }\n",
       "\n",
       "    .dataframe tbody tr th {\n",
       "        vertical-align: top;\n",
       "    }\n",
       "\n",
       "    .dataframe thead th {\n",
       "        text-align: right;\n",
       "    }\n",
       "</style>\n",
       "<table border=\"1\" class=\"dataframe\">\n",
       "  <thead>\n",
       "    <tr style=\"text-align: right;\">\n",
       "      <th></th>\n",
       "      <th>fixed acidity</th>\n",
       "      <th>volatile acidity</th>\n",
       "      <th>citric acid</th>\n",
       "      <th>residual sugar</th>\n",
       "      <th>chlorides</th>\n",
       "      <th>free sulfur dioxide</th>\n",
       "      <th>total sulfur dioxide</th>\n",
       "      <th>density</th>\n",
       "      <th>pH</th>\n",
       "      <th>sulphates</th>\n",
       "      <th>alcohol</th>\n",
       "      <th>quality</th>\n",
       "    </tr>\n",
       "  </thead>\n",
       "  <tbody>\n",
       "    <tr>\n",
       "      <th>count</th>\n",
       "      <td>3918.00</td>\n",
       "      <td>3918.00</td>\n",
       "      <td>3918.00</td>\n",
       "      <td>3918.00</td>\n",
       "      <td>3918.00</td>\n",
       "      <td>3918.0</td>\n",
       "      <td>3918.00</td>\n",
       "      <td>3918.00</td>\n",
       "      <td>3918.00</td>\n",
       "      <td>3918.00</td>\n",
       "      <td>3918.00</td>\n",
       "      <td>3918.00</td>\n",
       "    </tr>\n",
       "    <tr>\n",
       "      <th>mean</th>\n",
       "      <td>6.86</td>\n",
       "      <td>0.28</td>\n",
       "      <td>0.33</td>\n",
       "      <td>6.38</td>\n",
       "      <td>0.05</td>\n",
       "      <td>35.2</td>\n",
       "      <td>138.09</td>\n",
       "      <td>0.99</td>\n",
       "      <td>3.19</td>\n",
       "      <td>0.49</td>\n",
       "      <td>10.53</td>\n",
       "      <td>5.88</td>\n",
       "    </tr>\n",
       "    <tr>\n",
       "      <th>std</th>\n",
       "      <td>0.85</td>\n",
       "      <td>0.10</td>\n",
       "      <td>0.12</td>\n",
       "      <td>5.08</td>\n",
       "      <td>0.02</td>\n",
       "      <td>16.7</td>\n",
       "      <td>42.54</td>\n",
       "      <td>0.00</td>\n",
       "      <td>0.15</td>\n",
       "      <td>0.11</td>\n",
       "      <td>1.24</td>\n",
       "      <td>0.89</td>\n",
       "    </tr>\n",
       "    <tr>\n",
       "      <th>min</th>\n",
       "      <td>3.80</td>\n",
       "      <td>0.08</td>\n",
       "      <td>0.00</td>\n",
       "      <td>0.60</td>\n",
       "      <td>0.01</td>\n",
       "      <td>2.0</td>\n",
       "      <td>9.00</td>\n",
       "      <td>0.99</td>\n",
       "      <td>2.72</td>\n",
       "      <td>0.22</td>\n",
       "      <td>8.00</td>\n",
       "      <td>3.00</td>\n",
       "    </tr>\n",
       "    <tr>\n",
       "      <th>25%</th>\n",
       "      <td>6.30</td>\n",
       "      <td>0.21</td>\n",
       "      <td>0.27</td>\n",
       "      <td>1.70</td>\n",
       "      <td>0.04</td>\n",
       "      <td>23.0</td>\n",
       "      <td>108.00</td>\n",
       "      <td>0.99</td>\n",
       "      <td>3.08</td>\n",
       "      <td>0.41</td>\n",
       "      <td>9.50</td>\n",
       "      <td>5.00</td>\n",
       "    </tr>\n",
       "    <tr>\n",
       "      <th>50%</th>\n",
       "      <td>6.80</td>\n",
       "      <td>0.26</td>\n",
       "      <td>0.32</td>\n",
       "      <td>5.20</td>\n",
       "      <td>0.04</td>\n",
       "      <td>34.0</td>\n",
       "      <td>134.00</td>\n",
       "      <td>0.99</td>\n",
       "      <td>3.17</td>\n",
       "      <td>0.47</td>\n",
       "      <td>10.40</td>\n",
       "      <td>6.00</td>\n",
       "    </tr>\n",
       "    <tr>\n",
       "      <th>75%</th>\n",
       "      <td>7.30</td>\n",
       "      <td>0.32</td>\n",
       "      <td>0.39</td>\n",
       "      <td>9.90</td>\n",
       "      <td>0.05</td>\n",
       "      <td>46.0</td>\n",
       "      <td>167.00</td>\n",
       "      <td>1.00</td>\n",
       "      <td>3.28</td>\n",
       "      <td>0.55</td>\n",
       "      <td>11.40</td>\n",
       "      <td>6.00</td>\n",
       "    </tr>\n",
       "    <tr>\n",
       "      <th>max</th>\n",
       "      <td>14.20</td>\n",
       "      <td>1.10</td>\n",
       "      <td>1.66</td>\n",
       "      <td>65.80</td>\n",
       "      <td>0.35</td>\n",
       "      <td>146.5</td>\n",
       "      <td>366.50</td>\n",
       "      <td>1.04</td>\n",
       "      <td>3.82</td>\n",
       "      <td>1.08</td>\n",
       "      <td>14.20</td>\n",
       "      <td>9.00</td>\n",
       "    </tr>\n",
       "  </tbody>\n",
       "</table>\n",
       "</div>"
      ],
      "text/plain": [
       "       fixed acidity  volatile acidity  citric acid  residual sugar  \\\n",
       "count        3918.00           3918.00      3918.00         3918.00   \n",
       "mean            6.86              0.28         0.33            6.38   \n",
       "std             0.85              0.10         0.12            5.08   \n",
       "min             3.80              0.08         0.00            0.60   \n",
       "25%             6.30              0.21         0.27            1.70   \n",
       "50%             6.80              0.26         0.32            5.20   \n",
       "75%             7.30              0.32         0.39            9.90   \n",
       "max            14.20              1.10         1.66           65.80   \n",
       "\n",
       "       chlorides  free sulfur dioxide  total sulfur dioxide  density       pH  \\\n",
       "count    3918.00               3918.0               3918.00  3918.00  3918.00   \n",
       "mean        0.05                 35.2                138.09     0.99     3.19   \n",
       "std         0.02                 16.7                 42.54     0.00     0.15   \n",
       "min         0.01                  2.0                  9.00     0.99     2.72   \n",
       "25%         0.04                 23.0                108.00     0.99     3.08   \n",
       "50%         0.04                 34.0                134.00     0.99     3.17   \n",
       "75%         0.05                 46.0                167.00     1.00     3.28   \n",
       "max         0.35                146.5                366.50     1.04     3.82   \n",
       "\n",
       "       sulphates  alcohol  quality  \n",
       "count    3918.00  3918.00  3918.00  \n",
       "mean        0.49    10.53     5.88  \n",
       "std         0.11     1.24     0.89  \n",
       "min         0.22     8.00     3.00  \n",
       "25%         0.41     9.50     5.00  \n",
       "50%         0.47    10.40     6.00  \n",
       "75%         0.55    11.40     6.00  \n",
       "max         1.08    14.20     9.00  "
      ]
     },
     "metadata": {},
     "output_type": "display_data"
    }
   ],
   "source": [
    "for w in rw, ww:\n",
    "    print(f\"-----------\\n{w.name}\\n-----------\")\n",
    "    display(w.describe().round(2))"
   ]
  },
  {
   "cell_type": "markdown",
   "id": "2a1e0150-d0f3-4b64-9406-8fd592a8abc5",
   "metadata": {},
   "source": [
    "***\n",
    "\n",
    "### View the distribution of each feature\n",
    "\n",
    "`DataFrame.hist()` produces a histogram for each feature which can be displayed with `plt.show()`. Some points to note are:\n",
    "- It looks like `citric acid` in the red wine dataset, and `residual sugar` in the white wine dataset contain a lot of zero values.\n",
    "- A number of features have very long tails, in particular `residual sugar`, `chlorides`, `total sulfur dioxide`, and `sulphates`.\n",
    "- There is considerable variation in the attributes' scales.\n",
    "- The target values are very unevenly distributed with a great many more instances falling around the medium quality ratings than the low and high ratings.\n",
    "\n",
    "[4] 50-51"
   ]
  },
  {
   "cell_type": "code",
   "execution_count": 15,
   "id": "8601083b",
   "metadata": {},
   "outputs": [
    {
     "data": {
      "image/png": "[encoded data removed]",
      "text/plain": [
       "<Figure size 1080x720 with 12 Axes>"
      ]
     },
     "metadata": {},
     "output_type": "display_data"
    },
    {
     "data": {
      "image/png": "[encoded data removed]",
      "text/plain": [
       "<Figure size 1080x720 with 12 Axes>"
      ]
     },
     "metadata": {},
     "output_type": "display_data"
    }
   ],
   "source": [
    "# View a histogram of each feature\n",
    "for w in rw, ww:\n",
    "    # Set plot style\n",
    "    with plt.style.context('seaborn'):\n",
    "        # Construct histogram with 50 bins for each feature\n",
    "        hist = w.hist(bins=50, figsize=(15, 10))\n",
    "        # Title for each set of histograms\n",
    "        plt.gcf().suptitle(w.name)\n",
    "    plt.show()"
   ]
  },
  {
   "cell_type": "markdown",
   "id": "38b38cf3-5027-4c48-a606-dc10797e6042",
   "metadata": {},
   "source": [
    "***\n",
    "\n",
    "### View distribution of target variable\n",
    "The target variable in this dataset is `quality`. As is obvious from the histograms above, the distribution of the output variable heavily favours the central categories. The red wine dataset is sorted into six ordinal categories from 3 to 8. Categories `5` and `6` represent over 80% of the data. The lowest category, `3`, occurs in only 8 instances, representing 0.6% of the dataset; `4` occurs 42 times  - 1.1% of total ratings. At the upper end of the scale `7` occurs 159 times or ~12% and just 15 red wines, ~1%, hold the higest rating of `8`. \n",
    "\n",
    "The white wine dataset shows a similar imbalance. Of its 7 rating categories, 3 to 8, over 90 % fall into the medium group, `5`, `6`, and `7`. Categories `3` and `4` account for a combined 4% of instances, with just 16 wines with a rating of `3`. Similarly, `8` and `9` occur in less than 4% of samples; `9` only occurring 4 times.\n",
    "\n"
   ]
  },
  {
   "cell_type": "code",
   "execution_count": 16,
   "id": "a73dda4c-9c8d-425d-ad47-676e7d76ce72",
   "metadata": {},
   "outputs": [
    {
     "name": "stdout",
     "output_type": "stream",
     "text": [
      "-----------\n",
      "Red Wine\n",
      "-----------\n",
      "   Count  Percent\n",
      "5    545    42.61\n",
      "6    510    39.87\n",
      "7    159    12.43\n",
      "4     42     3.28\n",
      "8     15     1.17\n",
      "3      8     0.63\n",
      "-----------\n",
      "White Wine\n",
      "-----------\n",
      "   Count  Percent\n",
      "6   1758    44.87\n",
      "5   1166    29.76\n",
      "7    704    17.97\n",
      "8    140     3.57\n",
      "4    130     3.32\n",
      "3     16     0.41\n",
      "9      4     0.10\n"
     ]
    }
   ],
   "source": [
    "# Count occurences of each quality class and calculate percents of total\n",
    "for w in rw, ww:\n",
    "    print(f\"-----------\\n{w.name}\\n-----------\")\n",
    "    # Count occurrences of each category\n",
    "    wc = w.quality.value_counts()\n",
    "    # Calculate percent of total number of samples\n",
    "    wp = round(w.quality.value_counts() / len(w) * 100, 2)\n",
    "    # Place in dataframe for ease of presentation and display\n",
    "    df = pd.concat((wc,wp), axis=1)\n",
    "    df.columns = ('Count', 'Percent')\n",
    "    print(df)"
   ]
  },
  {
   "cell_type": "markdown",
   "id": "ef4f30af-366a-47b5-a691-b394beb52dbe",
   "metadata": {},
   "source": [
    "***\n",
    "\n",
    "### View feature correlations\n",
    "\n",
    "For each of the wine datasets (red and white), a correlation matrix is calculated using *pandas* `DataFrame.corr()` function. The correlation coefficient is calcualted between each pair of numeric variables using Pearson's r. The resulting matrices are displayed as heatmaps using `seaborn.heatmap()`. The colourmap used is set to saturate at a correlation coefficient of 0.5 so that high correlations are very obvious. For the same reason the diagonal of the correlation matrix, which always holds a 1.0 as it is the value of a feature's correlation with itself, is removed.\n",
    "\n",
    "The correlation heatmaps reveal the following:\n",
    "\n",
    "- In the red wine dataset:\n",
    "    - `Fixed acidity` is strongly correlated with each of `citric acid`, `density`, and `pH`\n",
    "    - `Volatile acidity` is moderately correlated with `citric acid`\n",
    "    - `Citric acid`, in addtion to it's correlations with `fixed acidity` and `volatile acidity`, also displays a moderate correlation with `pH`\n",
    "    - `Total sulfur dioxide` and `free sulfur dioxide` are highly correlated\n",
    "    - `Density` has a correlation of 0.49 with `alcohol`\n",
    "    \n",
    "- In the white wine dataset:\n",
    "    - `Fixed acidity` is correlated with `pH`\n",
    "    - `residual sugar` is highly correlated with `density` and, to a lesser extent, `alcohol`\n",
    "    - `Total sulfur dioxide` and `free sulfur dioxide` are quite highly correlated\n",
    "    - `Total sulfur dioxide` is also correlated with `density` and, more weakly with `alcohol`\n",
    "    - `density`, in addition to its correlation with `residual sugar` and `total sulfur dioxide`, is highly correlated with `alcohol`\n",
    "\n",
    "Finally, correlation with `quality` shows which attributes have the strongest influence on the output variable. These relationships are discussed below."
   ]
  },
  {
   "cell_type": "code",
   "execution_count": 17,
   "id": "82c9aef4-6783-45ed-9aa7-c8d318a4b96a",
   "metadata": {},
   "outputs": [
    {
     "name": "stdout",
     "output_type": "stream",
     "text": [
      "-----------\n",
      "Red Wine\n",
      "-----------\n"
     ]
    },
    {
     "data": {
      "image/png": "[encoded data removed]",
      "text/plain": [
       "<Figure size 756x648 with 2 Axes>"
      ]
     },
     "metadata": {
      "needs_background": "light"
     },
     "output_type": "display_data"
    },
    {
     "name": "stdout",
     "output_type": "stream",
     "text": [
      "-----------\n",
      "White Wine\n",
      "-----------\n"
     ]
    },
    {
     "data": {
      "image/png": "[encoded data removed]",
      "text/plain": [
       "<Figure size 756x648 with 2 Axes>"
      ]
     },
     "metadata": {
      "needs_background": "light"
     },
     "output_type": "display_data"
    }
   ],
   "source": [
    "# Set figure size within context so it doesn't affect size of subsequent figures\n",
    "with plt.rc_context({'figure.figsize':(10.5,9)}):\n",
    "    # For each or red win and white wine dataframes\n",
    "    for w in rw, ww:\n",
    "        # Print the dataframe name\n",
    "        print(f\"-----------\\n{w.name}\\n-----------\")\n",
    "        # Calculate correlation matrix (using Pearson's r)\n",
    "        corr = w.corr()\n",
    "        # Remove distracting self correlations (always = 1)\n",
    "        np.fill_diagonal(corr.values, 'NaN')\n",
    "        # Display matrix as heatmap, saturate at 0.5 to make high correlations stand out\n",
    "        sns.heatmap(abs(corr.round(2)), annot=True, linewidths=0.5, cmap='Blues', vmax=0.5)\n",
    "        plt.show()"
   ]
  },
  {
   "cell_type": "markdown",
   "id": "7c9ff0fd-6062-45ab-9bad-4edda63894e4",
   "metadata": {},
   "source": [
    "***\n",
    "\n",
    "### Assess relative influence of each feature on the target variable\n",
    "\n",
    "The tables below are the the `quality` columns from the correlation matrix calculated earlier, ordered (descending) by correlation coefficient. \n",
    "\n",
    "The features which influence red wine `quality` are dominated by `alcohol` and `volatile acidity`, with `sulphates`, `citric acid`, `total sulfur dioxide`, `density`, `chlorides`, and `fixed acidity` having moderate to low influences. `pH`, `free sulfur dioxide`, and `residual sugar` all have a very low correlation with wine quality. White wine `quality` is most influenced by `alcohol` and `density`. `Chlorides`, `volatile acidity`, `total sulfur dioxide`, and `fixed acidity` all exhibit a moderate influence, while `pH`, `residual sugar`, and `sulphates` show low correlation. The influences of `citric acid` and `free sulfur dioxide` are extremely low."
   ]
  },
  {
   "cell_type": "code",
   "execution_count": 18,
   "id": "f11a2000-0a4f-404e-9922-8441d576c857",
   "metadata": {},
   "outputs": [
    {
     "name": "stdout",
     "output_type": "stream",
     "text": [
      "-----------\n",
      "Red Wine\n",
      "-----------\n",
      "alcohol                 0.481556\n",
      "volatile acidity        0.386339\n",
      "sulphates               0.282932\n",
      "citric acid             0.206872\n",
      "total sulfur dioxide    0.188287\n",
      "density                 0.186381\n",
      "chlorides               0.131829\n",
      "fixed acidity           0.103413\n",
      "free sulfur dioxide     0.054023\n",
      "pH                      0.053204\n",
      "residual sugar          0.018289\n",
      "Name: quality, dtype: float64\n",
      "-----------\n",
      "White Wine\n",
      "-----------\n",
      "alcohol                 0.434196\n",
      "density                 0.306762\n",
      "chlorides               0.211142\n",
      "volatile acidity        0.186270\n",
      "total sulfur dioxide    0.166031\n",
      "fixed acidity           0.118540\n",
      "residual sugar          0.095218\n",
      "pH                      0.087722\n",
      "sulphates               0.041339\n",
      "free sulfur dioxide     0.023437\n",
      "citric acid             0.014025\n",
      "Name: quality, dtype: float64\n"
     ]
    }
   ],
   "source": [
    "# Sort values in the correlation matrix by the absolute correlation with the target variable\n",
    "for w in rw, ww:\n",
    "    print(f\"-----------\\n{w.name}\\n-----------\")\n",
    "    # print the sorted absolute values of the correlation between each feature and quality\n",
    "    print(abs(w.corr()['quality']).drop('quality').sort_values(ascending=False))"
   ]
  },
  {
   "cell_type": "markdown",
   "id": "63942a07-54fd-4f46-8022-f0aa9dc7393c",
   "metadata": {},
   "source": [
    "***\n",
    "\n",
    "## Feature scaling\n",
    "[8]\n",
    "Standardisation is the process of scaling data so that it has a mean of zero and unit variance. Assumed by PCA and rbf kernel and LDA [11] [12]"
   ]
  },
  {
   "cell_type": "code",
   "execution_count": 19,
   "id": "471a8567-1009-4707-b94d-b5d6bb621210",
   "metadata": {},
   "outputs": [],
   "source": [
    "scaler_rw = StandardScaler()\n",
    "X_std_rw = scaler_rw.fit_transform(X_train_rw)\n",
    "scaler_ww = StandardScaler()\n",
    "X_std_ww = scaler_ww.fit_transform(X_train_ww)"
   ]
  },
  {
   "cell_type": "markdown",
   "id": "f7b5127c-4309-4bc7-8a55-0ac52c082df0",
   "metadata": {},
   "source": [
    "***\n",
    "\n",
    "## Dimensionality reduction"
   ]
  },
  {
   "cell_type": "markdown",
   "id": "70467df7-74b5-4ee9-b0c7-251ad182dddf",
   "metadata": {},
   "source": [
    "### Feature selection\n",
    "\n",
    "1. Drop any features with an absolute correlation of less than 0.1\n",
    "1. Drop features that are highly correlated"
   ]
  },
  {
   "cell_type": "code",
   "execution_count": 20,
   "id": "d8fed73e-dc17-4911-a8c6-f3c3bb55e421",
   "metadata": {},
   "outputs": [],
   "source": [
    "# Custom Transformer for dropping features based on correlation with output variable\n",
    "# Putting this functionality in a transformer allows it to be used in a pipeline and \n",
    "# grid/randomised search hyperparameter tuning\n",
    "class DropLessImportantFeatures(BaseEstimator, TransformerMixin):\n",
    "    def __init__(self, threshold=0.1):\n",
    "        self.threshold=threshold\n",
    "    def fit(self, X, y):\n",
    "        # Calculate correlation coefficients, only keep the last one\n",
    "        # because we only want each feature's correlation with y\n",
    "        self.to_drop = abs(np.corrcoef(X, y, rowvar=False)[:,-1]) < self.threshold\n",
    "        return self\n",
    "    def transform(self, X):\n",
    "        # Remove columns (features) where correlation coefficient with\n",
    "        # y (output variable) is lower than threshold\n",
    "        return np.delete(X, self.to_drop[0:-1], axis=1)"
   ]
  },
  {
   "cell_type": "code",
   "execution_count": 21,
   "id": "64579473-7d59-4ef7-b6b2-24d6c3ac1264",
   "metadata": {},
   "outputs": [],
   "source": [
    "# Use transformer defined above to drop features with a correlation of \n",
    "# less than 0.1 with the output variable (quality) from the standardised \n",
    "# red and white wine datasets\n",
    "drop_rw = DropLessImportantFeatures()\n",
    "X_std_rw_dropped = drop_rw.fit_transform(X_std_rw, y_train_rw)\n",
    "drop_ww = DropLessImportantFeatures()\n",
    "X_std_ww_dropped = drop_ww.fit_transform(X_std_ww, y_train_ww)"
   ]
  },
  {
   "cell_type": "markdown",
   "id": "1a86e069-e181-42ce-94d3-41b4ca821553",
   "metadata": {},
   "source": [
    "Examining the shape attribute of the red and white wine feature arrays shows that of the original 11 features in each dataset, red wine now has 8 and white wine has 7."
   ]
  },
  {
   "cell_type": "code",
   "execution_count": 22,
   "id": "7395b837-8220-47d5-ab36-5b4f3eba65c7",
   "metadata": {},
   "outputs": [
    {
     "data": {
      "text/plain": [
       "(1279, 8)"
      ]
     },
     "execution_count": 22,
     "metadata": {},
     "output_type": "execute_result"
    }
   ],
   "source": [
    "X_std_rw_dropped.shape"
   ]
  },
  {
   "cell_type": "code",
   "execution_count": 23,
   "id": "2a014154-4afb-4ac7-a9ed-6da261cc9124",
   "metadata": {},
   "outputs": [
    {
     "data": {
      "text/plain": [
       "(3918, 6)"
      ]
     },
     "execution_count": 23,
     "metadata": {},
     "output_type": "execute_result"
    }
   ],
   "source": [
    "X_std_ww_dropped.shape"
   ]
  },
  {
   "cell_type": "markdown",
   "id": "9b328c99-8568-40da-8f81-7985908fecb2",
   "metadata": {},
   "source": [
    "We can also try removing one of every pair of strongly correlated features. This is a very naive mode of dimensionality reduction - as can be seen below, 99% of variance can be preserved in just 3 principal components."
   ]
  },
  {
   "cell_type": "code",
   "execution_count": 24,
   "id": "bc2dc226-96ee-4e90-9fb5-acca69b3bed1",
   "metadata": {},
   "outputs": [],
   "source": [
    "# Custom Transformer for dropping features based on correlation with output variable\n",
    "# Putting this functionality in a transformer allows it to be used in a pipeline and \n",
    "# grid/randomised search hyperparameter tuning\n",
    "class DropCorrelatedFeatures(BaseEstimator, TransformerMixin):\n",
    "    def __init__(self, threshold=0.5):\n",
    "        self.threshold=threshold\n",
    "    def fit(self, X):\n",
    "        # Make temp copy of X\n",
    "        c = X.copy()\n",
    "        \n",
    "        # Calculate absolute correlation matrix for all input features\n",
    "        # Loop control variable\n",
    "        max_sums = -1\n",
    "        # List to hold indexes of features to drop\n",
    "        idxs = []\n",
    "        # Loop until there are no correlations above the threshold\n",
    "        while max_sums != 0:\n",
    "            # Calculate absolute correlation matrix\n",
    "            corr = abs(np.corrcoef(c, rowvar=False))\n",
    "            # Fill diagonal with zeroes\n",
    "            np.fill_diagonal(corr, 0)\n",
    "            # construct boolean matrix based on threshold \n",
    "            corr = corr >= self.threshold\n",
    "            # calculate number of features that correlate with each feature\n",
    "            sums = np.sum(corr, axis=1)\n",
    "            # get index of max value\n",
    "            idx = np.argmax(sums)\n",
    "            # Index in original array will not always match index in current \n",
    "            # array as one column is deleted on each iteration\n",
    "            # If the new index is less than the last index then it can be used unchanged\n",
    "            if len(idxs) > 0 | idx < idxs[-1]:\n",
    "                idxs.append(idx)\n",
    "            # otherwise the number of removed columns must be added\n",
    "            else:\n",
    "                idxs.append(idx+len(idxs))\n",
    "            # Delete the column at the current index from the temporary array\n",
    "            c = np.delete(c, idx, axis=1)\n",
    "            # update the loop variable\n",
    "            max_sums = max(sums)\n",
    "            \n",
    "        self.idxs = idxs\n",
    "        return self\n",
    "    def transform(self, X):\n",
    "        # Remove columns (features) which correlate over the threshold with other features\n",
    "        return np.delete(X, self.idxs, axis=1)\n"
   ]
  },
  {
   "cell_type": "code",
   "execution_count": 25,
   "id": "3bb34534-af72-4c8b-ac44-82c2ad1991b1",
   "metadata": {},
   "outputs": [],
   "source": [
    "dd = DropCorrelatedFeatures(threshold=0.497)\n",
    "X_std_rw_d = dd.fit_transform(X_std_rw)"
   ]
  },
  {
   "cell_type": "markdown",
   "id": "b8a93b69-c729-4950-9bbf-27fdbd0d9f33",
   "metadata": {},
   "source": [
    "### Principal components analysis (PCA)"
   ]
  },
  {
   "cell_type": "code",
   "execution_count": 26,
   "id": "b3df139e-b84d-41e7-87ed-82b0155cb416",
   "metadata": {},
   "outputs": [],
   "source": [
    "# [7] PCA\n",
    "# Calculate prinicpal components of each dataset, preserving 99 % of variance\n",
    "pca_rw = PCA(n_components=0.99)\n",
    "pca_ww = PCA(n_components=0.99)\n",
    "X_pca_rw = pca_rw.fit_transform(X_std_rw)\n",
    "X_pca_ww = pca_ww.fit_transform(X_std_ww)"
   ]
  },
  {
   "cell_type": "markdown",
   "id": "938b7bab-f58a-4ead-898a-cda7d7f36fed",
   "metadata": {},
   "source": [
    "### Kernel PCA"
   ]
  },
  {
   "cell_type": "code",
   "execution_count": 27,
   "id": "63d5d61c-bb6b-4d3b-920e-5e7b773da1c2",
   "metadata": {},
   "outputs": [],
   "source": [
    "# [8] Kernel PCA\n",
    "# Calculate the first three principal components of each dataset using \n",
    "# KernelPCA with rbf kernel\n",
    "kpca_rw = KernelPCA(n_components=3, kernel=\"rbf\", gamma=0.04)\n",
    "X_kpca_rw = kpca_rw.fit_transform(X_std_rw)\n",
    "kpca_ww = KernelPCA(n_components=3, kernel=\"rbf\", gamma=0.04)\n",
    "X_kpca_ww = kpca_ww.fit_transform(X_std_ww)"
   ]
  },
  {
   "cell_type": "code",
   "execution_count": 79,
   "id": "55c1620e-ac55-42f5-b58f-c0765a555f73",
   "metadata": {},
   "outputs": [
    {
     "name": "stderr",
     "output_type": "stream",
     "text": [
      "/home/fod/HDip/modules/mls/machine-learning-statistics/.venv/lib/python3.9/site-packages/sklearn/model_selection/_validation.py:372: FitFailedWarning: \n",
      "405 fits failed out of a total of 1215.\n",
      "The score on these train-test partitions for these parameters will be set to nan.\n",
      "If these failures are not expected, you can try to debug them by setting error_score='raise'.\n",
      "\n",
      "Below are more details about the failures:\n",
      "--------------------------------------------------------------------------------\n",
      "81 fits failed with the following error:\n",
      "Traceback (most recent call last):\n",
      "  File \"/home/fod/HDip/modules/mls/machine-learning-statistics/.venv/lib/python3.9/site-packages/sklearn/model_selection/_validation.py\", line 681, in _fit_and_score\n",
      "    estimator.fit(X_train, y_train, **fit_params)\n",
      "  File \"/home/fod/HDip/modules/mls/machine-learning-statistics/.venv/lib/python3.9/site-packages/sklearn/pipeline.py\", line 390, in fit\n",
      "    Xt = self._fit(X, y, **fit_params_steps)\n",
      "  File \"/home/fod/HDip/modules/mls/machine-learning-statistics/.venv/lib/python3.9/site-packages/sklearn/pipeline.py\", line 348, in _fit\n",
      "    X, fitted_transformer = fit_transform_one_cached(\n",
      "  File \"/home/fod/HDip/modules/mls/machine-learning-statistics/.venv/lib/python3.9/site-packages/joblib/memory.py\", line 352, in __call__\n",
      "    return self.func(*args, **kwargs)\n",
      "  File \"/home/fod/HDip/modules/mls/machine-learning-statistics/.venv/lib/python3.9/site-packages/sklearn/pipeline.py\", line 891, in _fit_transform_one\n",
      "    res = transformer.fit_transform(X, y, **fit_params)\n",
      "  File \"/home/fod/HDip/modules/mls/machine-learning-statistics/.venv/lib/python3.9/site-packages/sklearn/decomposition/_kernel_pca.py\", line 456, in fit_transform\n",
      "    self.fit(X, **params)\n",
      "  File \"/home/fod/HDip/modules/mls/machine-learning-statistics/.venv/lib/python3.9/site-packages/sklearn/decomposition/_kernel_pca.py\", line 424, in fit\n",
      "    self._fit_transform(K)\n",
      "  File \"/home/fod/HDip/modules/mls/machine-learning-statistics/.venv/lib/python3.9/site-packages/sklearn/decomposition/_kernel_pca.py\", line 352, in _fit_transform\n",
      "    self.eigenvalues_ = _check_psd_eigenvalues(\n",
      "  File \"/home/fod/HDip/modules/mls/machine-learning-statistics/.venv/lib/python3.9/site-packages/sklearn/utils/validation.py\", line 1460, in _check_psd_eigenvalues\n",
      "    raise ValueError(\n",
      "ValueError: There are significant negative eigenvalues (0.268803 of the maximum positive). Either the matrix is not PSD, or there was an issue while computing the eigendecomposition of the matrix.\n",
      "\n",
      "--------------------------------------------------------------------------------\n",
      "81 fits failed with the following error:\n",
      "Traceback (most recent call last):\n",
      "  File \"/home/fod/HDip/modules/mls/machine-learning-statistics/.venv/lib/python3.9/site-packages/sklearn/model_selection/_validation.py\", line 681, in _fit_and_score\n",
      "    estimator.fit(X_train, y_train, **fit_params)\n",
      "  File \"/home/fod/HDip/modules/mls/machine-learning-statistics/.venv/lib/python3.9/site-packages/sklearn/pipeline.py\", line 390, in fit\n",
      "    Xt = self._fit(X, y, **fit_params_steps)\n",
      "  File \"/home/fod/HDip/modules/mls/machine-learning-statistics/.venv/lib/python3.9/site-packages/sklearn/pipeline.py\", line 348, in _fit\n",
      "    X, fitted_transformer = fit_transform_one_cached(\n",
      "  File \"/home/fod/HDip/modules/mls/machine-learning-statistics/.venv/lib/python3.9/site-packages/joblib/memory.py\", line 352, in __call__\n",
      "    return self.func(*args, **kwargs)\n",
      "  File \"/home/fod/HDip/modules/mls/machine-learning-statistics/.venv/lib/python3.9/site-packages/sklearn/pipeline.py\", line 891, in _fit_transform_one\n",
      "    res = transformer.fit_transform(X, y, **fit_params)\n",
      "  File \"/home/fod/HDip/modules/mls/machine-learning-statistics/.venv/lib/python3.9/site-packages/sklearn/decomposition/_kernel_pca.py\", line 456, in fit_transform\n",
      "    self.fit(X, **params)\n",
      "  File \"/home/fod/HDip/modules/mls/machine-learning-statistics/.venv/lib/python3.9/site-packages/sklearn/decomposition/_kernel_pca.py\", line 424, in fit\n",
      "    self._fit_transform(K)\n",
      "  File \"/home/fod/HDip/modules/mls/machine-learning-statistics/.venv/lib/python3.9/site-packages/sklearn/decomposition/_kernel_pca.py\", line 352, in _fit_transform\n",
      "    self.eigenvalues_ = _check_psd_eigenvalues(\n",
      "  File \"/home/fod/HDip/modules/mls/machine-learning-statistics/.venv/lib/python3.9/site-packages/sklearn/utils/validation.py\", line 1460, in _check_psd_eigenvalues\n",
      "    raise ValueError(\n",
      "ValueError: There are significant negative eigenvalues (0.267831 of the maximum positive). Either the matrix is not PSD, or there was an issue while computing the eigendecomposition of the matrix.\n",
      "\n",
      "--------------------------------------------------------------------------------\n",
      "81 fits failed with the following error:\n",
      "Traceback (most recent call last):\n",
      "  File \"/home/fod/HDip/modules/mls/machine-learning-statistics/.venv/lib/python3.9/site-packages/sklearn/model_selection/_validation.py\", line 681, in _fit_and_score\n",
      "    estimator.fit(X_train, y_train, **fit_params)\n",
      "  File \"/home/fod/HDip/modules/mls/machine-learning-statistics/.venv/lib/python3.9/site-packages/sklearn/pipeline.py\", line 390, in fit\n",
      "    Xt = self._fit(X, y, **fit_params_steps)\n",
      "  File \"/home/fod/HDip/modules/mls/machine-learning-statistics/.venv/lib/python3.9/site-packages/sklearn/pipeline.py\", line 348, in _fit\n",
      "    X, fitted_transformer = fit_transform_one_cached(\n",
      "  File \"/home/fod/HDip/modules/mls/machine-learning-statistics/.venv/lib/python3.9/site-packages/joblib/memory.py\", line 352, in __call__\n",
      "    return self.func(*args, **kwargs)\n",
      "  File \"/home/fod/HDip/modules/mls/machine-learning-statistics/.venv/lib/python3.9/site-packages/sklearn/pipeline.py\", line 891, in _fit_transform_one\n",
      "    res = transformer.fit_transform(X, y, **fit_params)\n",
      "  File \"/home/fod/HDip/modules/mls/machine-learning-statistics/.venv/lib/python3.9/site-packages/sklearn/decomposition/_kernel_pca.py\", line 456, in fit_transform\n",
      "    self.fit(X, **params)\n",
      "  File \"/home/fod/HDip/modules/mls/machine-learning-statistics/.venv/lib/python3.9/site-packages/sklearn/decomposition/_kernel_pca.py\", line 424, in fit\n",
      "    self._fit_transform(K)\n",
      "  File \"/home/fod/HDip/modules/mls/machine-learning-statistics/.venv/lib/python3.9/site-packages/sklearn/decomposition/_kernel_pca.py\", line 352, in _fit_transform\n",
      "    self.eigenvalues_ = _check_psd_eigenvalues(\n",
      "  File \"/home/fod/HDip/modules/mls/machine-learning-statistics/.venv/lib/python3.9/site-packages/sklearn/utils/validation.py\", line 1460, in _check_psd_eigenvalues\n",
      "    raise ValueError(\n",
      "ValueError: There are significant negative eigenvalues (0.270753 of the maximum positive). Either the matrix is not PSD, or there was an issue while computing the eigendecomposition of the matrix.\n",
      "\n",
      "--------------------------------------------------------------------------------\n",
      "81 fits failed with the following error:\n",
      "Traceback (most recent call last):\n",
      "  File \"/home/fod/HDip/modules/mls/machine-learning-statistics/.venv/lib/python3.9/site-packages/sklearn/model_selection/_validation.py\", line 681, in _fit_and_score\n",
      "    estimator.fit(X_train, y_train, **fit_params)\n",
      "  File \"/home/fod/HDip/modules/mls/machine-learning-statistics/.venv/lib/python3.9/site-packages/sklearn/pipeline.py\", line 390, in fit\n",
      "    Xt = self._fit(X, y, **fit_params_steps)\n",
      "  File \"/home/fod/HDip/modules/mls/machine-learning-statistics/.venv/lib/python3.9/site-packages/sklearn/pipeline.py\", line 348, in _fit\n",
      "    X, fitted_transformer = fit_transform_one_cached(\n",
      "  File \"/home/fod/HDip/modules/mls/machine-learning-statistics/.venv/lib/python3.9/site-packages/joblib/memory.py\", line 352, in __call__\n",
      "    return self.func(*args, **kwargs)\n",
      "  File \"/home/fod/HDip/modules/mls/machine-learning-statistics/.venv/lib/python3.9/site-packages/sklearn/pipeline.py\", line 891, in _fit_transform_one\n",
      "    res = transformer.fit_transform(X, y, **fit_params)\n",
      "  File \"/home/fod/HDip/modules/mls/machine-learning-statistics/.venv/lib/python3.9/site-packages/sklearn/decomposition/_kernel_pca.py\", line 456, in fit_transform\n",
      "    self.fit(X, **params)\n",
      "  File \"/home/fod/HDip/modules/mls/machine-learning-statistics/.venv/lib/python3.9/site-packages/sklearn/decomposition/_kernel_pca.py\", line 424, in fit\n",
      "    self._fit_transform(K)\n",
      "  File \"/home/fod/HDip/modules/mls/machine-learning-statistics/.venv/lib/python3.9/site-packages/sklearn/decomposition/_kernel_pca.py\", line 352, in _fit_transform\n",
      "    self.eigenvalues_ = _check_psd_eigenvalues(\n",
      "  File \"/home/fod/HDip/modules/mls/machine-learning-statistics/.venv/lib/python3.9/site-packages/sklearn/utils/validation.py\", line 1460, in _check_psd_eigenvalues\n",
      "    raise ValueError(\n",
      "ValueError: There are significant negative eigenvalues (0.261774 of the maximum positive). Either the matrix is not PSD, or there was an issue while computing the eigendecomposition of the matrix.\n",
      "\n",
      "--------------------------------------------------------------------------------\n",
      "81 fits failed with the following error:\n",
      "Traceback (most recent call last):\n",
      "  File \"/home/fod/HDip/modules/mls/machine-learning-statistics/.venv/lib/python3.9/site-packages/sklearn/model_selection/_validation.py\", line 681, in _fit_and_score\n",
      "    estimator.fit(X_train, y_train, **fit_params)\n",
      "  File \"/home/fod/HDip/modules/mls/machine-learning-statistics/.venv/lib/python3.9/site-packages/sklearn/pipeline.py\", line 390, in fit\n",
      "    Xt = self._fit(X, y, **fit_params_steps)\n",
      "  File \"/home/fod/HDip/modules/mls/machine-learning-statistics/.venv/lib/python3.9/site-packages/sklearn/pipeline.py\", line 348, in _fit\n",
      "    X, fitted_transformer = fit_transform_one_cached(\n",
      "  File \"/home/fod/HDip/modules/mls/machine-learning-statistics/.venv/lib/python3.9/site-packages/joblib/memory.py\", line 352, in __call__\n",
      "    return self.func(*args, **kwargs)\n",
      "  File \"/home/fod/HDip/modules/mls/machine-learning-statistics/.venv/lib/python3.9/site-packages/sklearn/pipeline.py\", line 891, in _fit_transform_one\n",
      "    res = transformer.fit_transform(X, y, **fit_params)\n",
      "  File \"/home/fod/HDip/modules/mls/machine-learning-statistics/.venv/lib/python3.9/site-packages/sklearn/decomposition/_kernel_pca.py\", line 456, in fit_transform\n",
      "    self.fit(X, **params)\n",
      "  File \"/home/fod/HDip/modules/mls/machine-learning-statistics/.venv/lib/python3.9/site-packages/sklearn/decomposition/_kernel_pca.py\", line 424, in fit\n",
      "    self._fit_transform(K)\n",
      "  File \"/home/fod/HDip/modules/mls/machine-learning-statistics/.venv/lib/python3.9/site-packages/sklearn/decomposition/_kernel_pca.py\", line 352, in _fit_transform\n",
      "    self.eigenvalues_ = _check_psd_eigenvalues(\n",
      "  File \"/home/fod/HDip/modules/mls/machine-learning-statistics/.venv/lib/python3.9/site-packages/sklearn/utils/validation.py\", line 1460, in _check_psd_eigenvalues\n",
      "    raise ValueError(\n",
      "ValueError: There are significant negative eigenvalues (0.263562 of the maximum positive). Either the matrix is not PSD, or there was an issue while computing the eigendecomposition of the matrix.\n",
      "\n",
      "  warnings.warn(some_fits_failed_message, FitFailedWarning)\n",
      "/home/fod/HDip/modules/mls/machine-learning-statistics/.venv/lib/python3.9/site-packages/sklearn/model_selection/_search.py:969: UserWarning: One or more of the test scores are non-finite: [0.8264277  0.8428462  0.82721507 0.8248652  0.8428462  0.82721507\n",
      " 0.8217402  0.8428462  0.82721507 0.82720895 0.8428462  0.82330576\n",
      " 0.82408395 0.8428462  0.82330576 0.82095588 0.8428462  0.82330576\n",
      " 0.83737745 0.8428462  0.8201777  0.84050551 0.8428462  0.8201777\n",
      " 0.83893689 0.8428462  0.8201777  0.83268076 0.84675551 0.82721507\n",
      " 0.82486213 0.84675551 0.82721507 0.82251838 0.84675551 0.82721507\n",
      " 0.8412837  0.84675551 0.82096201 0.83033395 0.84675551 0.82096201\n",
      " 0.82408088 0.84675551 0.82096201 0.8428462  0.84675551 0.82486213\n",
      " 0.83893995 0.84675551 0.82486213 0.83268382 0.84675551 0.82486213\n",
      " 0.83971507 0.84519608 0.81159314 0.82486213 0.84519608 0.81159314\n",
      " 0.82642463 0.84519608 0.81159314 0.83972426 0.84519608 0.82253064\n",
      " 0.83502757 0.84519608 0.82253064 0.82329657 0.84519608 0.82253064\n",
      " 0.83580882 0.84519608 0.82096201 0.83424632 0.84519608 0.82096201\n",
      " 0.83424632 0.84519608 0.82096201 0.84831495 0.84675245 0.84441789\n",
      " 0.85456801 0.84675245 0.84441789 0.8623989  0.84675245 0.84441789\n",
      " 0.8490962  0.84675245 0.84050551 0.85691483 0.84675245 0.84050551\n",
      " 0.86395833 0.84675245 0.84050551 0.84753676 0.84675245 0.8248652\n",
      " 0.84988664 0.84675245 0.8248652  0.84675551 0.84675245 0.8248652\n",
      " 0.85300858 0.85145221 0.83426471 0.85770833 0.85145221 0.83426471\n",
      " 0.86474877 0.85145221 0.83426471 0.84909926 0.85145221 0.82565257\n",
      " 0.85770221 0.85145221 0.82565257 0.85849265 0.85145221 0.82565257\n",
      " 0.84127757 0.85145221 0.82567096 0.83034007 0.85145221 0.82567096\n",
      " 0.83112745 0.85145221 0.82567096 0.84675245 0.84832108 0.82566789\n",
      " 0.85144301 0.84832108 0.82566789 0.85927696 0.84832108 0.82566789\n",
      " 0.84362439 0.84832108 0.81942096 0.8490962  0.84832108 0.81942096\n",
      " 0.84833027 0.84832108 0.81942096 0.83502451 0.84832108 0.81237439\n",
      " 0.82486213 0.84832108 0.81237439 0.8256587  0.84832108 0.81237439\n",
      "        nan        nan        nan        nan        nan        nan\n",
      "        nan        nan        nan        nan        nan        nan\n",
      "        nan        nan        nan        nan        nan        nan\n",
      "        nan        nan        nan        nan        nan        nan\n",
      "        nan        nan        nan        nan        nan        nan\n",
      "        nan        nan        nan        nan        nan        nan\n",
      "        nan        nan        nan        nan        nan        nan\n",
      "        nan        nan        nan        nan        nan        nan\n",
      "        nan        nan        nan        nan        nan        nan\n",
      "        nan        nan        nan        nan        nan        nan\n",
      "        nan        nan        nan        nan        nan        nan\n",
      "        nan        nan        nan        nan        nan        nan\n",
      "        nan        nan        nan        nan        nan        nan\n",
      "        nan        nan        nan]\n",
      "  warnings.warn(\n"
     ]
    },
    {
     "data": {
      "text/plain": [
       "GridSearchCV(cv=5,\n",
       "             estimator=Pipeline(steps=[('standard', StandardScaler()),\n",
       "                                       ('kpca', KernelPCA()),\n",
       "                                       ('svm_clf',\n",
       "                                        SVC(C=5, coef0=1, kernel='poly'))]),\n",
       "             param_grid={'kpca__kernel': ['poly', 'rbf', 'sigmoid'],\n",
       "                         'svm_clf__C': [1, 5, 10],\n",
       "                         'svm_clf__coef0': [0, 0.1, 1],\n",
       "                         'svm_clf__degree': [2, 3, 4],\n",
       "                         'svm_clf__kernel': ['poly', 'rbf', 'sigmoid']})"
      ]
     },
     "execution_count": 79,
     "metadata": {},
     "output_type": "execute_result"
    }
   ],
   "source": [
    "pipeline = Pipeline([\n",
    "    ('standard', StandardScaler()),\n",
    "    #('minmax', MinMaxScaler()),\n",
    "    #('dropunimp', DropLessImportantFeatures()),\n",
    "    #('dropcorr', DropCorrelatedFeatures()),\n",
    "    #('pca', PCA()),\n",
    "    ('kpca', KernelPCA()),\n",
    "    ('svm_clf', SVC(kernel=\"poly\", degree=3, coef0=1, C=5))\n",
    "])\n",
    "\n",
    "param_grid = { #'kpca__n_components': [0.95, 0.99],\n",
    "               'kpca__kernel': [\"poly\", \"rbf\", \"sigmoid\"],\n",
    "               'svm_clf__kernel': [\"poly\", \"rbf\", \"sigmoid\"],\n",
    "               'svm_clf__C': [1, 5, 10],\n",
    "               'svm_clf__coef0': [0, 0.1, 1],\n",
    "               'svm_clf__degree': [2, 3, 4]\n",
    "             }\n",
    "# param_grid = [{'minmax': ['passthrough'],\n",
    "#                'dropunimp': ['passthrough', DropLessImportantFeatures(0.01), DropLessImportantFeatures(0.1), DropLessImportantFeatures(0.2)],\n",
    "#                'dropcorr': ['passthrough', DropCorrelatedFeatures(0.4), DropCorrelatedFeatures(0.5), DropCorrelatedFeatures(0.7)],\n",
    "#                'pca': ['passthrough'],\n",
    "#                'kpca': ['passthrough'] }]  \n",
    "\n",
    "\n",
    "grid_search = GridSearchCV(pipeline, param_grid, cv=5)\n",
    "grid_search.fit(X_train_rw, y_train_cat_rw)"
   ]
  },
  {
   "cell_type": "code",
   "execution_count": 80,
   "id": "781e9bb2-0b29-4fd8-9560-c3852468baa9",
   "metadata": {},
   "outputs": [
    {
     "data": {
      "text/plain": [
       "Pipeline(steps=[('standard', StandardScaler()),\n",
       "                ('kpca', KernelPCA(kernel='rbf')),\n",
       "                ('svm_clf', SVC(C=5, coef0=0, degree=4, kernel='poly'))])"
      ]
     },
     "execution_count": 80,
     "metadata": {},
     "output_type": "execute_result"
    }
   ],
   "source": [
    "grid_search.best_estimator_"
   ]
  },
  {
   "cell_type": "code",
   "execution_count": 81,
   "id": "9283de8e-c789-4105-8f41-09a52fd7d359",
   "metadata": {},
   "outputs": [
    {
     "data": {
      "text/plain": [
       "0.864748774509804"
      ]
     },
     "execution_count": 81,
     "metadata": {},
     "output_type": "execute_result"
    }
   ],
   "source": [
    "grid_search.best_score_"
   ]
  },
  {
   "cell_type": "code",
   "execution_count": 82,
   "id": "33e7bc97-13fa-48c9-909d-29d7057f53b1",
   "metadata": {},
   "outputs": [],
   "source": [
    "y_pred = grid_search.predict(X_test_rw)\n",
    "#cm = confusion_matrix(y_test_cat_rw, y_pred, labels=['low', 'medium', 'high'])"
   ]
  },
  {
   "cell_type": "code",
   "execution_count": 83,
   "id": "3d59bbf4-79b8-4dac-9848-62b0db512c79",
   "metadata": {},
   "outputs": [
    {
     "data": {
      "text/plain": [
       "array([[  1,  11,   1],\n",
       "       [  0, 249,  15],\n",
       "       [  0,  16,  27]])"
      ]
     },
     "execution_count": 83,
     "metadata": {},
     "output_type": "execute_result"
    }
   ],
   "source": [
    "cm = confusion_matrix(y_test_cat_rw, y_pred, labels=['low', 'medium', 'high'])\n",
    "cm"
   ]
  },
  {
   "cell_type": "code",
   "execution_count": 84,
   "id": "c43c4d26-5497-4be6-887b-ab9f0aae6067",
   "metadata": {},
   "outputs": [
    {
     "data": {
      "text/plain": [
       "<Figure size 216x144 with 0 Axes>"
      ]
     },
     "metadata": {},
     "output_type": "display_data"
    },
    {
     "data": {
      "image/png": "[encoded data removed]",
      "text/plain": [
       "<Figure size 432x288 with 2 Axes>"
      ]
     },
     "metadata": {
      "needs_background": "light"
     },
     "output_type": "display_data"
    }
   ],
   "source": [
    "plt.figure(figsize=(3,2))\n",
    "ConfusionMatrixDisplay.from_predictions(y_test_cat_rw, y_pred, labels=['low', 'medium', 'high'])\n",
    "plt.grid(False)\n",
    "plt.show()"
   ]
  },
  {
   "cell_type": "code",
   "execution_count": 85,
   "id": "b6a254cd-a7c0-41a6-9d61-ac3a799bb344",
   "metadata": {},
   "outputs": [
    {
     "name": "stdout",
     "output_type": "stream",
     "text": [
      "Precision: 0.8692934782608696\n",
      "Recall: 0.865625\n",
      "f1: 0.8510119047619048\n",
      "\n"
     ]
    }
   ],
   "source": [
    "precision = precision_score(y_test_cat_rw, y_pred, average='weighted')\n",
    "recall = recall_score(y_test_cat_rw, y_pred, average='weighted')\n",
    "f1 = f1_score(y_test_cat_rw, y_pred, average='weighted')\n",
    "print(f\"Precision: {precision}\\nRecall: {recall}\\nf1: {f1}\\n\")"
   ]
  },
  {
   "cell_type": "code",
   "execution_count": 28,
   "id": "b29b1252-be92-4b80-b291-3cdc68bc52b2",
   "metadata": {},
   "outputs": [
    {
     "data": {
      "text/plain": [
       "SVC(C=5, coef0=1, kernel='poly')"
      ]
     },
     "execution_count": 28,
     "metadata": {},
     "output_type": "execute_result"
    }
   ],
   "source": [
    "model = SVC(kernel=\"poly\", degree=3, coef0=1, C=5)\n",
    "# svm_clf = Pipeline([\n",
    "#     (\"scaler\", StandardScaler()),\n",
    "#     (\"svm_clf\", SVC(kernel=\"poly\", degree=3, coef0=1, C=5)),\n",
    "# ])\n",
    "\n",
    "model.fit(X_kpca_rw,y_train_cat_rw)"
   ]
  },
  {
   "cell_type": "code",
   "execution_count": null,
   "id": "b9ecb085-7400-4281-8fa8-eeea89a5e8a4",
   "metadata": {},
   "outputs": [],
   "source": []
  },
  {
   "cell_type": "code",
   "execution_count": 29,
   "id": "555fbf6b-c66e-42ed-91ed-0fdaa1287b1f",
   "metadata": {},
   "outputs": [
    {
     "ename": "ValueError",
     "evalue": "X has 8 features, but SVC is expecting 3 features as input.",
     "output_type": "error",
     "traceback": [
      "\u001b[0;31m---------------------------------------------------------------------------\u001b[0m",
      "\u001b[0;31mValueError\u001b[0m                                Traceback (most recent call last)",
      "\u001b[0;32m/tmp/ipykernel_2559/2643899761.py\u001b[0m in \u001b[0;36m<module>\u001b[0;34m\u001b[0m\n\u001b[1;32m      2\u001b[0m \u001b[0mX1\u001b[0m \u001b[0;34m=\u001b[0m \u001b[0mdrop_rw\u001b[0m\u001b[0;34m.\u001b[0m\u001b[0mtransform\u001b[0m\u001b[0;34m(\u001b[0m\u001b[0mX1\u001b[0m\u001b[0;34m)\u001b[0m\u001b[0;34m\u001b[0m\u001b[0;34m\u001b[0m\u001b[0m\n\u001b[1;32m      3\u001b[0m \u001b[0;31m#X1 = kpca_rw.transform(X1)\u001b[0m\u001b[0;34m\u001b[0m\u001b[0;34m\u001b[0m\u001b[0m\n\u001b[0;32m----> 4\u001b[0;31m \u001b[0mmodel\u001b[0m\u001b[0;34m.\u001b[0m\u001b[0mscore\u001b[0m\u001b[0;34m(\u001b[0m\u001b[0mX1\u001b[0m\u001b[0;34m,\u001b[0m \u001b[0my_test_cat_rw\u001b[0m\u001b[0;34m)\u001b[0m\u001b[0;34m\u001b[0m\u001b[0;34m\u001b[0m\u001b[0m\n\u001b[0m",
      "\u001b[0;32m~/HDip/modules/mls/machine-learning-statistics/.venv/lib/python3.9/site-packages/sklearn/base.py\u001b[0m in \u001b[0;36mscore\u001b[0;34m(self, X, y, sample_weight)\u001b[0m\n\u001b[1;32m    640\u001b[0m         \u001b[0;32mfrom\u001b[0m \u001b[0;34m.\u001b[0m\u001b[0mmetrics\u001b[0m \u001b[0;32mimport\u001b[0m \u001b[0maccuracy_score\u001b[0m\u001b[0;34m\u001b[0m\u001b[0;34m\u001b[0m\u001b[0m\n\u001b[1;32m    641\u001b[0m \u001b[0;34m\u001b[0m\u001b[0m\n\u001b[0;32m--> 642\u001b[0;31m         \u001b[0;32mreturn\u001b[0m \u001b[0maccuracy_score\u001b[0m\u001b[0;34m(\u001b[0m\u001b[0my\u001b[0m\u001b[0;34m,\u001b[0m \u001b[0mself\u001b[0m\u001b[0;34m.\u001b[0m\u001b[0mpredict\u001b[0m\u001b[0;34m(\u001b[0m\u001b[0mX\u001b[0m\u001b[0;34m)\u001b[0m\u001b[0;34m,\u001b[0m \u001b[0msample_weight\u001b[0m\u001b[0;34m=\u001b[0m\u001b[0msample_weight\u001b[0m\u001b[0;34m)\u001b[0m\u001b[0;34m\u001b[0m\u001b[0;34m\u001b[0m\u001b[0m\n\u001b[0m\u001b[1;32m    643\u001b[0m \u001b[0;34m\u001b[0m\u001b[0m\n\u001b[1;32m    644\u001b[0m     \u001b[0;32mdef\u001b[0m \u001b[0m_more_tags\u001b[0m\u001b[0;34m(\u001b[0m\u001b[0mself\u001b[0m\u001b[0;34m)\u001b[0m\u001b[0;34m:\u001b[0m\u001b[0;34m\u001b[0m\u001b[0;34m\u001b[0m\u001b[0m\n",
      "\u001b[0;32m~/HDip/modules/mls/machine-learning-statistics/.venv/lib/python3.9/site-packages/sklearn/svm/_base.py\u001b[0m in \u001b[0;36mpredict\u001b[0;34m(self, X)\u001b[0m\n\u001b[1;32m    782\u001b[0m             \u001b[0my\u001b[0m \u001b[0;34m=\u001b[0m \u001b[0mnp\u001b[0m\u001b[0;34m.\u001b[0m\u001b[0margmax\u001b[0m\u001b[0;34m(\u001b[0m\u001b[0mself\u001b[0m\u001b[0;34m.\u001b[0m\u001b[0mdecision_function\u001b[0m\u001b[0;34m(\u001b[0m\u001b[0mX\u001b[0m\u001b[0;34m)\u001b[0m\u001b[0;34m,\u001b[0m \u001b[0maxis\u001b[0m\u001b[0;34m=\u001b[0m\u001b[0;36m1\u001b[0m\u001b[0;34m)\u001b[0m\u001b[0;34m\u001b[0m\u001b[0;34m\u001b[0m\u001b[0m\n\u001b[1;32m    783\u001b[0m         \u001b[0;32melse\u001b[0m\u001b[0;34m:\u001b[0m\u001b[0;34m\u001b[0m\u001b[0;34m\u001b[0m\u001b[0m\n\u001b[0;32m--> 784\u001b[0;31m             \u001b[0my\u001b[0m \u001b[0;34m=\u001b[0m \u001b[0msuper\u001b[0m\u001b[0;34m(\u001b[0m\u001b[0;34m)\u001b[0m\u001b[0;34m.\u001b[0m\u001b[0mpredict\u001b[0m\u001b[0;34m(\u001b[0m\u001b[0mX\u001b[0m\u001b[0;34m)\u001b[0m\u001b[0;34m\u001b[0m\u001b[0;34m\u001b[0m\u001b[0m\n\u001b[0m\u001b[1;32m    785\u001b[0m         \u001b[0;32mreturn\u001b[0m \u001b[0mself\u001b[0m\u001b[0;34m.\u001b[0m\u001b[0mclasses_\u001b[0m\u001b[0;34m.\u001b[0m\u001b[0mtake\u001b[0m\u001b[0;34m(\u001b[0m\u001b[0mnp\u001b[0m\u001b[0;34m.\u001b[0m\u001b[0masarray\u001b[0m\u001b[0;34m(\u001b[0m\u001b[0my\u001b[0m\u001b[0;34m,\u001b[0m \u001b[0mdtype\u001b[0m\u001b[0;34m=\u001b[0m\u001b[0mnp\u001b[0m\u001b[0;34m.\u001b[0m\u001b[0mintp\u001b[0m\u001b[0;34m)\u001b[0m\u001b[0;34m)\u001b[0m\u001b[0;34m\u001b[0m\u001b[0;34m\u001b[0m\u001b[0m\n\u001b[1;32m    786\u001b[0m \u001b[0;34m\u001b[0m\u001b[0m\n",
      "\u001b[0;32m~/HDip/modules/mls/machine-learning-statistics/.venv/lib/python3.9/site-packages/sklearn/svm/_base.py\u001b[0m in \u001b[0;36mpredict\u001b[0;34m(self, X)\u001b[0m\n\u001b[1;32m    412\u001b[0m             \u001b[0mThe\u001b[0m \u001b[0mpredicted\u001b[0m \u001b[0mvalues\u001b[0m\u001b[0;34m.\u001b[0m\u001b[0;34m\u001b[0m\u001b[0;34m\u001b[0m\u001b[0m\n\u001b[1;32m    413\u001b[0m         \"\"\"\n\u001b[0;32m--> 414\u001b[0;31m         \u001b[0mX\u001b[0m \u001b[0;34m=\u001b[0m \u001b[0mself\u001b[0m\u001b[0;34m.\u001b[0m\u001b[0m_validate_for_predict\u001b[0m\u001b[0;34m(\u001b[0m\u001b[0mX\u001b[0m\u001b[0;34m)\u001b[0m\u001b[0;34m\u001b[0m\u001b[0;34m\u001b[0m\u001b[0m\n\u001b[0m\u001b[1;32m    415\u001b[0m         \u001b[0mpredict\u001b[0m \u001b[0;34m=\u001b[0m \u001b[0mself\u001b[0m\u001b[0;34m.\u001b[0m\u001b[0m_sparse_predict\u001b[0m \u001b[0;32mif\u001b[0m \u001b[0mself\u001b[0m\u001b[0;34m.\u001b[0m\u001b[0m_sparse\u001b[0m \u001b[0;32melse\u001b[0m \u001b[0mself\u001b[0m\u001b[0;34m.\u001b[0m\u001b[0m_dense_predict\u001b[0m\u001b[0;34m\u001b[0m\u001b[0;34m\u001b[0m\u001b[0m\n\u001b[1;32m    416\u001b[0m         \u001b[0;32mreturn\u001b[0m \u001b[0mpredict\u001b[0m\u001b[0;34m(\u001b[0m\u001b[0mX\u001b[0m\u001b[0;34m)\u001b[0m\u001b[0;34m\u001b[0m\u001b[0;34m\u001b[0m\u001b[0m\n",
      "\u001b[0;32m~/HDip/modules/mls/machine-learning-statistics/.venv/lib/python3.9/site-packages/sklearn/svm/_base.py\u001b[0m in \u001b[0;36m_validate_for_predict\u001b[0;34m(self, X)\u001b[0m\n\u001b[1;32m    590\u001b[0m \u001b[0;34m\u001b[0m\u001b[0m\n\u001b[1;32m    591\u001b[0m         \u001b[0;32mif\u001b[0m \u001b[0;32mnot\u001b[0m \u001b[0mcallable\u001b[0m\u001b[0;34m(\u001b[0m\u001b[0mself\u001b[0m\u001b[0;34m.\u001b[0m\u001b[0mkernel\u001b[0m\u001b[0;34m)\u001b[0m\u001b[0;34m:\u001b[0m\u001b[0;34m\u001b[0m\u001b[0;34m\u001b[0m\u001b[0m\n\u001b[0;32m--> 592\u001b[0;31m             X = self._validate_data(\n\u001b[0m\u001b[1;32m    593\u001b[0m                 \u001b[0mX\u001b[0m\u001b[0;34m,\u001b[0m\u001b[0;34m\u001b[0m\u001b[0;34m\u001b[0m\u001b[0m\n\u001b[1;32m    594\u001b[0m                 \u001b[0maccept_sparse\u001b[0m\u001b[0;34m=\u001b[0m\u001b[0;34m\"csr\"\u001b[0m\u001b[0;34m,\u001b[0m\u001b[0;34m\u001b[0m\u001b[0;34m\u001b[0m\u001b[0m\n",
      "\u001b[0;32m~/HDip/modules/mls/machine-learning-statistics/.venv/lib/python3.9/site-packages/sklearn/base.py\u001b[0m in \u001b[0;36m_validate_data\u001b[0;34m(self, X, y, reset, validate_separately, **check_params)\u001b[0m\n\u001b[1;32m    574\u001b[0m \u001b[0;34m\u001b[0m\u001b[0m\n\u001b[1;32m    575\u001b[0m         \u001b[0;32mif\u001b[0m \u001b[0;32mnot\u001b[0m \u001b[0mno_val_X\u001b[0m \u001b[0;32mand\u001b[0m \u001b[0mcheck_params\u001b[0m\u001b[0;34m.\u001b[0m\u001b[0mget\u001b[0m\u001b[0;34m(\u001b[0m\u001b[0;34m\"ensure_2d\"\u001b[0m\u001b[0;34m,\u001b[0m \u001b[0;32mTrue\u001b[0m\u001b[0;34m)\u001b[0m\u001b[0;34m:\u001b[0m\u001b[0;34m\u001b[0m\u001b[0;34m\u001b[0m\u001b[0m\n\u001b[0;32m--> 576\u001b[0;31m             \u001b[0mself\u001b[0m\u001b[0;34m.\u001b[0m\u001b[0m_check_n_features\u001b[0m\u001b[0;34m(\u001b[0m\u001b[0mX\u001b[0m\u001b[0;34m,\u001b[0m \u001b[0mreset\u001b[0m\u001b[0;34m=\u001b[0m\u001b[0mreset\u001b[0m\u001b[0;34m)\u001b[0m\u001b[0;34m\u001b[0m\u001b[0;34m\u001b[0m\u001b[0m\n\u001b[0m\u001b[1;32m    577\u001b[0m \u001b[0;34m\u001b[0m\u001b[0m\n\u001b[1;32m    578\u001b[0m         \u001b[0;32mreturn\u001b[0m \u001b[0mout\u001b[0m\u001b[0;34m\u001b[0m\u001b[0;34m\u001b[0m\u001b[0m\n",
      "\u001b[0;32m~/HDip/modules/mls/machine-learning-statistics/.venv/lib/python3.9/site-packages/sklearn/base.py\u001b[0m in \u001b[0;36m_check_n_features\u001b[0;34m(self, X, reset)\u001b[0m\n\u001b[1;32m    393\u001b[0m \u001b[0;34m\u001b[0m\u001b[0m\n\u001b[1;32m    394\u001b[0m         \u001b[0;32mif\u001b[0m \u001b[0mn_features\u001b[0m \u001b[0;34m!=\u001b[0m \u001b[0mself\u001b[0m\u001b[0;34m.\u001b[0m\u001b[0mn_features_in_\u001b[0m\u001b[0;34m:\u001b[0m\u001b[0;34m\u001b[0m\u001b[0;34m\u001b[0m\u001b[0m\n\u001b[0;32m--> 395\u001b[0;31m             raise ValueError(\n\u001b[0m\u001b[1;32m    396\u001b[0m                 \u001b[0;34mf\"X has {n_features} features, but {self.__class__.__name__} \"\u001b[0m\u001b[0;34m\u001b[0m\u001b[0;34m\u001b[0m\u001b[0m\n\u001b[1;32m    397\u001b[0m                 \u001b[0;34mf\"is expecting {self.n_features_in_} features as input.\"\u001b[0m\u001b[0;34m\u001b[0m\u001b[0;34m\u001b[0m\u001b[0m\n",
      "\u001b[0;31mValueError\u001b[0m: X has 8 features, but SVC is expecting 3 features as input."
     ]
    }
   ],
   "source": [
    "X1 = scaler_rw.transform(X_test_rw)\n",
    "X1 = drop_rw.transform(X1)\n",
    "#X1 = kpca_rw.transform(X1)\n",
    "model.score(X1, y_test_cat_rw)"
   ]
  },
  {
   "cell_type": "code",
   "execution_count": 33,
   "id": "387c0b85-d175-49d4-8e28-f42a16461afb",
   "metadata": {},
   "outputs": [],
   "source": [
    "le = LabelEncoder()\n",
    "xx = le.fit_transform(y_train_rw)"
   ]
  },
  {
   "cell_type": "code",
   "execution_count": 39,
   "id": "a6cea0bc-da15-40a5-bcf8-1570b4575d97",
   "metadata": {},
   "outputs": [
    {
     "data": {
      "text/plain": [
       "array([6, 5, 4, 7, 8, 3])"
      ]
     },
     "execution_count": 39,
     "metadata": {},
     "output_type": "execute_result"
    }
   ],
   "source": [
    "y_train_rw.unique()"
   ]
  },
  {
   "cell_type": "code",
   "execution_count": 38,
   "id": "c9a62863-3d20-4c61-a1d2-6e16a99a9b16",
   "metadata": {},
   "outputs": [
    {
     "data": {
      "text/plain": [
       "array([0, 1, 2, 3, 4, 5])"
      ]
     },
     "execution_count": 38,
     "metadata": {},
     "output_type": "execute_result"
    }
   ],
   "source": [
    "np.unique(xx)"
   ]
  },
  {
   "cell_type": "markdown",
   "id": "2e4a3b11-6bad-4de1-92e6-f3ddf6ea5084",
   "metadata": {},
   "source": [
    "### Cross validation"
   ]
  },
  {
   "cell_type": "code",
   "execution_count": null,
   "id": "be0029f1-a62d-4322-a4fa-48b9c08d61b5",
   "metadata": {},
   "outputs": [],
   "source": [
    "scores = cross_val_score(model, X1, y_test_cat_rw, cv=10)\n",
    "print(scores, '\\n', scores.mean(), '\\n', scores.std())"
   ]
  },
  {
   "cell_type": "code",
   "execution_count": null,
   "id": "1c77189b-b1e5-450b-bfb6-33b936eac780",
   "metadata": {},
   "outputs": [],
   "source": [
    "y_pred = cross_val_predict(model, X1, y_test_cat_rw, cv=10)\n",
    "cm = confusion_matrix(y_test_cat_rw, y_pred, labels=['low', 'medium', 'high'])"
   ]
  },
  {
   "cell_type": "code",
   "execution_count": null,
   "id": "778bdaf8-bb4f-4e29-a5ab-c2bc8d2fe7e9",
   "metadata": {},
   "outputs": [],
   "source": [
    "plt.figure(figsize=(3,2))\n",
    "ConfusionMatrixDisplay.from_predictions(y_test_cat_rw, y_pred)\n",
    "plt.grid(False)\n",
    "plt.show()"
   ]
  },
  {
   "cell_type": "code",
   "execution_count": null,
   "id": "4cd76797-4b93-4910-9f7e-1f71f54cb737",
   "metadata": {},
   "outputs": [],
   "source": [
    "precision_score(y_test_cat_rw, y_pred, average='weighted')"
   ]
  },
  {
   "cell_type": "code",
   "execution_count": null,
   "id": "4ce95afc-a8da-473e-b681-c3767030f743",
   "metadata": {},
   "outputs": [],
   "source": [
    "recall_score(y_test_cat_rw, y_pred, average='weighted')"
   ]
  },
  {
   "cell_type": "code",
   "execution_count": null,
   "id": "bc370ec4-6617-4832-aa4e-99c713a03a21",
   "metadata": {},
   "outputs": [],
   "source": [
    "f1_score(y_test_cat_rw, y_pred, average='weighted')"
   ]
  },
  {
   "cell_type": "markdown",
   "id": "7386f698-601c-407f-9f1a-0dc6d52f72c9",
   "metadata": {},
   "source": [
    "### Stratified shuffle split"
   ]
  },
  {
   "cell_type": "code",
   "execution_count": null,
   "id": "27768a85-0126-4b2f-8b43-6ab67e07212d",
   "metadata": {},
   "outputs": [],
   "source": [
    "rwdd =rwd.drop(['quality'], axis=1)"
   ]
  },
  {
   "cell_type": "code",
   "execution_count": null,
   "id": "5c413787-373c-48c9-a762-726e7f51b3d3",
   "metadata": {},
   "outputs": [],
   "source": [
    "sss = StratifiedShuffleSplit(n_splits=1, test_size=0.2, random_state=10)\n",
    "X, y = rwdd.drop(['quality_cat'], axis=1), rwdd['quality_cat']\n",
    "for train_idx, test_idx in sss.split(rwdd.drop(['quality_cat'], axis=1), rwdd['quality_cat']):\n",
    "    X_train, X_test = X.loc[train_idx], X.loc[test_idx] \n",
    "    y_train, y_test = y.loc[train_idx], y.loc[test_idx]\n"
   ]
  },
  {
   "cell_type": "code",
   "execution_count": null,
   "id": "144c4d64-d651-49d7-aaba-2b9f0456b6fd",
   "metadata": {},
   "outputs": [],
   "source": [
    "# svm_clf = Pipeline([\n",
    "#     (\"scaler\", StandardScaler()),\n",
    "#     (\"svm_clf\", SVC(kernel=\"poly\", degree=3, coef0=1, C=5)),\n",
    "# ])\n",
    "svm_clf = make_pipeline(StandardScaler(), SVC(kernel=\"poly\", degree=3, coef0=1, C=5))\n",
    "svm_clf.fit(X_train, y_train)"
   ]
  },
  {
   "cell_type": "code",
   "execution_count": null,
   "id": "006d0d67-b952-41b4-85fc-0f3c808fcd73",
   "metadata": {},
   "outputs": [],
   "source": [
    "svm_clf.score(X_test, y_test)"
   ]
  },
  {
   "cell_type": "code",
   "execution_count": null,
   "id": "8cfd2b15-d815-466f-9679-7217e4510f6a",
   "metadata": {},
   "outputs": [],
   "source": [
    "scores = cross_val_score(svm_clf, X, y, cv=10)\n",
    "print(scores, '\\n', scores.mean(), '\\n', scores.std())"
   ]
  },
  {
   "cell_type": "code",
   "execution_count": null,
   "id": "6d9b37c4-7a30-442c-9cd8-ffcb46d15192",
   "metadata": {},
   "outputs": [],
   "source": [
    "y_train_pred = cross_val_predict(svm_clf, X_train, y_train, cv=5)"
   ]
  },
  {
   "cell_type": "code",
   "execution_count": null,
   "id": "0bd5be4f-ad92-46cd-a729-7fa03ed03ab0",
   "metadata": {},
   "outputs": [],
   "source": [
    "cm = confusion_matrix(y_train, y_train_pred, labels=['low', 'medium', 'high'])"
   ]
  },
  {
   "cell_type": "code",
   "execution_count": null,
   "id": "947eca20-1138-4b70-8cb0-ee7876a68d01",
   "metadata": {},
   "outputs": [],
   "source": [
    "plt.figure(figsize=(3,2))\n",
    "ConfusionMatrixDisplay.from_predictions(y_train, y_train_pred, labels=['low', 'medium', 'high'])\n",
    "plt.grid(False)\n",
    "plt.show()\n"
   ]
  },
  {
   "cell_type": "code",
   "execution_count": null,
   "id": "51992f4c-e5c1-42bd-9a9b-b375671189d3",
   "metadata": {},
   "outputs": [],
   "source": [
    "from sklearn.metrics import precision_score, recall_score, f1_score\n",
    "avg = 'weighted'\n",
    "for score in (precision_score, recall_score, f1_score):\n",
    "    print(f\"{score.__name__}: {score(y_train, y_train_pred, average=avg)}\")\n",
    "          \n",
    "          \n",
    "precision = precision_score(y_train, y_train_pred, average=avg)\n",
    "recall = recall_score(y_train, y_train_pred, average=avg)\n",
    "f1 = f1_score(y_train, y_train_pred, average=avg)\n",
    "print(precision, recall, f1)"
   ]
  },
  {
   "cell_type": "markdown",
   "id": "fd0c30c1-0862-47d9-9e75-363332d22d4e",
   "metadata": {},
   "source": [
    "### All medium classifier"
   ]
  },
  {
   "cell_type": "code",
   "execution_count": null,
   "id": "6568aba0-f601-4c8c-a274-4313706ced03",
   "metadata": {},
   "outputs": [],
   "source": [
    "class alwaysMedium(BaseEstimator):\n",
    "    def fit(self, X, y=None):\n",
    "        return self\n",
    "    def predict(self, X):\n",
    "        return(['medium'] * len(X))"
   ]
  },
  {
   "cell_type": "code",
   "execution_count": null,
   "id": "fe8a1e61-65f9-4d06-aa77-d0b5e84140e9",
   "metadata": {},
   "outputs": [],
   "source": [
    "model = alwaysMedium()\n",
    "scores = cross_val_score(model, X, y, cv=10, scoring=\"accuracy\")\n",
    "print(scores, '\\n', scores.mean(), '\\n', scores.std())"
   ]
  },
  {
   "cell_type": "markdown",
   "id": "b80f6f4a",
   "metadata": {},
   "source": [
    "***\n",
    "***\n",
    "\n",
    "## References\n",
    "\n",
    "[1] Cortez, P., Cerdeira, A., Almeida, F., Matos, T., Reis, J., 2009, Modeling wine preferences by data mining from physicochemical properties, Decision Support Systems 47(4):547-553. doi:10.1016/j.dss.2009.05.016 \n",
    "\n",
    "[2] Dua, D. and Graff, C. (2019). UCI Machine Learning Repository [http://archive.ics.uci.edu/ml]. Irvine, CA: University of California, School of Information and Computer Science\n",
    "\n",
    "[3] Scikit-learn developers, https://scikit-learn.org/stable/modules/preprocessing.html\n",
    "\n",
    "[4] Géron, A., 2019, Hands-on Machine Learning with Scikit-Learn, Keras & TensorFlow, O' Reilly: Sebastopol\n",
    "\n",
    "[5] https://scikit-learn.org/stable/modules/generated/sklearn.model_selection.train_test_split.html#sklearn.model_selection.train_test_split\n",
    "\n",
    "[6] Should we apply normalization to test data as well? https://datascience.stackexchange.com/a/27616\n",
    "\n",
    "[7] Géron, A., 2019, Hands-on Machine Learning with Scikit-Learn, Keras & TensorFlow, O' Reilly: Sebastopol p:223\n",
    "\n",
    "[8] https://stats.stackexchange.com/a/69159 Why do we need to normalize data before principal component analysis (PCA)?\n",
    "\n",
    "[9] Géron, A., 2019, Hands-on Machine Learning with Scikit-Learn, Keras & TensorFlow, O' Reilly: Sebastopol p:227\n",
    "\n",
    "[10] Géron, A., 2019, Hands-on Machine Learning with Scikit-Learn, Keras & TensorFlow, O' Reilly: Sebastopol p:233  #### LDA good to reduce dimensionality before another classifcation algorithm such as SVM\n",
    "\n",
    "[11] https://scikit-learn.org/stable/modules/preprocessing.html Standardization, or mean removal and variance scaling\n",
    "\n",
    "[12] https://scikit-learn.org/stable/modules/generated/sklearn.discriminant_analysis.LinearDiscriminantAnalysis.html sklearn.discriminant_analysis.LinearDiscriminantAnalysis \"The model fits a Gaussian density to each class, assuming that all classes share the same covariance matrix.\""
   ]
  },
  {
   "cell_type": "code",
   "execution_count": null,
   "id": "58420b1b-7590-42c8-8f80-1da4da3b94fa",
   "metadata": {},
   "outputs": [],
   "source": []
  }
 ],
 "metadata": {
  "interpreter": {
   "hash": "35b9a8b0d6f66693e587d7fc889f4b9a771e984fee80e4f47d19c50fd92a638b"
  },
  "kernelspec": {
   "display_name": "Python 3 (ipykernel)",
   "language": "python",
   "name": "python3"
  },
  "language_info": {
   "codemirror_mode": {
    "name": "ipython",
    "version": 3
   },
   "file_extension": ".py",
   "mimetype": "text/x-python",
   "name": "python",
   "nbconvert_exporter": "python",
   "pygments_lexer": "ipython3",
   "version": "3.9.7"
  }
 },
 "nbformat": 4,
 "nbformat_minor": 5
}
