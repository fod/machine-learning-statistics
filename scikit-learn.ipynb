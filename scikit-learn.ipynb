{
 "cells": [
  {
   "cell_type": "markdown",
   "id": "96866573",
   "metadata": {},
   "source": [
    "# scikit-learn"
   ]
  },
  {
   "cell_type": "markdown",
   "id": "0e7e67ad",
   "metadata": {},
   "source": [
    "## Overview\n",
    "\n",
    "Scikit-learn [R] is a Python package containing a wide selection of tools for machine learning. Machine learning is a technique of using computers to make predictions on unseen data based on either previously seen data or algorithms which find patterns within data. In addition to a large collection of data analysis algorithms, the package also provides tools for data preprocessing and dimensionality reduction; model selection and hyperparameter tuning - that is, finding an algorithm and a set of parameters to that algorithm that enable it to best perform on a particular dataset.\n",
    "\n",
    "1. Organisation of package\n",
    "1. Consistent API -- `transform()`, `fit()`, `fit_transform()`, `predict`, etc\n",
    "1. Pipelines and Grid / Randomised search\n",
    "\n"
   ]
  },
  {
   "cell_type": "markdown",
   "id": "8643b0b3-14be-42f9-ae48-f52ac006caac",
   "metadata": {},
   "source": [
    "## Imports\n",
    "\n",
    "The following code cells import all the libraries necessary to run this notebook. As there are a lot of imports, they are divided into four cells according to their function for easier management. "
   ]
  },
  {
   "cell_type": "code",
   "execution_count": 2,
   "id": "11b2db0e-f2bd-4a49-af77-b6db2b1d303a",
   "metadata": {},
   "outputs": [],
   "source": [
    "# General utilities\n",
    "\n",
    "# file management\n",
    "import os\n",
    "# downloading datasets\n",
    "import requests\n",
    "# url construction\n",
    "from urllib.parse import urljoin\n",
    "# quick tables\n",
    "from tabulate import tabulate\n",
    "# like zip but doesn't truncate\n",
    "from itertools import zip_longest\n",
    "from IPython.display import display\n"
   ]
  },
  {
   "cell_type": "code",
   "execution_count": 3,
   "id": "0c24679d-753a-4d1f-95e0-50985dfd7d65",
   "metadata": {},
   "outputs": [],
   "source": [
    "# Plotting libraries\n",
    "import matplotlib.pyplot as plt\n",
    "import seaborn as sns"
   ]
  },
  {
   "cell_type": "code",
   "execution_count": 4,
   "id": "b2186e0c-ec0c-4771-b786-b6cd9ee1db2b",
   "metadata": {},
   "outputs": [],
   "source": [
    "# Data manipulation\n",
    "import pandas as pd\n",
    "import numpy as np"
   ]
  },
  {
   "cell_type": "code",
   "execution_count": 5,
   "id": "fb9e2277-4179-4c69-b8ab-0dbc6b2c575f",
   "metadata": {},
   "outputs": [
    {
     "name": "stderr",
     "output_type": "stream",
     "text": [
      "Intel(R) Extension for Scikit-learn* enabled (https://github.com/intel/scikit-learn-intelex)\n"
     ]
    }
   ],
   "source": [
    "from sklearnex import patch_sklearn, unpatch_sklearn\n",
    "patch_sklearn()\n",
    "\n",
    "# scikit-learn\n",
    "from sklearn.model_selection import train_test_split\n",
    "from sklearn.preprocessing import StandardScaler\n",
    "from sklearn.preprocessing import MinMaxScaler\n",
    "from sklearn.svm import SVC\n",
    "from sklearn.pipeline import Pipeline\n",
    "from sklearn.pipeline import make_pipeline\n",
    "from sklearn.model_selection import GridSearchCV\n",
    "from sklearn.model_selection import cross_val_score\n",
    "from sklearn.model_selection import StratifiedShuffleSplit\n",
    "from sklearn.base import BaseEstimator\n",
    "from sklearn.metrics import confusion_matrix\n",
    "from sklearn.model_selection import cross_val_predict\n",
    "from sklearn.metrics import ConfusionMatrixDisplay\n",
    "from sklearn.decomposition import PCA\n",
    "from sklearn.decomposition import KernelPCA\n",
    "from sklearn.discriminant_analysis import LinearDiscriminantAnalysis \n",
    "from sklearn.base import TransformerMixin\n",
    "from sklearn.cluster import FeatureAgglomeration\n",
    "from sklearn.metrics import precision_score, recall_score, f1_score\n",
    "from sklearn.preprocessing import LabelEncoder\n",
    "from sklearn.ensemble import RandomForestClassifier\n",
    "from category_encoders import TargetEncoder\n",
    "from category_encoders.ordinal import OrdinalEncoder\n",
    "from sklearn.linear_model import LinearRegression\n",
    "from sklearn.metrics import mean_squared_error, r2_score\n",
    "from sklearn.preprocessing import RobustScaler\n",
    "from sklearn.dummy import DummyClassifier\n",
    "\n"
   ]
  },
  {
   "cell_type": "markdown",
   "id": "cfdd71a2",
   "metadata": {},
   "source": [
    "## The Wine Quality Dataset\n",
    "The wine quality dataset, available from the [UCI Machine Learning Repository](https://archive.ics.uci.edu/ml/machine-learning-databases/wine-quality/), consists of two semicolon-delimited files, one relating to Portuguese *Vinho Verde* red wines and one to whites. The datasets were produced by [Cortez et al.][cortezetal] in order to assess various machine learning algorithms in prediction of the quality of a wine from its properties. They considered support vector machines (SVM), multiple regression analysis, and neural networks. Of these the best performance was achieved using SVM [RPaper,RDatasheet].\n",
    "\n",
    "Twelve attributes are recorded for each wine sample; eleven are objective physical or chemical attributes, and one, `quality`, is a subjective assessment of the wine's quality. The `quality` attribute is recorded as a value from 0 (poorest quality) to 10 (best quality) and is derived from the median score assigned to it by at least three experts [RDatasheet].\n",
    "\n",
    "The data information sheet distributed with the data [R] notes that several attributes may be correlated and that not all attributes necessarily affect quality and suggests that feature selection may be advisable. The datasheet also suggests that the problem of wine quality prediction may be cast as a regression problem or as a classification problem."
   ]
  },
  {
   "cell_type": "markdown",
   "id": "f26a9ec8-9630-4c61-8620-85392e53cc2e",
   "metadata": {
    "jp-MarkdownHeadingCollapsed": true,
    "tags": []
   },
   "source": [
    "### Procedure\n",
    "\n",
    "1. [Acquire the data](#Acquire-the-dataset)\n",
    "1. [Split the data](#Split-the-data)\n",
    "1. [Explore the data](#Explore-the-dataset)\n",
    "    1. [View a sample of each dataset](#View-the-data)\n",
    "    1. [View the distribution of each feature](#View-the-distribution-of-each-feature)\n",
    "    1. [View distribution of target variable](#View-distribution-of-target-variable)\n",
    "    1. [View correlations between features](#View-feature-correlations)\n",
    "    1. [Assess relative influence of each feature on the target variable](#Assess-relative-influence-of-each-feature-on-the-target-variable)\n",
    "1. [Feature scaling](#Feature-scaling)\n",
    "1. [Dimensionality reduction](#Dimensionality-reduction)\n",
    "    1. [Feature selection](#Feature-selection)\n",
    "    1. [Principal Components Analysis](#Principal-components-analysis-(PCA))\n",
    "    1. [Kernel PCA](#Kernel-PCA)\n",
    "1. [Model selection](#Model-selection)\n",
    "    1. Decide on whether the problem will be cast as binary classification, multiclass classification, or regression\n",
    "    1. Adjust target variable as necessary\n",
    "    1. Select some suitable models\n",
    "1. [Hyperparameter tuning](#Hyperparameter-tuning)\n",
    "    1. [Pipelines](#Pipelines)\n",
    "    2. [Grid Search](#Grid-search)\n",
    "1. Fit and assess models\n",
    "    1. Fit each model/hyperparameter/featureset combination\n",
    "    1. Conduct assessment appropriate to each combination\n",
    "    1. Select best candidates and fine tune\n",
    "1. Test predictions\n",
    "    1. Use trained model(s) to predict test set\n",
    "    2. Assess model performance on test set\n"
   ]
  },
  {
   "cell_type": "markdown",
   "id": "17edbbce",
   "metadata": {},
   "source": [
    "### Acquire the dataset\n",
    "The dataset is downloaded as two semicolon delimited files from the UCI Machine Learning Repository and saved to disc. "
   ]
  },
  {
   "cell_type": "code",
   "execution_count": 6,
   "id": "bb6629cd",
   "metadata": {},
   "outputs": [],
   "source": [
    "# Location of wine quality dataset\n",
    "base_url = 'https://archive.ics.uci.edu/ml/machine-learning-databases/wine-quality/'\n",
    "# Local data directory\n",
    "data_dir = 'data/wine/'\n",
    "\n",
    "# Names of dataset files to be downloaded\n",
    "source_files = ('winequality-red.csv', 'winequality-white.csv', 'winequality.names')\n",
    "\n",
    "# for each of the source files construct url, \n",
    "# fetch file, and write to data directory\n",
    "for datafile in (source_files):\n",
    "    response = requests.get(urljoin(base_url, datafile))\n",
    "    with open(os.path.join(data_dir, datafile), 'wb') as f:\n",
    "        f.write(response.content)"
   ]
  },
  {
   "cell_type": "markdown",
   "id": "480e6f98-a71e-4860-8d62-1025f89c6467",
   "metadata": {},
   "source": [
    "The data is then loaded into two pandas dataframes, one for the red wine dataset and one for the white."
   ]
  },
  {
   "cell_type": "code",
   "execution_count": 7,
   "id": "74ce7542-4095-4a60-bffb-9ded67433a82",
   "metadata": {},
   "outputs": [],
   "source": [
    "# Load red wine and white wine datasets into pandas DataFrames\n",
    "redwine = pd.read_csv('data/wine/winequality-red.csv', delimiter=\";\")\n",
    "whitewine = pd.read_csv('data/wine/winequality-white.csv', delimiter=\";\")"
   ]
  },
  {
   "cell_type": "markdown",
   "id": "d18fa45c-5449-41ae-a62f-82cfd614c5c5",
   "metadata": {},
   "source": [
    "## Split the data\n",
    "Each of the two wine datasets is split into a training set, representing 80% of the data, and a test set, representing the other 20%. The data is shuffled before splitting and the split is stratified on the `quality` output variable. This ensures that each category is proportionally represented in both the training and test sets. It is necessary to do this because, as noted [below](#View-distribution-of-target-variable), the target variable is unevenly distributed. The input features are also split from the target variable in both the training and testing sets. The input feature DataFrame names are prefixed with an `X` and the targets with a `y`. The split is conducted using `sklearn.model_selection.train_test_split()` [5]."
   ]
  },
  {
   "cell_type": "code",
   "execution_count": 8,
   "id": "8c7a9b14-03ef-4aa5-b54b-7993fcca3738",
   "metadata": {},
   "outputs": [],
   "source": [
    "# Merge quality ratngs so that 3,4 = 0 (low), 5,6 = 1 (medium), 7,8,9 = 2 (high)\n",
    "for w in redwine, whitewine:\n",
    "    w['quality_cat_3'] = np.where(w['quality'] <= 4, 0, np.where(w['quality'] >= 7, 2, 1))\n",
    "    w['quality_cat_2'] = np.where(w['quality'] <= 5, 0, 1)"
   ]
  },
  {
   "cell_type": "code",
   "execution_count": 9,
   "id": "780b1e70-6d08-4504-8770-679976e944ad",
   "metadata": {},
   "outputs": [],
   "source": [
    "# Split red wine data into random training and test (20%) subsets with stratified sampling on quality\n",
    "X_train_rw, X_test_rw, y_train_rw, y_test_rw = \\\n",
    "    train_test_split(redwine.drop('quality', axis=1), redwine['quality'], stratify=redwine['quality'], test_size=0.2)\n",
    "# Split red wine data into random training and test (20%) subsets with stratified sampling on quality\n",
    "X_train_ww, X_test_ww, y_train_ww, y_test_ww = \\\n",
    "    train_test_split(whitewine.drop('quality', axis=1), whitewine['quality'], stratify=whitewine['quality'], test_size=0.2)"
   ]
  },
  {
   "cell_type": "code",
   "execution_count": 10,
   "id": "eaac96be-d170-4ea9-9ce1-53903d9e9adf",
   "metadata": {},
   "outputs": [
    {
     "data": {
      "text/html": [
       "<div>\n",
       "<style scoped>\n",
       "    .dataframe tbody tr th:only-of-type {\n",
       "        vertical-align: middle;\n",
       "    }\n",
       "\n",
       "    .dataframe tbody tr th {\n",
       "        vertical-align: top;\n",
       "    }\n",
       "\n",
       "    .dataframe thead th {\n",
       "        text-align: right;\n",
       "    }\n",
       "</style>\n",
       "<table border=\"1\" class=\"dataframe\">\n",
       "  <thead>\n",
       "    <tr style=\"text-align: right;\">\n",
       "      <th></th>\n",
       "      <th>fixed acidity</th>\n",
       "      <th>volatile acidity</th>\n",
       "      <th>citric acid</th>\n",
       "      <th>residual sugar</th>\n",
       "      <th>chlorides</th>\n",
       "      <th>free sulfur dioxide</th>\n",
       "      <th>total sulfur dioxide</th>\n",
       "      <th>density</th>\n",
       "      <th>pH</th>\n",
       "      <th>sulphates</th>\n",
       "      <th>alcohol</th>\n",
       "      <th>quality_cat</th>\n",
       "    </tr>\n",
       "  </thead>\n",
       "  <tbody>\n",
       "    <tr>\n",
       "      <th>1274</th>\n",
       "      <td>7.8</td>\n",
       "      <td>0.580</td>\n",
       "      <td>0.13</td>\n",
       "      <td>2.1</td>\n",
       "      <td>0.102</td>\n",
       "      <td>17.0</td>\n",
       "      <td>36.0</td>\n",
       "      <td>0.99440</td>\n",
       "      <td>3.24</td>\n",
       "      <td>0.53</td>\n",
       "      <td>11.2</td>\n",
       "      <td>1</td>\n",
       "    </tr>\n",
       "    <tr>\n",
       "      <th>1178</th>\n",
       "      <td>5.6</td>\n",
       "      <td>0.915</td>\n",
       "      <td>0.00</td>\n",
       "      <td>2.1</td>\n",
       "      <td>0.041</td>\n",
       "      <td>17.0</td>\n",
       "      <td>78.0</td>\n",
       "      <td>0.99346</td>\n",
       "      <td>3.68</td>\n",
       "      <td>0.73</td>\n",
       "      <td>11.4</td>\n",
       "      <td>1</td>\n",
       "    </tr>\n",
       "    <tr>\n",
       "      <th>1206</th>\n",
       "      <td>7.2</td>\n",
       "      <td>0.360</td>\n",
       "      <td>0.46</td>\n",
       "      <td>2.1</td>\n",
       "      <td>0.074</td>\n",
       "      <td>24.0</td>\n",
       "      <td>44.0</td>\n",
       "      <td>0.99534</td>\n",
       "      <td>3.40</td>\n",
       "      <td>0.85</td>\n",
       "      <td>11.0</td>\n",
       "      <td>2</td>\n",
       "    </tr>\n",
       "    <tr>\n",
       "      <th>1209</th>\n",
       "      <td>6.2</td>\n",
       "      <td>0.390</td>\n",
       "      <td>0.43</td>\n",
       "      <td>2.0</td>\n",
       "      <td>0.071</td>\n",
       "      <td>14.0</td>\n",
       "      <td>24.0</td>\n",
       "      <td>0.99428</td>\n",
       "      <td>3.45</td>\n",
       "      <td>0.87</td>\n",
       "      <td>11.2</td>\n",
       "      <td>2</td>\n",
       "    </tr>\n",
       "    <tr>\n",
       "      <th>815</th>\n",
       "      <td>10.8</td>\n",
       "      <td>0.450</td>\n",
       "      <td>0.33</td>\n",
       "      <td>2.5</td>\n",
       "      <td>0.099</td>\n",
       "      <td>20.0</td>\n",
       "      <td>38.0</td>\n",
       "      <td>0.99818</td>\n",
       "      <td>3.24</td>\n",
       "      <td>0.71</td>\n",
       "      <td>10.8</td>\n",
       "      <td>1</td>\n",
       "    </tr>\n",
       "  </tbody>\n",
       "</table>\n",
       "</div>"
      ],
      "text/plain": [
       "      fixed acidity  volatile acidity  citric acid  residual sugar  chlorides  \\\n",
       "1274            7.8             0.580         0.13             2.1      0.102   \n",
       "1178            5.6             0.915         0.00             2.1      0.041   \n",
       "1206            7.2             0.360         0.46             2.1      0.074   \n",
       "1209            6.2             0.390         0.43             2.0      0.071   \n",
       "815            10.8             0.450         0.33             2.5      0.099   \n",
       "\n",
       "      free sulfur dioxide  total sulfur dioxide  density    pH  sulphates  \\\n",
       "1274                 17.0                  36.0  0.99440  3.24       0.53   \n",
       "1178                 17.0                  78.0  0.99346  3.68       0.73   \n",
       "1206                 24.0                  44.0  0.99534  3.40       0.85   \n",
       "1209                 14.0                  24.0  0.99428  3.45       0.87   \n",
       "815                  20.0                  38.0  0.99818  3.24       0.71   \n",
       "\n",
       "      alcohol  quality_cat  \n",
       "1274     11.2            1  \n",
       "1178     11.4            1  \n",
       "1206     11.0            2  \n",
       "1209     11.2            2  \n",
       "815      10.8            1  "
      ]
     },
     "execution_count": 10,
     "metadata": {},
     "output_type": "execute_result"
    }
   ],
   "source": [
    "X_train_rw.head()"
   ]
  },
  {
   "cell_type": "code",
   "execution_count": 11,
   "id": "dfead91b-7bc0-48a9-9e06-3dac38749695",
   "metadata": {},
   "outputs": [],
   "source": [
    "# Create new train and test y values from the quality_cat columns \n",
    "# and remove the column from the X value datasets\n",
    "# Red wine\n",
    "# 3 Category\n",
    "y_train_cat_rw, y_test_cat_rw = X_train_rw['quality_cat_3'], X_test_rw['quality_cat_3']\n",
    "X_train_rw, X_test_rw = X_train_rw.drop('quality_cat_3', axis=1), X_test_rw.drop('quality_cat_3', axis=1)\n",
    "# 2 Category\n",
    "y_train_cat_rw, y_test_cat_rw = X_train_rw['quality_cat_2'], X_test_rw['quality_cat_2']\n",
    "X_train_rw, X_test_rw = X_train_rw.drop('quality_cat_2', axis=1), X_test_rw.drop('quality_cat_2', axis=1)\n",
    "\n",
    "# White wine\n",
    "# 3 Category\n",
    "y_train_cat_ww, y_test_cat_ww = X_train_ww['quality_cat_3'], X_test_ww['quality_cat_3']\n",
    "X_train_ww, X_test_ww = X_train_ww.drop('quality_cat_3', axis=1), X_test_ww.drop('quality_cat_3', axis=1)\n",
    "# 2 Category\n",
    "y_train_cat_ww, y_test_cat_ww = X_train_ww['quality_cat_2'], X_test_ww['quality_cat_2']\n",
    "X_train_ww, X_test_ww = X_train_ww.drop('quality_cat_2', axis=1), X_test_ww.drop('quality_cat_2', axis=1)"
   ]
  },
  {
   "cell_type": "markdown",
   "id": "823c2743-7aec-435b-849b-7c2eb45e7edd",
   "metadata": {},
   "source": [
    "## Explore the dataset\n",
    "Two DataFrames are created, `rw` and `ww`, representing The red wine and white wine datasets respectively. They are subset from the original full datasets as loaded from csv using the training set indices. They will be used to explore the data. The instances in the test subsets must remain unseen if the analysis is to remain unbiased by their contents."
   ]
  },
  {
   "cell_type": "code",
   "execution_count": 12,
   "id": "fa7fba32-9080-4a6d-9534-8c27e3ca57e0",
   "metadata": {},
   "outputs": [],
   "source": [
    "rw = redwine.iloc[X_train_rw.index]\n",
    "ww = whitewine.iloc[X_train_ww.index]\n",
    "# Give the DataFrames name attributes for quick labelling of output\n",
    "rw.name, ww.name = \"Red Wine\", \"White Wine\""
   ]
  },
  {
   "cell_type": "markdown",
   "id": "99a2273d-7e72-4c31-9ac4-e147afc5b68b",
   "metadata": {},
   "source": [
    "### View the data\n",
    "The first five rows of each of the two DataFrames are viewed using `pandas.DataFrame.head()`. This gives a general idea of the structure of the dataset."
   ]
  },
  {
   "cell_type": "code",
   "execution_count": 13,
   "id": "842ac8cc-a561-4301-b5f5-d7c004d66d89",
   "metadata": {},
   "outputs": [
    {
     "name": "stdout",
     "output_type": "stream",
     "text": [
      "-----------\n",
      "Red Wine\n",
      "-----------\n"
     ]
    },
    {
     "data": {
      "text/html": [
       "<div>\n",
       "<style scoped>\n",
       "    .dataframe tbody tr th:only-of-type {\n",
       "        vertical-align: middle;\n",
       "    }\n",
       "\n",
       "    .dataframe tbody tr th {\n",
       "        vertical-align: top;\n",
       "    }\n",
       "\n",
       "    .dataframe thead th {\n",
       "        text-align: right;\n",
       "    }\n",
       "</style>\n",
       "<table border=\"1\" class=\"dataframe\">\n",
       "  <thead>\n",
       "    <tr style=\"text-align: right;\">\n",
       "      <th></th>\n",
       "      <th>fixed acidity</th>\n",
       "      <th>volatile acidity</th>\n",
       "      <th>citric acid</th>\n",
       "      <th>residual sugar</th>\n",
       "      <th>chlorides</th>\n",
       "      <th>free sulfur dioxide</th>\n",
       "      <th>total sulfur dioxide</th>\n",
       "      <th>density</th>\n",
       "      <th>pH</th>\n",
       "      <th>sulphates</th>\n",
       "      <th>alcohol</th>\n",
       "      <th>quality</th>\n",
       "      <th>quality_cat</th>\n",
       "    </tr>\n",
       "  </thead>\n",
       "  <tbody>\n",
       "    <tr>\n",
       "      <th>1274</th>\n",
       "      <td>7.8</td>\n",
       "      <td>0.580</td>\n",
       "      <td>0.13</td>\n",
       "      <td>2.1</td>\n",
       "      <td>0.102</td>\n",
       "      <td>17.0</td>\n",
       "      <td>36.0</td>\n",
       "      <td>0.99440</td>\n",
       "      <td>3.24</td>\n",
       "      <td>0.53</td>\n",
       "      <td>11.2</td>\n",
       "      <td>6</td>\n",
       "      <td>1</td>\n",
       "    </tr>\n",
       "    <tr>\n",
       "      <th>1178</th>\n",
       "      <td>5.6</td>\n",
       "      <td>0.915</td>\n",
       "      <td>0.00</td>\n",
       "      <td>2.1</td>\n",
       "      <td>0.041</td>\n",
       "      <td>17.0</td>\n",
       "      <td>78.0</td>\n",
       "      <td>0.99346</td>\n",
       "      <td>3.68</td>\n",
       "      <td>0.73</td>\n",
       "      <td>11.4</td>\n",
       "      <td>5</td>\n",
       "      <td>1</td>\n",
       "    </tr>\n",
       "    <tr>\n",
       "      <th>1206</th>\n",
       "      <td>7.2</td>\n",
       "      <td>0.360</td>\n",
       "      <td>0.46</td>\n",
       "      <td>2.1</td>\n",
       "      <td>0.074</td>\n",
       "      <td>24.0</td>\n",
       "      <td>44.0</td>\n",
       "      <td>0.99534</td>\n",
       "      <td>3.40</td>\n",
       "      <td>0.85</td>\n",
       "      <td>11.0</td>\n",
       "      <td>7</td>\n",
       "      <td>2</td>\n",
       "    </tr>\n",
       "    <tr>\n",
       "      <th>1209</th>\n",
       "      <td>6.2</td>\n",
       "      <td>0.390</td>\n",
       "      <td>0.43</td>\n",
       "      <td>2.0</td>\n",
       "      <td>0.071</td>\n",
       "      <td>14.0</td>\n",
       "      <td>24.0</td>\n",
       "      <td>0.99428</td>\n",
       "      <td>3.45</td>\n",
       "      <td>0.87</td>\n",
       "      <td>11.2</td>\n",
       "      <td>7</td>\n",
       "      <td>2</td>\n",
       "    </tr>\n",
       "    <tr>\n",
       "      <th>815</th>\n",
       "      <td>10.8</td>\n",
       "      <td>0.450</td>\n",
       "      <td>0.33</td>\n",
       "      <td>2.5</td>\n",
       "      <td>0.099</td>\n",
       "      <td>20.0</td>\n",
       "      <td>38.0</td>\n",
       "      <td>0.99818</td>\n",
       "      <td>3.24</td>\n",
       "      <td>0.71</td>\n",
       "      <td>10.8</td>\n",
       "      <td>5</td>\n",
       "      <td>1</td>\n",
       "    </tr>\n",
       "  </tbody>\n",
       "</table>\n",
       "</div>"
      ],
      "text/plain": [
       "      fixed acidity  volatile acidity  citric acid  residual sugar  chlorides  \\\n",
       "1274            7.8             0.580         0.13             2.1      0.102   \n",
       "1178            5.6             0.915         0.00             2.1      0.041   \n",
       "1206            7.2             0.360         0.46             2.1      0.074   \n",
       "1209            6.2             0.390         0.43             2.0      0.071   \n",
       "815            10.8             0.450         0.33             2.5      0.099   \n",
       "\n",
       "      free sulfur dioxide  total sulfur dioxide  density    pH  sulphates  \\\n",
       "1274                 17.0                  36.0  0.99440  3.24       0.53   \n",
       "1178                 17.0                  78.0  0.99346  3.68       0.73   \n",
       "1206                 24.0                  44.0  0.99534  3.40       0.85   \n",
       "1209                 14.0                  24.0  0.99428  3.45       0.87   \n",
       "815                  20.0                  38.0  0.99818  3.24       0.71   \n",
       "\n",
       "      alcohol  quality  quality_cat  \n",
       "1274     11.2        6            1  \n",
       "1178     11.4        5            1  \n",
       "1206     11.0        7            2  \n",
       "1209     11.2        7            2  \n",
       "815      10.8        5            1  "
      ]
     },
     "metadata": {},
     "output_type": "display_data"
    },
    {
     "name": "stdout",
     "output_type": "stream",
     "text": [
      "-----------\n",
      "White Wine\n",
      "-----------\n"
     ]
    },
    {
     "data": {
      "text/html": [
       "<div>\n",
       "<style scoped>\n",
       "    .dataframe tbody tr th:only-of-type {\n",
       "        vertical-align: middle;\n",
       "    }\n",
       "\n",
       "    .dataframe tbody tr th {\n",
       "        vertical-align: top;\n",
       "    }\n",
       "\n",
       "    .dataframe thead th {\n",
       "        text-align: right;\n",
       "    }\n",
       "</style>\n",
       "<table border=\"1\" class=\"dataframe\">\n",
       "  <thead>\n",
       "    <tr style=\"text-align: right;\">\n",
       "      <th></th>\n",
       "      <th>fixed acidity</th>\n",
       "      <th>volatile acidity</th>\n",
       "      <th>citric acid</th>\n",
       "      <th>residual sugar</th>\n",
       "      <th>chlorides</th>\n",
       "      <th>free sulfur dioxide</th>\n",
       "      <th>total sulfur dioxide</th>\n",
       "      <th>density</th>\n",
       "      <th>pH</th>\n",
       "      <th>sulphates</th>\n",
       "      <th>alcohol</th>\n",
       "      <th>quality</th>\n",
       "      <th>quality_cat</th>\n",
       "    </tr>\n",
       "  </thead>\n",
       "  <tbody>\n",
       "    <tr>\n",
       "      <th>4266</th>\n",
       "      <td>6.0</td>\n",
       "      <td>0.31</td>\n",
       "      <td>0.27</td>\n",
       "      <td>2.3</td>\n",
       "      <td>0.042</td>\n",
       "      <td>19.0</td>\n",
       "      <td>120.0</td>\n",
       "      <td>0.98952</td>\n",
       "      <td>3.32</td>\n",
       "      <td>0.41</td>\n",
       "      <td>12.7</td>\n",
       "      <td>7</td>\n",
       "      <td>2</td>\n",
       "    </tr>\n",
       "    <tr>\n",
       "      <th>3385</th>\n",
       "      <td>6.4</td>\n",
       "      <td>0.32</td>\n",
       "      <td>0.31</td>\n",
       "      <td>1.9</td>\n",
       "      <td>0.037</td>\n",
       "      <td>34.0</td>\n",
       "      <td>126.0</td>\n",
       "      <td>0.99000</td>\n",
       "      <td>3.06</td>\n",
       "      <td>0.45</td>\n",
       "      <td>11.8</td>\n",
       "      <td>6</td>\n",
       "      <td>1</td>\n",
       "    </tr>\n",
       "    <tr>\n",
       "      <th>1056</th>\n",
       "      <td>7.5</td>\n",
       "      <td>0.21</td>\n",
       "      <td>0.34</td>\n",
       "      <td>1.2</td>\n",
       "      <td>0.060</td>\n",
       "      <td>26.0</td>\n",
       "      <td>111.0</td>\n",
       "      <td>0.99310</td>\n",
       "      <td>3.51</td>\n",
       "      <td>0.47</td>\n",
       "      <td>10.7</td>\n",
       "      <td>6</td>\n",
       "      <td>1</td>\n",
       "    </tr>\n",
       "    <tr>\n",
       "      <th>1501</th>\n",
       "      <td>8.3</td>\n",
       "      <td>0.20</td>\n",
       "      <td>0.49</td>\n",
       "      <td>1.7</td>\n",
       "      <td>0.040</td>\n",
       "      <td>34.0</td>\n",
       "      <td>169.0</td>\n",
       "      <td>0.99380</td>\n",
       "      <td>3.05</td>\n",
       "      <td>0.37</td>\n",
       "      <td>10.1</td>\n",
       "      <td>5</td>\n",
       "      <td>1</td>\n",
       "    </tr>\n",
       "    <tr>\n",
       "      <th>4151</th>\n",
       "      <td>7.4</td>\n",
       "      <td>0.26</td>\n",
       "      <td>0.32</td>\n",
       "      <td>3.7</td>\n",
       "      <td>0.032</td>\n",
       "      <td>29.0</td>\n",
       "      <td>193.0</td>\n",
       "      <td>0.99134</td>\n",
       "      <td>3.10</td>\n",
       "      <td>0.67</td>\n",
       "      <td>12.5</td>\n",
       "      <td>6</td>\n",
       "      <td>1</td>\n",
       "    </tr>\n",
       "  </tbody>\n",
       "</table>\n",
       "</div>"
      ],
      "text/plain": [
       "      fixed acidity  volatile acidity  citric acid  residual sugar  chlorides  \\\n",
       "4266            6.0              0.31         0.27             2.3      0.042   \n",
       "3385            6.4              0.32         0.31             1.9      0.037   \n",
       "1056            7.5              0.21         0.34             1.2      0.060   \n",
       "1501            8.3              0.20         0.49             1.7      0.040   \n",
       "4151            7.4              0.26         0.32             3.7      0.032   \n",
       "\n",
       "      free sulfur dioxide  total sulfur dioxide  density    pH  sulphates  \\\n",
       "4266                 19.0                 120.0  0.98952  3.32       0.41   \n",
       "3385                 34.0                 126.0  0.99000  3.06       0.45   \n",
       "1056                 26.0                 111.0  0.99310  3.51       0.47   \n",
       "1501                 34.0                 169.0  0.99380  3.05       0.37   \n",
       "4151                 29.0                 193.0  0.99134  3.10       0.67   \n",
       "\n",
       "      alcohol  quality  quality_cat  \n",
       "4266     12.7        7            2  \n",
       "3385     11.8        6            1  \n",
       "1056     10.7        6            1  \n",
       "1501     10.1        5            1  \n",
       "4151     12.5        6            1  "
      ]
     },
     "metadata": {},
     "output_type": "display_data"
    }
   ],
   "source": [
    "for w in rw, ww:\n",
    "    print(f\"-----------\\n{w.name}\\n-----------\")\n",
    "    display(w.head())"
   ]
  },
  {
   "cell_type": "markdown",
   "id": "4844c883-c174-4725-b7bd-2004e5ffe9bf",
   "metadata": {},
   "source": [
    "***\n",
    "\n",
    "The `DataFrame.info()` function returns the name, count, and datatype of each feature in the DataFrame. Each of the two wine datasets consists of 11 input variables of type `float64` and one output variable of type `int64`. The red wine data contains 1279 samples (1599 including the test set)  and the white wine data contains 3918 (4898 including the test set). Neither has any missing values."
   ]
  },
  {
   "cell_type": "code",
   "execution_count": 14,
   "id": "5b295801-6672-43ec-be32-616c104e0071",
   "metadata": {},
   "outputs": [
    {
     "name": "stdout",
     "output_type": "stream",
     "text": [
      "-----------\n",
      "Red Wine\n",
      "-----------\n",
      "<class 'pandas.core.frame.DataFrame'>\n",
      "Int64Index: 1279 entries, 1274 to 1508\n",
      "Data columns (total 13 columns):\n",
      " #   Column                Non-Null Count  Dtype  \n",
      "---  ------                --------------  -----  \n",
      " 0   fixed acidity         1279 non-null   float64\n",
      " 1   volatile acidity      1279 non-null   float64\n",
      " 2   citric acid           1279 non-null   float64\n",
      " 3   residual sugar        1279 non-null   float64\n",
      " 4   chlorides             1279 non-null   float64\n",
      " 5   free sulfur dioxide   1279 non-null   float64\n",
      " 6   total sulfur dioxide  1279 non-null   float64\n",
      " 7   density               1279 non-null   float64\n",
      " 8   pH                    1279 non-null   float64\n",
      " 9   sulphates             1279 non-null   float64\n",
      " 10  alcohol               1279 non-null   float64\n",
      " 11  quality               1279 non-null   int64  \n",
      " 12  quality_cat           1279 non-null   int64  \n",
      "dtypes: float64(11), int64(2)\n",
      "memory usage: 139.9 KB\n",
      "None\n",
      "-----------\n",
      "White Wine\n",
      "-----------\n",
      "<class 'pandas.core.frame.DataFrame'>\n",
      "Int64Index: 3918 entries, 4266 to 2532\n",
      "Data columns (total 13 columns):\n",
      " #   Column                Non-Null Count  Dtype  \n",
      "---  ------                --------------  -----  \n",
      " 0   fixed acidity         3918 non-null   float64\n",
      " 1   volatile acidity      3918 non-null   float64\n",
      " 2   citric acid           3918 non-null   float64\n",
      " 3   residual sugar        3918 non-null   float64\n",
      " 4   chlorides             3918 non-null   float64\n",
      " 5   free sulfur dioxide   3918 non-null   float64\n",
      " 6   total sulfur dioxide  3918 non-null   float64\n",
      " 7   density               3918 non-null   float64\n",
      " 8   pH                    3918 non-null   float64\n",
      " 9   sulphates             3918 non-null   float64\n",
      " 10  alcohol               3918 non-null   float64\n",
      " 11  quality               3918 non-null   int64  \n",
      " 12  quality_cat           3918 non-null   int64  \n",
      "dtypes: float64(11), int64(2)\n",
      "memory usage: 428.5 KB\n",
      "None\n"
     ]
    }
   ],
   "source": [
    "for w in rw, ww:\n",
    "    print(f\"-----------\\n{w.name}\\n-----------\")\n",
    "    print(w.info())"
   ]
  },
  {
   "cell_type": "markdown",
   "id": "fcf5b054-af88-43f6-865c-7201c9689658",
   "metadata": {},
   "source": [
    "***\n",
    "\n",
    "The `DataFrame.describe()` function returns a table containing descriptive statistics for each of the features."
   ]
  },
  {
   "cell_type": "code",
   "execution_count": 15,
   "id": "1bbe98cc-3ee1-472e-a28b-93bd59517967",
   "metadata": {},
   "outputs": [
    {
     "name": "stdout",
     "output_type": "stream",
     "text": [
      "-----------\n",
      "Red Wine\n",
      "-----------\n"
     ]
    },
    {
     "data": {
      "text/html": [
       "<div>\n",
       "<style scoped>\n",
       "    .dataframe tbody tr th:only-of-type {\n",
       "        vertical-align: middle;\n",
       "    }\n",
       "\n",
       "    .dataframe tbody tr th {\n",
       "        vertical-align: top;\n",
       "    }\n",
       "\n",
       "    .dataframe thead th {\n",
       "        text-align: right;\n",
       "    }\n",
       "</style>\n",
       "<table border=\"1\" class=\"dataframe\">\n",
       "  <thead>\n",
       "    <tr style=\"text-align: right;\">\n",
       "      <th></th>\n",
       "      <th>fixed acidity</th>\n",
       "      <th>volatile acidity</th>\n",
       "      <th>citric acid</th>\n",
       "      <th>residual sugar</th>\n",
       "      <th>chlorides</th>\n",
       "      <th>free sulfur dioxide</th>\n",
       "      <th>total sulfur dioxide</th>\n",
       "      <th>density</th>\n",
       "      <th>pH</th>\n",
       "      <th>sulphates</th>\n",
       "      <th>alcohol</th>\n",
       "      <th>quality</th>\n",
       "      <th>quality_cat</th>\n",
       "    </tr>\n",
       "  </thead>\n",
       "  <tbody>\n",
       "    <tr>\n",
       "      <th>count</th>\n",
       "      <td>1279.00</td>\n",
       "      <td>1279.00</td>\n",
       "      <td>1279.00</td>\n",
       "      <td>1279.00</td>\n",
       "      <td>1279.00</td>\n",
       "      <td>1279.00</td>\n",
       "      <td>1279.00</td>\n",
       "      <td>1279.00</td>\n",
       "      <td>1279.00</td>\n",
       "      <td>1279.00</td>\n",
       "      <td>1279.00</td>\n",
       "      <td>1279.00</td>\n",
       "      <td>1279.00</td>\n",
       "    </tr>\n",
       "    <tr>\n",
       "      <th>mean</th>\n",
       "      <td>8.34</td>\n",
       "      <td>0.53</td>\n",
       "      <td>0.27</td>\n",
       "      <td>2.55</td>\n",
       "      <td>0.09</td>\n",
       "      <td>15.62</td>\n",
       "      <td>45.67</td>\n",
       "      <td>1.00</td>\n",
       "      <td>3.31</td>\n",
       "      <td>0.66</td>\n",
       "      <td>10.42</td>\n",
       "      <td>5.64</td>\n",
       "      <td>1.10</td>\n",
       "    </tr>\n",
       "    <tr>\n",
       "      <th>std</th>\n",
       "      <td>1.74</td>\n",
       "      <td>0.18</td>\n",
       "      <td>0.19</td>\n",
       "      <td>1.45</td>\n",
       "      <td>0.05</td>\n",
       "      <td>10.44</td>\n",
       "      <td>32.07</td>\n",
       "      <td>0.00</td>\n",
       "      <td>0.15</td>\n",
       "      <td>0.16</td>\n",
       "      <td>1.06</td>\n",
       "      <td>0.81</td>\n",
       "      <td>0.41</td>\n",
       "    </tr>\n",
       "    <tr>\n",
       "      <th>min</th>\n",
       "      <td>4.60</td>\n",
       "      <td>0.12</td>\n",
       "      <td>0.00</td>\n",
       "      <td>0.90</td>\n",
       "      <td>0.01</td>\n",
       "      <td>1.00</td>\n",
       "      <td>6.00</td>\n",
       "      <td>0.99</td>\n",
       "      <td>2.74</td>\n",
       "      <td>0.33</td>\n",
       "      <td>8.40</td>\n",
       "      <td>3.00</td>\n",
       "      <td>0.00</td>\n",
       "    </tr>\n",
       "    <tr>\n",
       "      <th>25%</th>\n",
       "      <td>7.10</td>\n",
       "      <td>0.40</td>\n",
       "      <td>0.10</td>\n",
       "      <td>1.90</td>\n",
       "      <td>0.07</td>\n",
       "      <td>7.00</td>\n",
       "      <td>21.50</td>\n",
       "      <td>1.00</td>\n",
       "      <td>3.21</td>\n",
       "      <td>0.55</td>\n",
       "      <td>9.50</td>\n",
       "      <td>5.00</td>\n",
       "      <td>1.00</td>\n",
       "    </tr>\n",
       "    <tr>\n",
       "      <th>50%</th>\n",
       "      <td>7.90</td>\n",
       "      <td>0.52</td>\n",
       "      <td>0.26</td>\n",
       "      <td>2.20</td>\n",
       "      <td>0.08</td>\n",
       "      <td>13.00</td>\n",
       "      <td>37.00</td>\n",
       "      <td>1.00</td>\n",
       "      <td>3.31</td>\n",
       "      <td>0.62</td>\n",
       "      <td>10.20</td>\n",
       "      <td>6.00</td>\n",
       "      <td>1.00</td>\n",
       "    </tr>\n",
       "    <tr>\n",
       "      <th>75%</th>\n",
       "      <td>9.20</td>\n",
       "      <td>0.64</td>\n",
       "      <td>0.43</td>\n",
       "      <td>2.60</td>\n",
       "      <td>0.09</td>\n",
       "      <td>21.00</td>\n",
       "      <td>62.00</td>\n",
       "      <td>1.00</td>\n",
       "      <td>3.40</td>\n",
       "      <td>0.73</td>\n",
       "      <td>11.10</td>\n",
       "      <td>6.00</td>\n",
       "      <td>1.00</td>\n",
       "    </tr>\n",
       "    <tr>\n",
       "      <th>max</th>\n",
       "      <td>15.90</td>\n",
       "      <td>1.33</td>\n",
       "      <td>1.00</td>\n",
       "      <td>15.50</td>\n",
       "      <td>0.61</td>\n",
       "      <td>72.00</td>\n",
       "      <td>289.00</td>\n",
       "      <td>1.00</td>\n",
       "      <td>4.01</td>\n",
       "      <td>2.00</td>\n",
       "      <td>14.90</td>\n",
       "      <td>8.00</td>\n",
       "      <td>2.00</td>\n",
       "    </tr>\n",
       "  </tbody>\n",
       "</table>\n",
       "</div>"
      ],
      "text/plain": [
       "       fixed acidity  volatile acidity  citric acid  residual sugar  \\\n",
       "count        1279.00           1279.00      1279.00         1279.00   \n",
       "mean            8.34              0.53         0.27            2.55   \n",
       "std             1.74              0.18         0.19            1.45   \n",
       "min             4.60              0.12         0.00            0.90   \n",
       "25%             7.10              0.40         0.10            1.90   \n",
       "50%             7.90              0.52         0.26            2.20   \n",
       "75%             9.20              0.64         0.43            2.60   \n",
       "max            15.90              1.33         1.00           15.50   \n",
       "\n",
       "       chlorides  free sulfur dioxide  total sulfur dioxide  density       pH  \\\n",
       "count    1279.00              1279.00               1279.00  1279.00  1279.00   \n",
       "mean        0.09                15.62                 45.67     1.00     3.31   \n",
       "std         0.05                10.44                 32.07     0.00     0.15   \n",
       "min         0.01                 1.00                  6.00     0.99     2.74   \n",
       "25%         0.07                 7.00                 21.50     1.00     3.21   \n",
       "50%         0.08                13.00                 37.00     1.00     3.31   \n",
       "75%         0.09                21.00                 62.00     1.00     3.40   \n",
       "max         0.61                72.00                289.00     1.00     4.01   \n",
       "\n",
       "       sulphates  alcohol  quality  quality_cat  \n",
       "count    1279.00  1279.00  1279.00      1279.00  \n",
       "mean        0.66    10.42     5.64         1.10  \n",
       "std         0.16     1.06     0.81         0.41  \n",
       "min         0.33     8.40     3.00         0.00  \n",
       "25%         0.55     9.50     5.00         1.00  \n",
       "50%         0.62    10.20     6.00         1.00  \n",
       "75%         0.73    11.10     6.00         1.00  \n",
       "max         2.00    14.90     8.00         2.00  "
      ]
     },
     "metadata": {},
     "output_type": "display_data"
    },
    {
     "name": "stdout",
     "output_type": "stream",
     "text": [
      "-----------\n",
      "White Wine\n",
      "-----------\n"
     ]
    },
    {
     "data": {
      "text/html": [
       "<div>\n",
       "<style scoped>\n",
       "    .dataframe tbody tr th:only-of-type {\n",
       "        vertical-align: middle;\n",
       "    }\n",
       "\n",
       "    .dataframe tbody tr th {\n",
       "        vertical-align: top;\n",
       "    }\n",
       "\n",
       "    .dataframe thead th {\n",
       "        text-align: right;\n",
       "    }\n",
       "</style>\n",
       "<table border=\"1\" class=\"dataframe\">\n",
       "  <thead>\n",
       "    <tr style=\"text-align: right;\">\n",
       "      <th></th>\n",
       "      <th>fixed acidity</th>\n",
       "      <th>volatile acidity</th>\n",
       "      <th>citric acid</th>\n",
       "      <th>residual sugar</th>\n",
       "      <th>chlorides</th>\n",
       "      <th>free sulfur dioxide</th>\n",
       "      <th>total sulfur dioxide</th>\n",
       "      <th>density</th>\n",
       "      <th>pH</th>\n",
       "      <th>sulphates</th>\n",
       "      <th>alcohol</th>\n",
       "      <th>quality</th>\n",
       "      <th>quality_cat</th>\n",
       "    </tr>\n",
       "  </thead>\n",
       "  <tbody>\n",
       "    <tr>\n",
       "      <th>count</th>\n",
       "      <td>3918.00</td>\n",
       "      <td>3918.00</td>\n",
       "      <td>3918.00</td>\n",
       "      <td>3918.00</td>\n",
       "      <td>3918.00</td>\n",
       "      <td>3918.00</td>\n",
       "      <td>3918.00</td>\n",
       "      <td>3918.00</td>\n",
       "      <td>3918.00</td>\n",
       "      <td>3918.00</td>\n",
       "      <td>3918.00</td>\n",
       "      <td>3918.00</td>\n",
       "      <td>3918.00</td>\n",
       "    </tr>\n",
       "    <tr>\n",
       "      <th>mean</th>\n",
       "      <td>6.86</td>\n",
       "      <td>0.28</td>\n",
       "      <td>0.33</td>\n",
       "      <td>6.39</td>\n",
       "      <td>0.05</td>\n",
       "      <td>35.38</td>\n",
       "      <td>138.08</td>\n",
       "      <td>0.99</td>\n",
       "      <td>3.19</td>\n",
       "      <td>0.49</td>\n",
       "      <td>10.50</td>\n",
       "      <td>5.88</td>\n",
       "      <td>1.18</td>\n",
       "    </tr>\n",
       "    <tr>\n",
       "      <th>std</th>\n",
       "      <td>0.85</td>\n",
       "      <td>0.10</td>\n",
       "      <td>0.12</td>\n",
       "      <td>5.11</td>\n",
       "      <td>0.02</td>\n",
       "      <td>17.15</td>\n",
       "      <td>42.77</td>\n",
       "      <td>0.00</td>\n",
       "      <td>0.15</td>\n",
       "      <td>0.11</td>\n",
       "      <td>1.23</td>\n",
       "      <td>0.89</td>\n",
       "      <td>0.47</td>\n",
       "    </tr>\n",
       "    <tr>\n",
       "      <th>min</th>\n",
       "      <td>3.80</td>\n",
       "      <td>0.08</td>\n",
       "      <td>0.00</td>\n",
       "      <td>0.60</td>\n",
       "      <td>0.01</td>\n",
       "      <td>3.00</td>\n",
       "      <td>9.00</td>\n",
       "      <td>0.99</td>\n",
       "      <td>2.72</td>\n",
       "      <td>0.25</td>\n",
       "      <td>8.00</td>\n",
       "      <td>3.00</td>\n",
       "      <td>0.00</td>\n",
       "    </tr>\n",
       "    <tr>\n",
       "      <th>25%</th>\n",
       "      <td>6.30</td>\n",
       "      <td>0.21</td>\n",
       "      <td>0.27</td>\n",
       "      <td>1.70</td>\n",
       "      <td>0.04</td>\n",
       "      <td>23.00</td>\n",
       "      <td>108.00</td>\n",
       "      <td>0.99</td>\n",
       "      <td>3.08</td>\n",
       "      <td>0.41</td>\n",
       "      <td>9.40</td>\n",
       "      <td>5.00</td>\n",
       "      <td>1.00</td>\n",
       "    </tr>\n",
       "    <tr>\n",
       "      <th>50%</th>\n",
       "      <td>6.80</td>\n",
       "      <td>0.26</td>\n",
       "      <td>0.32</td>\n",
       "      <td>5.10</td>\n",
       "      <td>0.04</td>\n",
       "      <td>34.00</td>\n",
       "      <td>134.00</td>\n",
       "      <td>0.99</td>\n",
       "      <td>3.18</td>\n",
       "      <td>0.48</td>\n",
       "      <td>10.40</td>\n",
       "      <td>6.00</td>\n",
       "      <td>1.00</td>\n",
       "    </tr>\n",
       "    <tr>\n",
       "      <th>75%</th>\n",
       "      <td>7.30</td>\n",
       "      <td>0.32</td>\n",
       "      <td>0.39</td>\n",
       "      <td>9.90</td>\n",
       "      <td>0.05</td>\n",
       "      <td>46.00</td>\n",
       "      <td>168.00</td>\n",
       "      <td>1.00</td>\n",
       "      <td>3.28</td>\n",
       "      <td>0.55</td>\n",
       "      <td>11.40</td>\n",
       "      <td>6.00</td>\n",
       "      <td>1.00</td>\n",
       "    </tr>\n",
       "    <tr>\n",
       "      <th>max</th>\n",
       "      <td>14.20</td>\n",
       "      <td>1.10</td>\n",
       "      <td>1.66</td>\n",
       "      <td>65.80</td>\n",
       "      <td>0.35</td>\n",
       "      <td>289.00</td>\n",
       "      <td>440.00</td>\n",
       "      <td>1.04</td>\n",
       "      <td>3.82</td>\n",
       "      <td>1.08</td>\n",
       "      <td>14.20</td>\n",
       "      <td>9.00</td>\n",
       "      <td>2.00</td>\n",
       "    </tr>\n",
       "  </tbody>\n",
       "</table>\n",
       "</div>"
      ],
      "text/plain": [
       "       fixed acidity  volatile acidity  citric acid  residual sugar  \\\n",
       "count        3918.00           3918.00      3918.00         3918.00   \n",
       "mean            6.86              0.28         0.33            6.39   \n",
       "std             0.85              0.10         0.12            5.11   \n",
       "min             3.80              0.08         0.00            0.60   \n",
       "25%             6.30              0.21         0.27            1.70   \n",
       "50%             6.80              0.26         0.32            5.10   \n",
       "75%             7.30              0.32         0.39            9.90   \n",
       "max            14.20              1.10         1.66           65.80   \n",
       "\n",
       "       chlorides  free sulfur dioxide  total sulfur dioxide  density       pH  \\\n",
       "count    3918.00              3918.00               3918.00  3918.00  3918.00   \n",
       "mean        0.05                35.38                138.08     0.99     3.19   \n",
       "std         0.02                17.15                 42.77     0.00     0.15   \n",
       "min         0.01                 3.00                  9.00     0.99     2.72   \n",
       "25%         0.04                23.00                108.00     0.99     3.08   \n",
       "50%         0.04                34.00                134.00     0.99     3.18   \n",
       "75%         0.05                46.00                168.00     1.00     3.28   \n",
       "max         0.35               289.00                440.00     1.04     3.82   \n",
       "\n",
       "       sulphates  alcohol  quality  quality_cat  \n",
       "count    3918.00  3918.00  3918.00      3918.00  \n",
       "mean        0.49    10.50     5.88         1.18  \n",
       "std         0.11     1.23     0.89         0.47  \n",
       "min         0.25     8.00     3.00         0.00  \n",
       "25%         0.41     9.40     5.00         1.00  \n",
       "50%         0.48    10.40     6.00         1.00  \n",
       "75%         0.55    11.40     6.00         1.00  \n",
       "max         1.08    14.20     9.00         2.00  "
      ]
     },
     "metadata": {},
     "output_type": "display_data"
    }
   ],
   "source": [
    "for w in rw, ww:\n",
    "    print(f\"-----------\\n{w.name}\\n-----------\")\n",
    "    display(w.describe().round(2))"
   ]
  },
  {
   "cell_type": "markdown",
   "id": "2a1e0150-d0f3-4b64-9406-8fd592a8abc5",
   "metadata": {},
   "source": [
    "***\n",
    "\n",
    "### View the distribution of each feature\n",
    "\n",
    "`DataFrame.hist()` produces a histogram for each feature which can be displayed with `plt.show()`. Some points to note are:\n",
    "- It looks like `citric acid` in the red wine dataset, and `residual sugar` in the white wine dataset contain a lot of zero values.\n",
    "- A number of features have very long tails, in particular `residual sugar`, `chlorides`, `total sulfur dioxide`, and `sulphates`.\n",
    "- There is considerable variation in the attributes' scales.\n",
    "- The target values are very unevenly distributed with a great many more instances falling around the medium quality ratings than the low and high ratings.\n",
    "\n",
    "[4] 50-51"
   ]
  },
  {
   "cell_type": "code",
   "execution_count": 16,
   "id": "8601083b",
   "metadata": {},
   "outputs": [
    {
     "data": {
      "image/png": "[encoded data removed]",
      "text/plain": [
       "<Figure size 1080x720 with 16 Axes>"
      ]
     },
     "metadata": {},
     "output_type": "display_data"
    },
    {
     "data": {
      "image/png": "[encoded data removed]",
      "text/plain": [
       "<Figure size 1080x720 with 16 Axes>"
      ]
     },
     "metadata": {},
     "output_type": "display_data"
    }
   ],
   "source": [
    "# View a histogram of each feature\n",
    "for w in rw, ww:\n",
    "    # Set plot style\n",
    "    with plt.style.context('seaborn'):\n",
    "        # Construct histogram with 50 bins for each feature\n",
    "        hist = w.hist(bins=50, figsize=(15, 10))\n",
    "        # Title for each set of histograms\n",
    "        plt.gcf().suptitle(w.name)\n",
    "    plt.show()"
   ]
  },
  {
   "cell_type": "markdown",
   "id": "38b38cf3-5027-4c48-a606-dc10797e6042",
   "metadata": {},
   "source": [
    "***\n",
    "\n",
    "### View distribution of target variable\n",
    "The target variable in this dataset is `quality`. As is obvious from the histograms above, the distribution of the output variable heavily favours the central categories. The red wine dataset is sorted into six ordinal categories from 3 to 8. Categories `5` and `6` represent over 80% of the data. The lowest category, `3`, occurs in only 8 instances, representing 0.6% of the dataset; `4` occurs 42 times  - 1.1% of total ratings. At the upper end of the scale `7` occurs 159 times or ~12% and just 15 red wines, ~1%, hold the higest rating of `8`. \n",
    "\n",
    "The white wine dataset shows a similar imbalance. Of its 7 rating categories, 3 to 8, over 90 % fall into the medium group, `5`, `6`, and `7`. Categories `3` and `4` account for a combined 4% of instances, with just 16 wines with a rating of `3`. Similarly, `8` and `9` occur in less than 4% of samples; `9` only occurring 4 times.\n",
    "\n"
   ]
  },
  {
   "cell_type": "code",
   "execution_count": 17,
   "id": "a73dda4c-9c8d-425d-ad47-676e7d76ce72",
   "metadata": {},
   "outputs": [
    {
     "name": "stdout",
     "output_type": "stream",
     "text": [
      "-----------\n",
      "Red Wine\n",
      "-----------\n",
      "   Count  Percent\n",
      "5    545    42.61\n",
      "6    510    39.87\n",
      "7    159    12.43\n",
      "4     42     3.28\n",
      "8     15     1.17\n",
      "3      8     0.63\n",
      "-----------\n",
      "White Wine\n",
      "-----------\n",
      "   Count  Percent\n",
      "6   1758    44.87\n",
      "5   1166    29.76\n",
      "7    704    17.97\n",
      "8    140     3.57\n",
      "4    130     3.32\n",
      "3     16     0.41\n",
      "9      4     0.10\n"
     ]
    }
   ],
   "source": [
    "# Count occurences of each quality class and calculate percents of total\n",
    "for w in rw, ww:\n",
    "    print(f\"-----------\\n{w.name}\\n-----------\")\n",
    "    # Count occurrences of each category\n",
    "    wc = w.quality.value_counts()\n",
    "    # Calculate percent of total number of samples\n",
    "    wp = round(w.quality.value_counts() / len(w) * 100, 2)\n",
    "    # Place in dataframe for ease of presentation and display\n",
    "    df = pd.concat((wc,wp), axis=1)\n",
    "    df.columns = ('Count', 'Percent')\n",
    "    print(df)"
   ]
  },
  {
   "cell_type": "markdown",
   "id": "ef4f30af-366a-47b5-a691-b394beb52dbe",
   "metadata": {},
   "source": [
    "***\n",
    "\n",
    "### View feature correlations\n",
    "\n",
    "For each of the wine datasets (red and white), a correlation matrix is calculated using *pandas* `DataFrame.corr()` function. The correlation coefficient is calcualted between each pair of numeric variables using Pearson's r. The resulting matrices are displayed as heatmaps using `seaborn.heatmap()`. The colourmap used is set to saturate at a correlation coefficient of 0.5 so that high correlations are very obvious. For the same reason the diagonal of the correlation matrix, which always holds a 1.0 as it is the value of a feature's correlation with itself, is removed.\n",
    "\n",
    "The correlation heatmaps reveal the following:\n",
    "\n",
    "- In the red wine dataset:\n",
    "    - `Fixed acidity` is strongly correlated with each of `citric acid`, `density`, and `pH`\n",
    "    - `Volatile acidity` is moderately correlated with `citric acid`\n",
    "    - `Citric acid`, in addtion to it's correlations with `fixed acidity` and `volatile acidity`, also displays a moderate correlation with `pH`\n",
    "    - `Total sulfur dioxide` and `free sulfur dioxide` are highly correlated\n",
    "    - `Density` has a correlation of 0.49 with `alcohol`\n",
    "    \n",
    "- In the white wine dataset:\n",
    "    - `Fixed acidity` is correlated with `pH`\n",
    "    - `residual sugar` is highly correlated with `density` and, to a lesser extent, `alcohol`\n",
    "    - `Total sulfur dioxide` and `free sulfur dioxide` are quite highly correlated\n",
    "    - `Total sulfur dioxide` is also correlated with `density` and, more weakly with `alcohol`\n",
    "    - `density`, in addition to its correlation with `residual sugar` and `total sulfur dioxide`, is highly correlated with `alcohol`\n",
    "\n",
    "Finally, correlation with `quality` shows which attributes have the strongest influence on the output variable. These relationships are discussed below."
   ]
  },
  {
   "cell_type": "code",
   "execution_count": 18,
   "id": "82c9aef4-6783-45ed-9aa7-c8d318a4b96a",
   "metadata": {},
   "outputs": [
    {
     "name": "stdout",
     "output_type": "stream",
     "text": [
      "-----------\n",
      "Red Wine\n",
      "-----------\n"
     ]
    },
    {
     "data": {
      "image/png": "[encoded data removed]",
      "text/plain": [
       "<Figure size 756x648 with 2 Axes>"
      ]
     },
     "metadata": {
      "needs_background": "light"
     },
     "output_type": "display_data"
    },
    {
     "name": "stdout",
     "output_type": "stream",
     "text": [
      "-----------\n",
      "White Wine\n",
      "-----------\n"
     ]
    },
    {
     "data": {
      "image/png": "[encoded data removed]",
      "text/plain": [
       "<Figure size 756x648 with 2 Axes>"
      ]
     },
     "metadata": {
      "needs_background": "light"
     },
     "output_type": "display_data"
    }
   ],
   "source": [
    "# Set figure size within context so it doesn't affect size of subsequent figures\n",
    "with plt.rc_context({'figure.figsize':(10.5,9)}):\n",
    "    # For each or red win and white wine dataframes\n",
    "    for w in rw, ww:\n",
    "        # Print the dataframe name\n",
    "        print(f\"-----------\\n{w.name}\\n-----------\")\n",
    "        # Calculate correlation matrix (using Pearson's r)\n",
    "        corr = w.corr()\n",
    "        # Remove distracting self correlations (always = 1)\n",
    "        np.fill_diagonal(corr.values, 'NaN')\n",
    "        # Display matrix as heatmap, saturate at 0.5 to make high correlations stand out\n",
    "        sns.heatmap(abs(corr.round(2)), annot=True, linewidths=0.5, cmap='Blues', vmax=0.5)\n",
    "        plt.show()"
   ]
  },
  {
   "cell_type": "markdown",
   "id": "7c9ff0fd-6062-45ab-9bad-4edda63894e4",
   "metadata": {},
   "source": [
    "***\n",
    "\n",
    "### Assess relative influence of each feature on the target variable\n",
    "\n",
    "The tables below are the the `quality` columns from the correlation matrix calculated earlier, ordered (descending) by correlation coefficient. \n",
    "\n",
    "The features which influence red wine `quality` are dominated by `alcohol` and `volatile acidity`, with `sulphates`, `citric acid`, `total sulfur dioxide`, `density`, `chlorides`, and `fixed acidity` having moderate to low influences. `pH`, `free sulfur dioxide`, and `residual sugar` all have a very low correlation with wine quality. White wine `quality` is most influenced by `alcohol` and `density`. `Chlorides`, `volatile acidity`, `total sulfur dioxide`, and `fixed acidity` all exhibit a moderate influence, while `pH`, `residual sugar`, and `sulphates` show low correlation. The influences of `citric acid` and `free sulfur dioxide` are extremely low."
   ]
  },
  {
   "cell_type": "code",
   "execution_count": 19,
   "id": "f11a2000-0a4f-404e-9922-8441d576c857",
   "metadata": {},
   "outputs": [
    {
     "name": "stdout",
     "output_type": "stream",
     "text": [
      "-----------\n",
      "Red Wine\n",
      "-----------\n",
      "quality_cat             0.812540\n",
      "alcohol                 0.474128\n",
      "volatile acidity        0.397310\n",
      "sulphates               0.256348\n",
      "citric acid             0.221557\n",
      "total sulfur dioxide    0.201799\n",
      "density                 0.184702\n",
      "chlorides               0.141548\n",
      "fixed acidity           0.118486\n",
      "pH                      0.060844\n",
      "free sulfur dioxide     0.051450\n",
      "residual sugar          0.006765\n",
      "Name: quality, dtype: float64\n",
      "-----------\n",
      "White Wine\n",
      "-----------\n",
      "quality_cat             0.850943\n",
      "alcohol                 0.454075\n",
      "density                 0.318647\n",
      "chlorides               0.209346\n",
      "volatile acidity        0.192567\n",
      "total sulfur dioxide    0.178934\n",
      "fixed acidity           0.115167\n",
      "residual sugar          0.107891\n",
      "pH                      0.103433\n",
      "sulphates               0.069681\n",
      "citric acid             0.009836\n",
      "free sulfur dioxide     0.002525\n",
      "Name: quality, dtype: float64\n"
     ]
    }
   ],
   "source": [
    "# Sort values in the correlation matrix by the absolute correlation with the target variable\n",
    "for w in rw, ww:\n",
    "    print(f\"-----------\\n{w.name}\\n-----------\")\n",
    "    # print the sorted absolute values of the correlation between each feature and quality\n",
    "    print(abs(w.corr()['quality']).drop('quality').sort_values(ascending=False))"
   ]
  },
  {
   "cell_type": "markdown",
   "id": "63942a07-54fd-4f46-8022-f0aa9dc7393c",
   "metadata": {},
   "source": [
    "***\n",
    "\n",
    "## Feature scaling\n",
    "\n",
    "Standardisation is the process of scaling data so that it has a mean of zero and unit variance. Many classification RBF kernel of support vector machines, which may be used to classify this dataset, can be dominated by comparatively large values and are more likely to perform well on standardised data [11]. Similarly, KNN and logistic regression expect standardised data, as does PCA [8] [13]. As noted [above](#View-the-distribution-of-each-feature), a number of features have very long tails that can cause the majority of the data to be squeezed into a very small range. To counter this effect, scikit-learn provides a `RobustScaler()` which standardises the data based on the interquartile range (by default. The range used can be adjusted via `RobustScaler's` parameters). [14] [15]"
   ]
  },
  {
   "cell_type": "code",
   "execution_count": 20,
   "id": "471a8567-1009-4707-b94d-b5d6bb621210",
   "metadata": {},
   "outputs": [
    {
     "name": "stdout",
     "output_type": "stream",
     "text": [
      "[-0.30713981  0.29637554 -0.72871637 -0.31399446  0.28252555  0.13209179\n",
      " -0.30171631 -1.23589283 -0.46217778 -0.78591664  0.73414007]\n",
      "[-0.04761905  0.24489796 -0.39393939 -0.14285714  1.04761905  0.28571429\n",
      " -0.02469136 -1.04405286 -0.36842105 -0.5         0.625     ]\n"
     ]
    }
   ],
   "source": [
    "# Instantiate StandardScaler and use to transfomr both datasets\n",
    "scaler_std_rw = StandardScaler()\n",
    "X_train_std_rw = scaler_std_rw.fit_transform(X_train_rw)\n",
    "scaler_std_ww = StandardScaler()\n",
    "X_train_std_ww = scaler_std_ww.fit_transform(X_train_ww)\n",
    "\n",
    "# Instantiate RobustScaler and use to transform both datasets\n",
    "scaler_rbst_rw = RobustScaler()\n",
    "X_train_rbst_rw = scaler_rbst_rw.fit_transform(X_train_rw)\n",
    "scaler_rbst_ww = StandardScaler()\n",
    "X_train_rbst_ww = scaler_rbst_ww.fit_transform(X_train_ww)\n",
    "\n",
    "# A look at the first row of each of the robust- and standard-\n",
    "# scaled matrices for red wine show that the two scalers \n",
    "# produce quite different results\n",
    "print(X_train_std_rw[0])\n",
    "print(X_train_rbst_rw[0])"
   ]
  },
  {
   "cell_type": "markdown",
   "id": "f7b5127c-4309-4bc7-8a55-0ac52c082df0",
   "metadata": {},
   "source": [
    "***\n",
    "\n",
    "## Dimensionality reduction\n",
    "\n",
    "The aim of dimensionality reduction is to reduce the number of input features and therefore the complexity of the problem while at the same time minimising the loss of variance between samples with different targets. There are a number of approaches to this, one of which is to simply drop features based on some criteria such as a immateriality to the problem or high correlation with another feature. Another approach entails the projection of high dimensional samples to lower dimensional space in a manner which maximises variance. This approach is exemplified by [principal components analysis (PCA)](#Principal-components-analysis-(PCA)) and [kernel PCA](#Kernel-PCA), which are considered below."
   ]
  },
  {
   "cell_type": "markdown",
   "id": "70467df7-74b5-4ee9-b0c7-251ad182dddf",
   "metadata": {},
   "source": [
    "### Feature selection\n",
    "\n",
    "Two approaches to feature selection are demonstrated in this section. Both have been place in custom transformers. This will allow them to be placed in a pipeline later. It will also allow their parameters to be tuned using a grid search. Placing logic in a custom transformer is achieved by extending the `BaseEstimator` class and implementing the constructor (`__init__`) and the `fit()` and `transform()` methods. Adding the `TransformerMixin` provides the `fit_transform()` method.\n",
    "\n",
    "The `DropLessImportantFeatures` transformer is instantiated with a single parameter, `threshold`, which defaults to 0.1. The `fit()` method calculates the correlation between each feature and the target variable using `numpy.corrcoef()`. The `transform` method then drops any features for which that correlation is less than the `threshold`."
   ]
  },
  {
   "cell_type": "code",
   "execution_count": 21,
   "id": "d8fed73e-dc17-4911-a8c6-f3c3bb55e421",
   "metadata": {},
   "outputs": [],
   "source": [
    "# Custom Transformer for dropping features based on correlation with output variable\n",
    "# Putting this functionality in a transformer allows it to be used in a pipeline and \n",
    "# grid/randomised search hyperparameter tuning\n",
    "class DropLessImportantFeatures(BaseEstimator, TransformerMixin):\n",
    "    def __init__(self, threshold=0.1):\n",
    "        self.threshold=threshold\n",
    "    def fit(self, X, y):\n",
    "        # X must be a numpy array\n",
    "        # Calculate correlation coefficients, only keep the last one\n",
    "        # because we only want each feature's correlation with y\n",
    "        self.to_drop = abs(np.corrcoef(X, y, rowvar=False)[:,-1]) < self.threshold\n",
    "        return self\n",
    "    def transform(self, X):\n",
    "        # Remove columns (features) where correlation coefficient with\n",
    "        # y (output variable) is lower than threshold\n",
    "        return np.delete(X, self.to_drop[0:-1], axis=1)"
   ]
  },
  {
   "cell_type": "code",
   "execution_count": 22,
   "id": "64579473-7d59-4ef7-b6b2-24d6c3ac1264",
   "metadata": {},
   "outputs": [],
   "source": [
    "# Use DropLessImportantFeatures transformer to drop features \n",
    "# with a correlation of less than 0.1 with the output variable \n",
    "# (quality) from the red and white wine datasets\n",
    "dlif_rw = DropLessImportantFeatures()\n",
    "X_train_rw_dlif = dlif_rw.fit_transform(X_train_rw.to_numpy(), y_train_rw)\n",
    "\n",
    "dlif_ww = DropLessImportantFeatures()\n",
    "X_train_ww_dlif = dlif_ww.fit_transform(X_train_ww.to_numpy(), y_train_ww)"
   ]
  },
  {
   "cell_type": "markdown",
   "id": "1a86e069-e181-42ce-94d3-41b4ca821553",
   "metadata": {},
   "source": [
    "Examining the shape attribute of the red and white wine feature arrays shows that of the original 11 features in each dataset they now each have 8. They have each dropped 3 columns but only one - `free sulfur dioxide` - was dropped by both."
   ]
  },
  {
   "cell_type": "code",
   "execution_count": 23,
   "id": "7395b837-8220-47d5-ab36-5b4f3eba65c7",
   "metadata": {},
   "outputs": [
    {
     "name": "stdout",
     "output_type": "stream",
     "text": [
      "Red wine dimensions:   (1279, 8)\n",
      "White wine dimensions: (3918, 8)\n",
      "\n",
      "Dropped columns:\n",
      "----------------------------------------\n",
      "Red wine             White wine\n",
      "-------------------  -------------------\n",
      "residual sugar       citric acid\n",
      "free sulfur dioxide  free sulfur dioxide\n",
      "pH                   sulphates\n",
      "----------------------------------------\n"
     ]
    }
   ],
   "source": [
    "# Print shape of new pruned arrays\n",
    "print(f\"Red wine dimensions:   {X_train_rw_dlif.shape}\")\n",
    "print(f\"White wine dimensions: {X_train_ww_dlif.shape}\\n\")\n",
    "# List the dropped columns\n",
    "print(\"Dropped columns:\")\n",
    "print(\"----------------------------------------\")\n",
    "cols = zip_longest(X_train_rw.columns[dlif_rw.to_drop[0:-1]], \n",
    "           X_train_ww.columns[dlif_ww.to_drop[0:-1]])\n",
    "print(tabulate(cols, headers=[\"Red wine\", \"White wine\"]))\n",
    "print(\"----------------------------------------\")"
   ]
  },
  {
   "cell_type": "markdown",
   "id": "9b328c99-8568-40da-8f81-7985908fecb2",
   "metadata": {},
   "source": [
    "We can also try removing one of every pair of strongly correlated features. While in some ways this may be a naive mode of dimensionality reduction, it may be appropriate in some cases, particularly where it is desirable to keep the original features so that each feature's level of importance to a classification can be assessed.\n",
    "\n",
    "The `DropCorrelatedFeatures` transformer is instantiated with a single parameter, `threshold`, which defaults to 0.5. The `fit` method calculates the absolute correlation matrix, using `numpy.corrcoef()`, for the passed array. The self-correlations along the diagonal of the matrix are set to 0. For each feature, the number of other features that it shares a greater-than-the-`threshold` correlation with is noted and the feature with the greatest number of correlations is removed. The correlation matrix is again calculated on the remaining features and the process repeated until no correlations greater than the threshold remain."
   ]
  },
  {
   "cell_type": "code",
   "execution_count": 24,
   "id": "bc2dc226-96ee-4e90-9fb5-acca69b3bed1",
   "metadata": {},
   "outputs": [],
   "source": [
    "# Custom Transformer for dropping features based on correlation with output variable\n",
    "# Putting this functionality in a transformer allows it to be used in a pipeline and \n",
    "# grid/randomised search hyperparameter tuning\n",
    "class DropCorrelatedFeatures(BaseEstimator, TransformerMixin):\n",
    "    \n",
    "    def __init__(self, threshold=0.5):\n",
    "        self.threshold=threshold\n",
    "        \n",
    "    def fit(self, X, y=None):\n",
    "        # X should be a numpy array\n",
    "        # Make temp copy of X\n",
    "        c = X.copy()\n",
    "        \n",
    "        # Calculate absolute correlation matrix for all input features\n",
    "        # Loop control variable\n",
    "        max_sums = -1\n",
    "        # List to hold indexes of features to drop\n",
    "        idxs = []\n",
    "        # Loop until there are no correlations above the threshold\n",
    "        while max_sums != 0:\n",
    "            # Calculate absolute correlation matrix\n",
    "            corr = abs(np.corrcoef(c, rowvar=False))\n",
    "            # Fill diagonal with zeroes\n",
    "            np.fill_diagonal(corr, 0)\n",
    "            # construct boolean matrix based on threshold \n",
    "            corr = corr >= self.threshold\n",
    "            # calculate number of features that correlate with each feature\n",
    "            sums = np.sum(corr, axis=1)\n",
    "            if max(sums) != 0:\n",
    "                # get index of max value\n",
    "                idx = np.argmax(sums)\n",
    "                # Index in original array will not always match index in current \n",
    "                # array as one column is deleted on each iteration\n",
    "                # If the new index is less than the last index then it can be used unchanged\n",
    "                if len(idxs) > 0 | idx < idxs[-1]:\n",
    "                    idxs.append(idx)\n",
    "                # otherwise the number of removed columns must be added\n",
    "                else:\n",
    "                    idxs.append(idx+len(idxs))\n",
    "                # Delete the column at the current index from the temporary array\n",
    "                c = np.delete(c, idx, axis=1)\n",
    "                # update the loop variable\n",
    "            max_sums = max(sums)\n",
    "\n",
    "        self.idxs = idxs\n",
    "        return self\n",
    "    \n",
    "    def transform(self, X):\n",
    "        # Remove columns (features) which correlate over the threshold with other features\n",
    "        return np.delete(X, self.idxs, axis=1)\n"
   ]
  },
  {
   "cell_type": "code",
   "execution_count": 25,
   "id": "3bb34534-af72-4c8b-ac44-82c2ad1991b1",
   "metadata": {},
   "outputs": [],
   "source": [
    "# Use DropCorrelatedFeatures transformer to drop features \n",
    "# with a correlation of greater than or equal to 0.5 with \n",
    "# with any other feature from the red and white wine datasets\n",
    "dcf_rw = DropCorrelatedFeatures()\n",
    "X_train_rw_dcf = dcf_rw.fit_transform(X_train_rw.to_numpy())\n",
    "\n",
    "dcf_ww = DropCorrelatedFeatures()\n",
    "X_train_ww_dcf = dcf_ww.fit_transform(X_train_ww.to_numpy())"
   ]
  },
  {
   "cell_type": "markdown",
   "id": "9055dd6b-8acb-40ff-995d-39dabf62a39e",
   "metadata": {},
   "source": [
    "With a correlation threshold of 0.5, the red wine dataset drops three columns, and the white wine dataset two."
   ]
  },
  {
   "cell_type": "code",
   "execution_count": 26,
   "id": "509022e2-9dfe-41b4-8ccc-af6f91401197",
   "metadata": {},
   "outputs": [
    {
     "name": "stdout",
     "output_type": "stream",
     "text": [
      "Red wine dimensions:   (1279, 8)\n",
      "White wine dimensions: (3918, 9)\n",
      "\n",
      "Dropped columns:\n",
      "----------------------------------------\n",
      "Red wine             White wine\n",
      "-------------------  --------------------\n",
      "fixed acidity        density\n",
      "citric acid          total sulfur dioxide\n",
      "free sulfur dioxide\n",
      "----------------------------------------\n"
     ]
    }
   ],
   "source": [
    "# Print shape of new pruned arrays\n",
    "print(f\"Red wine dimensions:   {X_train_rw_dcf.shape}\")\n",
    "print(f\"White wine dimensions: {X_train_ww_dcf.shape}\\n\")\n",
    "# List the dropped columns\n",
    "print(\"Dropped columns:\")\n",
    "print(\"----------------------------------------\")\n",
    "cols = zip_longest(X_train_rw.columns[dcf_rw.idxs], \n",
    "           X_train_ww.columns[dcf_ww.idxs])\n",
    "print(tabulate(cols, headers=[\"Red wine\", \"White wine\"]))\n",
    "print(\"----------------------------------------\")"
   ]
  },
  {
   "cell_type": "markdown",
   "id": "b8a93b69-c729-4950-9bbf-27fdbd0d9f33",
   "metadata": {},
   "source": [
    "### Principal components analysis (PCA)"
   ]
  },
  {
   "cell_type": "markdown",
   "id": "d08f3475-686e-4517-a393-6ae27ba31738",
   "metadata": {},
   "source": [
    "Principal components analysis reduces the dimensionality of a dataset by identifying the axis that preserves the maximum variance in each dimension of the data and projecting the data on those axes to a lower number of dimensions [19]. Scikit-learn's `PCA` class allows the number of desired dimensions to be specified via the `n_components` attribute. A float between 0.0 and 1.0 passed to `n_components` will be interpreted as the amount of variance to be preserved and the number of principal components necessary for this will be automatically selected."
   ]
  },
  {
   "cell_type": "code",
   "execution_count": 27,
   "id": "b3df139e-b84d-41e7-87ed-82b0155cb416",
   "metadata": {},
   "outputs": [],
   "source": [
    "# Conduct PCA on the robust-standardised datasets, preserving 95% of variance\n",
    "pca_rw = PCA(n_components=0.95)\n",
    "pca_ww = PCA(n_components=0.95)\n",
    "X_train_pca_rw = pca_rw.fit_transform(X_train_rbst_rw)\n",
    "X_train_pca_ww = pca_ww.fit_transform(X_train_rbst_ww)"
   ]
  },
  {
   "cell_type": "markdown",
   "id": "78370a57-2ed3-4edf-a866-0ea90a43dccc",
   "metadata": {},
   "source": [
    "Transforming the robustly standardised datasets with `PCA`, preserving 95% of variance produces a 7 red wine dataset and a 9 dimension white wine dataset."
   ]
  },
  {
   "cell_type": "code",
   "execution_count": 28,
   "id": "60dc3575-cf86-46d3-80d3-d2a50f5001b6",
   "metadata": {},
   "outputs": [
    {
     "name": "stdout",
     "output_type": "stream",
     "text": [
      "(1279, 7)\n",
      "(3918, 9)\n"
     ]
    }
   ],
   "source": [
    "print(X_train_pca_rw.shape)\n",
    "print(X_train_pca_ww.shape)"
   ]
  },
  {
   "cell_type": "markdown",
   "id": "938b7bab-f58a-4ead-898a-cda7d7f36fed",
   "metadata": {},
   "source": [
    "### Kernel PCA"
   ]
  },
  {
   "cell_type": "code",
   "execution_count": 29,
   "id": "63d5d61c-bb6b-4d3b-920e-5e7b773da1c2",
   "metadata": {},
   "outputs": [],
   "source": [
    "# [8] Kernel PCA\n",
    "# Calculate the first three principal components of each dataset using \n",
    "# KernelPCA with rbf kernel\n",
    "kpca_rw = KernelPCA(n_components=3, kernel=\"rbf\", gamma=0.04)\n",
    "X_train_kpca_rw = kpca_rw.fit_transform(X_train_rbst_rw)\n",
    "kpca_ww = KernelPCA(n_components=3, kernel=\"rbf\", gamma=0.04)\n",
    "X_train_kpca_ww = kpca_ww.fit_transform(X_train_rbst_ww)"
   ]
  },
  {
   "cell_type": "code",
   "execution_count": 30,
   "id": "3a0133db-c92c-4533-ac2e-593821b68d70",
   "metadata": {},
   "outputs": [
    {
     "name": "stdout",
     "output_type": "stream",
     "text": [
      "(1279, 3)\n",
      "(3918, 3)\n"
     ]
    }
   ],
   "source": [
    "print(X_train_kpca_rw.shape)\n",
    "print(X_train_kpca_ww.shape)"
   ]
  },
  {
   "cell_type": "markdown",
   "id": "485a4fa9-5cbc-4ee7-81ce-21dea85834b8",
   "metadata": {},
   "source": [
    "## Model Selection\n",
    "\n",
    "As mentioned [previously](#The-Wine-Quality-Dataset), the wine quality dataset can be cast as a regression problem or as a classification problem. As a regression problem the values `quality` column can be viewed as a continuous variable with a range from the lowest to the highest rating. As a classification problem each rating can be considered a different class. It is expected that the [very low numbers](#View-distribution-of-target-variable) of extreme classifications will make training difficult in these classes. A possible solution to this is to merge some of the classes as has been done in the creation of the [`quality_cat`](#Split-the-data) target columns. "
   ]
  },
  {
   "cell_type": "markdown",
   "id": "6a2834f1-8bb6-483c-9c33-4bbc36b40810",
   "metadata": {},
   "source": [
    "## Pipelines\n",
    "\n",
    "Organisation of a series of transforms prior to a final estimator is aided by the `sklearn.pipeline.Pipeline` class. This allows a list of named steps to be assembled which are executed on the data consecutively. Usually this would consist of a series of transforms followed by a fit but the `Pipeline` class is very flexible and this is not the only possible configuration [16]. Pipelines are particularly useful in the context of hyperparameter tuning using grid search."
   ]
  },
  {
   "cell_type": "code",
   "execution_count": 48,
   "id": "55c1620e-ac55-42f5-b58f-c0765a555f73",
   "metadata": {},
   "outputs": [
    {
     "name": "stdout",
     "output_type": "stream",
     "text": [
      "CPU times: user 47.9 s, sys: 12.5 s, total: 1min\n",
      "Wall time: 12.4 s\n"
     ]
    },
    {
     "data": {
      "text/plain": [
       "GridSearchCV(cv=5, error_score='raise',\n",
       "             estimator=Pipeline(steps=[('standard', RobustScaler()),\n",
       "                                       ('kpca', KernelPCA(kernel='rbf')),\n",
       "                                       ('rnd_clf',\n",
       "                                        RandomForestClassifier(n_jobs=-1))]),\n",
       "             param_grid={'standard': [RobustScaler()]})"
      ]
     },
     "execution_count": 48,
     "metadata": {},
     "output_type": "execute_result"
    }
   ],
   "source": [
    "%%time\n",
    "\n",
    "pipeline = Pipeline([\n",
    "    ('standard', RobustScaler()),\n",
    "    #('minmax', MinMaxScaler()),\n",
    "    #('dropunimp', DropLessImportantFeatures(threshold=0.497)),\n",
    "    #('dropcorr', DropCorrelatedFeatures()),\n",
    "    #('pca', PCA()),\n",
    "    ('kpca', KernelPCA(kernel=\"rbf\")),\n",
    "    ('rnd_clf', RandomForestClassifier(n_jobs=-1)),\n",
    "    #('svm_clf', SVC(kernel=\"poly\", degree=3, coef0=1, C=5))\n",
    "])\n",
    "\n",
    "pipe = Pipeline([\n",
    "    ('scaler', StandardScaler()),\n",
    "    ('dlif', DropLessImportantFeatures()),\n",
    "    ('dcf', DropCorrelatedFeatures()),\n",
    "    ('pca', PCA()),\n",
    "    ('kpca', KernelPCA(kernel='rbf', gamma=0.04, n_components=3)),\n",
    "    ('svm', SVC())\n",
    "])\n",
    "\n",
    "params = {\n",
    "    'standard': [RobustScaler()],\n",
    "    # 'dlif': ['passthrough'],\n",
    "    # 'dcf': ['passthrough'],\n",
    "    # 'pca': ['passthrough'],\n",
    "    # 'kpca__kernel': ['linear', 'poly', 'rbf',],\n",
    "    # 'kpca__gamma': [0.001, 0.01, 0.1, 1, 10, 100],\n",
    "    # 'svm__kernel': ['poly', 'rbf'],\n",
    "    # 'svm__C': [10],\n",
    "    # 'svm__coef0': [0.0001],\n",
    "    # 'svm__degree': [2]\n",
    "}\n",
    "\n",
    "# Pipeline(steps=[('scaler', RobustScaler()), ('dlif', 'passthrough'),\n",
    "#                 ('dcf', 'passthrough'), ('pca', PCA(n_components=0.99)),\n",
    "#                 ('kpca', 'passthrough'),\n",
    "#                 ('svm', SVC(C=10, coef0=0.0001, degree=2))])\n",
    "# array([[  1,  12,   0],\n",
    "#        [  1, 250,  13],\n",
    "#        [  0,  29,  14]])\n",
    "\n",
    "# Pipeline(steps=[('scaler', RobustScaler()), ('dlif', 'passthrough'),\n",
    "#                 ('dcf', DropCorrelatedFeatures()), ('pca', 'passthrough'),\n",
    "#                 ('kpca', 'passthrough'),\n",
    "#                 ('svm', SVC(C=10, coef0=0.0001, degree=2))])\n",
    "# array([[  0,  13,   0],\n",
    "#        [  1, 252,  11],\n",
    "#        [  0,  29,  14]])\n",
    "\n",
    "grid_search = GridSearchCV(pipeline, params, cv=5, error_score='raise')\n",
    "grid_search.fit(X_train_rw, y_train_cat_rw)"
   ]
  },
  {
   "cell_type": "code",
   "execution_count": 49,
   "id": "781e9bb2-0b29-4fd8-9560-c3852468baa9",
   "metadata": {},
   "outputs": [
    {
     "data": {
      "text/plain": [
       "Pipeline(steps=[('standard', RobustScaler()), ('kpca', KernelPCA(kernel='rbf')),\n",
       "                ('rnd_clf', RandomForestClassifier(n_jobs=-1))])"
      ]
     },
     "execution_count": 49,
     "metadata": {},
     "output_type": "execute_result"
    }
   ],
   "source": [
    "grid_search.best_estimator_"
   ]
  },
  {
   "cell_type": "code",
   "execution_count": 50,
   "id": "9283de8e-c789-4105-8f41-09a52fd7d359",
   "metadata": {},
   "outputs": [
    {
     "data": {
      "text/plain": [
       "0.8013970588235294"
      ]
     },
     "execution_count": 50,
     "metadata": {},
     "output_type": "execute_result"
    }
   ],
   "source": [
    "grid_search.best_score_"
   ]
  },
  {
   "cell_type": "code",
   "execution_count": 51,
   "id": "33e7bc97-13fa-48c9-909d-29d7057f53b1",
   "metadata": {},
   "outputs": [],
   "source": [
    "y_pred = grid_search.predict(X_test_rw)\n",
    "#cm = confusion_matrix(y_test_cat_rw, y_pred, labels=['low', 'medium', 'high'])"
   ]
  },
  {
   "cell_type": "code",
   "execution_count": 52,
   "id": "3d59bbf4-79b8-4dac-9848-62b0db512c79",
   "metadata": {},
   "outputs": [
    {
     "data": {
      "text/plain": [
       "array([[  0,   9,   4],\n",
       "       [  0, 240,  24],\n",
       "       [  0,  27,  16]])"
      ]
     },
     "execution_count": 52,
     "metadata": {},
     "output_type": "execute_result"
    }
   ],
   "source": [
    "cm = confusion_matrix(y_test_cat_rw, y_pred) #labels=[0,1,2])\n",
    "cm"
   ]
  },
  {
   "cell_type": "code",
   "execution_count": 53,
   "id": "c43c4d26-5497-4be6-887b-ab9f0aae6067",
   "metadata": {},
   "outputs": [
    {
     "data": {
      "text/plain": [
       "<Figure size 216x144 with 0 Axes>"
      ]
     },
     "metadata": {},
     "output_type": "display_data"
    },
    {
     "data": {
      "image/png": "[encoded data removed]",
      "text/plain": [
       "<Figure size 432x288 with 2 Axes>"
      ]
     },
     "metadata": {
      "needs_background": "light"
     },
     "output_type": "display_data"
    },
    {
     "data": {
      "image/png": "[encoded data removed]",
      "text/plain": [
       "<Figure size 432x288 with 2 Axes>"
      ]
     },
     "metadata": {
      "needs_background": "light"
     },
     "output_type": "display_data"
    }
   ],
   "source": [
    "plt.figure(figsize=(3,2))\n",
    "ConfusionMatrixDisplay.from_predictions(y_test_cat_rw, y_pred, \n",
    "                                        #display_labels=['low', 'medium', 'high'], \n",
    "                                        cmap=plt.cm.Blues, \n",
    "                                        normalize=None)\n",
    "plt.grid(False)\n",
    "ConfusionMatrixDisplay.from_predictions(y_test_cat_rw, y_pred, \n",
    "                                        #display_labels=['low', 'medium', 'high'], \n",
    "                                        cmap=plt.cm.Blues, \n",
    "                                        normalize='true')\n",
    "plt.grid(False)\n",
    "plt.show()"
   ]
  },
  {
   "cell_type": "code",
   "execution_count": 54,
   "id": "b6a254cd-a7c0-41a6-9d61-ac3a799bb344",
   "metadata": {},
   "outputs": [
    {
     "name": "stdout",
     "output_type": "stream",
     "text": [
      "Precision: 0.7662549407114624\n",
      "Recall: 0.8\n",
      "f1: 0.7827586206896553\n",
      "\n"
     ]
    },
    {
     "name": "stderr",
     "output_type": "stream",
     "text": [
      "/home/fod/HDip/modules/mls/machine-learning-statistics/.venv/lib/python3.9/site-packages/sklearn/metrics/_classification.py:1308: UndefinedMetricWarning: Precision is ill-defined and being set to 0.0 in labels with no predicted samples. Use `zero_division` parameter to control this behavior.\n",
      "  _warn_prf(average, modifier, msg_start, len(result))\n"
     ]
    }
   ],
   "source": [
    "precision = precision_score(y_test_cat_rw, y_pred, average='weighted')\n",
    "recall = recall_score(y_test_cat_rw, y_pred, average='weighted')\n",
    "f1 = f1_score(y_test_cat_rw, y_pred, average='weighted')\n",
    "print(f\"Precision: {precision}\\nRecall: {recall}\\nf1: {f1}\\n\")"
   ]
  },
  {
   "cell_type": "code",
   "execution_count": 55,
   "id": "a60f8cff-db87-46c9-b8e1-4f40c7fd06db",
   "metadata": {},
   "outputs": [
    {
     "data": {
      "text/plain": [
       "array([[  0,  13,   0],\n",
       "       [  0, 264,   0],\n",
       "       [  0,  43,   0]])"
      ]
     },
     "execution_count": 55,
     "metadata": {},
     "output_type": "execute_result"
    }
   ],
   "source": [
    "dummy = DummyClassifier(strategy='constant', constant=1)\n",
    "dummy.fit(X_train_rw, y_train_cat_rw)\n",
    "y_pred = dummy.predict(X_test_rw)\n",
    "cm = confusion_matrix(y_test_cat_rw, y_pred) #labels=[0,1,2])\n",
    "cm"
   ]
  },
  {
   "cell_type": "code",
   "execution_count": 56,
   "id": "b3187904",
   "metadata": {},
   "outputs": [
    {
     "name": "stdout",
     "output_type": "stream",
     "text": [
      "Precision: 0.6806249999999999\n",
      "Recall: 0.825\n",
      "f1: 0.7458904109589041\n",
      "\n"
     ]
    },
    {
     "name": "stderr",
     "output_type": "stream",
     "text": [
      "/home/fod/HDip/modules/mls/machine-learning-statistics/.venv/lib/python3.9/site-packages/sklearn/metrics/_classification.py:1308: UndefinedMetricWarning: Precision is ill-defined and being set to 0.0 in labels with no predicted samples. Use `zero_division` parameter to control this behavior.\n",
      "  _warn_prf(average, modifier, msg_start, len(result))\n"
     ]
    }
   ],
   "source": [
    "precision = precision_score(y_test_cat_rw, y_pred, average='weighted')\n",
    "recall = recall_score(y_test_cat_rw, y_pred, average='weighted')\n",
    "f1 = f1_score(y_test_cat_rw, y_pred, average='weighted')\n",
    "print(f\"Precision: {precision}\\nRecall: {recall}\\nf1: {f1}\\n\")"
   ]
  },
  {
   "cell_type": "markdown",
   "id": "b80f6f4a",
   "metadata": {},
   "source": [
    "***\n",
    "***\n",
    "\n",
    "## References\n",
    "\n",
    "[1] Cortez, P., Cerdeira, A., Almeida, F., Matos, T., Reis, J., 2009, Modeling wine preferences by data mining from physicochemical properties, Decision Support Systems 47(4):547-553. doi:10.1016/j.dss.2009.05.016 \n",
    "\n",
    "[2] Dua, D. and Graff, C. (2019). UCI Machine Learning Repository [http://archive.ics.uci.edu/ml]. Irvine, CA: University of California, School of Information and Computer Science\n",
    "\n",
    "[3] Scikit-learn developers, https://scikit-learn.org/stable/modules/preprocessing.html\n",
    "\n",
    "[4] Géron, A., 2019, Hands-on Machine Learning with Scikit-Learn, Keras & TensorFlow, O' Reilly: Sebastopol\n",
    "\n",
    "[5] https://scikit-learn.org/stable/modules/generated/sklearn.model_selection.train_test_split.html#sklearn.model_selection.train_test_split\n",
    "\n",
    "[6] Should we apply normalization to test data as well? https://datascience.stackexchange.com/a/27616\n",
    "\n",
    "[7] Géron, A., 2019, Hands-on Machine Learning with Scikit-Learn, Keras & TensorFlow, O' Reilly: Sebastopol p:223\n",
    "\n",
    "[8] https://stats.stackexchange.com/a/69159 Why do we need to normalize data before principal component analysis (PCA)?\n",
    "\n",
    "[9] Géron, A., 2019, Hands-on Machine Learning with Scikit-Learn, Keras & TensorFlow, O' Reilly: Sebastopol p:227\n",
    "\n",
    "[10] Géron, A., 2019, Hands-on Machine Learning with Scikit-Learn, Keras & TensorFlow, O' Reilly: Sebastopol p:233  #### LDA good to reduce dimensionality before another classifcation algorithm such as SVM\n",
    "\n",
    "[11] https://scikit-learn.org/stable/modules/preprocessing.html Standardization, or mean removal and variance scaling\n",
    "\n",
    "[12] https://scikit-learn.org/stable/modules/generated/sklearn.discriminant_analysis.LinearDiscriminantAnalysis.html sklearn.discriminant_analysis.LinearDiscriminantAnalysis \"The model fits a Gaussian density to each class, assuming that all classes share the same covariance matrix.\""
   ]
  },
  {
   "cell_type": "markdown",
   "id": "62484a23-08e8-4afb-880f-4fdb06ad51fc",
   "metadata": {},
   "source": [
    "[13] https://scikit-learn.org/stable/auto_examples/preprocessing/plot_scaling_importance.html"
   ]
  },
  {
   "cell_type": "markdown",
   "id": "8e34ca6d-255b-44dd-b4f8-dbb39d2ed46d",
   "metadata": {},
   "source": [
    "[14] https://scikit-learn.org/stable/auto_examples/preprocessing/plot_all_scaling.html#standardscaler"
   ]
  },
  {
   "cell_type": "markdown",
   "id": "43d1d8bd-c82a-4ca9-92ad-71e1ae322eb1",
   "metadata": {},
   "source": [
    "[15] https://scikit-learn.org/stable/modules/generated/sklearn.preprocessing.RobustScaler.html"
   ]
  },
  {
   "cell_type": "markdown",
   "id": "4b7c773d-b43c-482e-84f8-4bacf91d9bc1",
   "metadata": {},
   "source": [
    "[16] https://scikit-learn.org/stable/modules/generated/sklearn.pipeline.Pipeline.html"
   ]
  },
  {
   "cell_type": "markdown",
   "id": "15076c82-efc7-402c-88a1-17ff4ea58547",
   "metadata": {},
   "source": [
    "[17] https://scikit-learn.org/stable/modules/generated/sklearn.model_selection.GridSearchCV.html"
   ]
  },
  {
   "cell_type": "markdown",
   "id": "5658e84b-3e01-4bdf-90f4-ce6566997699",
   "metadata": {},
   "source": [
    "[18] Géron, A., 2019, Hands-on Machine Learning with Scikit-Learn, Keras & TensorFlow, O' Reilly: Sebastopol: p: 220-221, 226-117"
   ]
  },
  {
   "cell_type": "markdown",
   "id": "113475ea-411f-4408-8ddf-2684bafe4115",
   "metadata": {},
   "source": [
    "[19] Géron, A., 2019, Hands-on Machine Learning with Scikit-Learn, Keras & TensorFlow, O' Reilly: Sebastopol: p: 220-223"
   ]
  }
 ],
 "metadata": {
  "interpreter": {
   "hash": "35b9a8b0d6f66693e587d7fc889f4b9a771e984fee80e4f47d19c50fd92a638b"
  },
  "kernelspec": {
   "display_name": "Python 3 (ipykernel)",
   "language": "python",
   "name": "python3"
  },
  "language_info": {
   "codemirror_mode": {
    "name": "ipython",
    "version": 3
   },
   "file_extension": ".py",
   "mimetype": "text/x-python",
   "name": "python",
   "nbconvert_exporter": "python",
   "pygments_lexer": "ipython3",
   "version": "3.9.9"
  }
 },
 "nbformat": 4,
 "nbformat_minor": 5
}
