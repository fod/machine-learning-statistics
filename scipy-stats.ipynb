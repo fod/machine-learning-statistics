{
 "cells": [
  {
   "cell_type": "markdown",
   "source": [
    "# scipy-stats"
   ],
   "metadata": {}
  },
  {
   "cell_type": "markdown",
   "source": [
    "## Overview\n",
    "\n",
    "The SciPy Python library is a large collection of scientific computing algorithms and functions presented in a number of subpackages in the domain of, among others, integration, interpolation, optimisation, linear algebra, image and signal processing, and statistics [1]. The library is based on numpy [2]. The SciPy-stats package [3] "
   ],
   "metadata": {}
  },
  {
   "cell_type": "code",
   "execution_count": null,
   "source": [],
   "outputs": [],
   "metadata": {}
  },
  {
   "cell_type": "code",
   "execution_count": null,
   "source": [
    "# imports\n",
    "from scipy import stats\n",
    "import pandas as pd\n",
    "import numpy as np\n",
    "import matplotlib.pyplot as plt"
   ],
   "outputs": [],
   "metadata": {}
  },
  {
   "cell_type": "markdown",
   "source": [
    "## ANOVA"
   ],
   "metadata": {}
  },
  {
   "cell_type": "markdown",
   "source": [
    "### Using ANOVA with scipy-stats"
   ],
   "metadata": {}
  },
  {
   "cell_type": "markdown",
   "source": [
    "### Demonstration"
   ],
   "metadata": {}
  },
  {
   "cell_type": "markdown",
   "source": [
    "## References"
   ],
   "metadata": {}
  }
 ],
 "metadata": {
  "kernelspec": {
   "name": "python3",
   "display_name": "Python 3.9.7 64-bit ('.venv': venv)"
  },
  "language_info": {
   "codemirror_mode": {
    "name": "ipython",
    "version": 3
   },
   "file_extension": ".py",
   "mimetype": "text/x-python",
   "name": "python",
   "nbconvert_exporter": "python",
   "pygments_lexer": "ipython3",
   "version": "3.9.7"
  },
  "interpreter": {
   "hash": "46b5aaad53b9a5854718629c2bd19724fcbdab6d4f082179e35f211c312e154d"
  }
 },
 "nbformat": 4,
 "nbformat_minor": 5
}