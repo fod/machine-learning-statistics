{
 "cells": [
  {
   "cell_type": "markdown",
   "id": "7c866621-7e4e-4dd8-aee5-e4410f1eca2b",
   "metadata": {},
   "source": [
    "# scipy-stats"
   ]
  },
  {
   "cell_type": "code",
   "execution_count": null,
   "id": "44eaca83-439a-4d68-9e97-f65773612e41",
   "metadata": {},
   "outputs": [],
   "source": []
  }
 ],
 "metadata": {
  "kernelspec": {
   "display_name": "Python 3.9.7 64-bit ('.venv')",
   "language": "python",
   "name": "python39764bitvenv435cff97ed104b11a90a2d311e701c5d"
  },
  "language_info": {
   "codemirror_mode": {
    "name": "ipython",
    "version": 3
   },
   "file_extension": ".py",
   "mimetype": "text/x-python",
   "name": "python",
   "nbconvert_exporter": "python",
   "pygments_lexer": "ipython3",
   "version": "3.9.7"
  }
 },
 "nbformat": 4,
 "nbformat_minor": 5
}
