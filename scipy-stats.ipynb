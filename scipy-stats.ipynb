{
 "cells": [
  {
   "cell_type": "markdown",
   "id": "99d04f3a",
   "metadata": {},
   "source": [
    "# scipy-stats"
   ]
  },
  {
   "cell_type": "markdown",
   "id": "230553a0",
   "metadata": {},
   "source": [
    "## Overview\n",
    "\n",
    "The SciPy Python library is a large collection of scientific computing algorithms and functions presented in a number of subpackages in the domain of, among others, integration, interpolation, optimisation, linear algebra, image and signal processing, and statistics [1]. The library is based on numpy [2]. The SciPy-stats package [3] "
   ]
  },
  {
   "cell_type": "code",
   "execution_count": 2,
   "id": "833e41f0",
   "metadata": {},
   "outputs": [],
   "source": [
    "# imports\n",
    "from scipy import stats as ss\n",
    "import pandas as pd\n",
    "import numpy as np\n",
    "import matplotlib.pyplot as plt\n",
    "import seaborn as sns\n",
    "import os\n",
    "from datetime import datetime"
   ]
  },
  {
   "cell_type": "markdown",
   "id": "1036c220",
   "metadata": {},
   "source": [
    "The Palmer Penguins dataset is considered a good alternative to Fisher's Iris for exploring data analysis concepts and techniques [1]. The details of how the data has been transformed for use in the R package 'palmerpenguins' are unclear so the three datasets of which it is composed, 'adelie', 'gentoo', and 'chinstrap' have been downloaded from the source EDI data portal [2] and cleaned and subset in the first cells of this notebook. The data will be used to demonstrate the process of conducting an ANOVA test using the scipy-stats package [3]."
   ]
  },
  {
   "cell_type": "markdown",
   "id": "46f378b3",
   "metadata": {},
   "source": [
    "Below the penguin data is downloaded, concatenated to a single pandas DataFrame, and written to disk as csv."
   ]
  },
  {
   "cell_type": "code",
   "execution_count": 3,
   "id": "7c39feb0",
   "metadata": {},
   "outputs": [],
   "source": [
    "\n",
    "data_dir = 'data/penguins'\n",
    "penguins_raw = os.path.join(data_dir, 'penguins_raw.csv')\n",
    "\n",
    "# Download penguin data if the raw data does not\n",
    "# already exist in the data directory\n",
    "if not os.path.exists(penguins_raw):\n",
    "\n",
    "    # Penguin data locations\n",
    "    urls = {\n",
    "        'adelie': 'https://portal.edirepository.org/nis/dataviewer?packageid=knb-lter-pal.219.5&entityid=002f3893385f710df69eeebe893144ff',\n",
    "        'gentoo': 'https://portal.edirepository.org/nis/dataviewer?packageid=knb-lter-pal.220.5&entityid=e03b43c924f226486f2f0ab6709d2381',\n",
    "        'chinstrap': 'https://portal.edirepository.org/nis/dataviewer?packageid=knb-lter-pal.221.6&entityid=fe853aa8f7a59aa84cdd3197619ef462'\n",
    "    }\n",
    "    # Download csv files and concatenate to one dataframe\n",
    "    penguins = pd.concat([pd.read_csv(url) for url in urls.values()])\n",
    "    # Write dataframe to disk as csv\n",
    "    csv = penguins.to_csv(index=False)\n",
    "\n",
    "    with open(penguins_raw, 'w') as f:\n",
    "        f.write(csv)\n",
    "\n",
    "    # Backup location\n",
    "    timestamp = datetime.now().strftime(\"_%Y%m%d_%H%M%S\")\n",
    "    backup_fname = 'penguins_raw' + timestamp + '.csv'\n",
    "    backup = os.path.join(data_dir, 'backup', backup_fname)\n",
    "    with open(backup, 'w') as f:\n",
    "        f.write(csv)\n",
    "    "
   ]
  },
  {
   "cell_type": "markdown",
   "id": "63164bfd",
   "metadata": {},
   "source": [
    "The penguin data is subset to hold only the five attributes of interest: species, culmen length, culmen depth, flipper length, and body mass."
   ]
  },
  {
   "cell_type": "code",
   "execution_count": 4,
   "id": "136498a7",
   "metadata": {},
   "outputs": [],
   "source": [
    "penguins_min = os.path.join(data_dir, 'penguins_min.csv')\n",
    "\n",
    "def subset_penguins():\n",
    "    # Read the raw penguin data to a DataFrame\n",
    "    df = pd.read_csv(penguins_raw)\n",
    "    # Drop most of the columns\n",
    "    df = df[['Species', 'Culmen Length (mm)', 'Culmen Depth (mm)', 'Flipper Length (mm)', 'Body Mass (g)']]\n",
    "    # Drop rows with missing data\n",
    "    df.dropna(inplace=True)\n",
    "    # Make column names easier to type\n",
    "    df.columns = df.columns.str.replace(' \\(.+\\)', '', regex=True)\n",
    "    # Make Species names more concise\n",
    "    df['Species'] = df['Species'].str.replace('\\s+.+$', '', regex=True)\n",
    "    # Write csv to disk\n",
    "    df.to_csv(penguins_min, index=False)\n",
    "\n",
    "    return df\n",
    "\n",
    "if os.path.exists(penguins_min):\n",
    "    penguins = pd.read_csv(penguins_min)\n",
    "else:\n",
    "    penguins = subset_penguins()\n"
   ]
  },
  {
   "cell_type": "code",
   "execution_count": 32,
   "id": "52668e3a",
   "metadata": {},
   "outputs": [
    {
     "data": {
      "text/plain": [
       "Adelie       151\n",
       "Gentoo       123\n",
       "Chinstrap     68\n",
       "Name: Species, dtype: int64"
      ]
     },
     "execution_count": 32,
     "metadata": {},
     "output_type": "execute_result"
    }
   ],
   "source": [
    "# See how many penguins in each group\n",
    "penguins['Species'].value_counts()"
   ]
  },
  {
   "cell_type": "code",
   "execution_count": 5,
   "id": "ef5f02bb",
   "metadata": {},
   "outputs": [
    {
     "data": {
      "text/html": [
       "<div>\n",
       "<style scoped>\n",
       "    .dataframe tbody tr th:only-of-type {\n",
       "        vertical-align: middle;\n",
       "    }\n",
       "\n",
       "    .dataframe tbody tr th {\n",
       "        vertical-align: top;\n",
       "    }\n",
       "\n",
       "    .dataframe thead th {\n",
       "        text-align: right;\n",
       "    }\n",
       "</style>\n",
       "<table border=\"1\" class=\"dataframe\">\n",
       "  <thead>\n",
       "    <tr style=\"text-align: right;\">\n",
       "      <th></th>\n",
       "      <th>Species</th>\n",
       "      <th>Culmen Length</th>\n",
       "      <th>Culmen Depth</th>\n",
       "      <th>Flipper Length</th>\n",
       "      <th>Body Mass</th>\n",
       "    </tr>\n",
       "  </thead>\n",
       "  <tbody>\n",
       "    <tr>\n",
       "      <th>0</th>\n",
       "      <td>Adelie</td>\n",
       "      <td>39.1</td>\n",
       "      <td>18.7</td>\n",
       "      <td>181.0</td>\n",
       "      <td>3750.0</td>\n",
       "    </tr>\n",
       "    <tr>\n",
       "      <th>1</th>\n",
       "      <td>Adelie</td>\n",
       "      <td>39.5</td>\n",
       "      <td>17.4</td>\n",
       "      <td>186.0</td>\n",
       "      <td>3800.0</td>\n",
       "    </tr>\n",
       "    <tr>\n",
       "      <th>2</th>\n",
       "      <td>Adelie</td>\n",
       "      <td>40.3</td>\n",
       "      <td>18.0</td>\n",
       "      <td>195.0</td>\n",
       "      <td>3250.0</td>\n",
       "    </tr>\n",
       "    <tr>\n",
       "      <th>3</th>\n",
       "      <td>Adelie</td>\n",
       "      <td>36.7</td>\n",
       "      <td>19.3</td>\n",
       "      <td>193.0</td>\n",
       "      <td>3450.0</td>\n",
       "    </tr>\n",
       "    <tr>\n",
       "      <th>4</th>\n",
       "      <td>Adelie</td>\n",
       "      <td>39.3</td>\n",
       "      <td>20.6</td>\n",
       "      <td>190.0</td>\n",
       "      <td>3650.0</td>\n",
       "    </tr>\n",
       "  </tbody>\n",
       "</table>\n",
       "</div>"
      ],
      "text/plain": [
       "  Species  Culmen Length  Culmen Depth  Flipper Length  Body Mass\n",
       "0  Adelie           39.1          18.7           181.0     3750.0\n",
       "1  Adelie           39.5          17.4           186.0     3800.0\n",
       "2  Adelie           40.3          18.0           195.0     3250.0\n",
       "3  Adelie           36.7          19.3           193.0     3450.0\n",
       "4  Adelie           39.3          20.6           190.0     3650.0"
      ]
     },
     "execution_count": 5,
     "metadata": {},
     "output_type": "execute_result"
    }
   ],
   "source": [
    "# Check out the data\n",
    "penguins.head()"
   ]
  },
  {
   "cell_type": "code",
   "execution_count": 44,
   "id": "7c760710",
   "metadata": {},
   "outputs": [],
   "source": [
    "# Give the penguin species' short names\n",
    "adelie = penguins[penguins['Species'] == 'Adelie']['Flipper Length']\n",
    "gentoo = penguins[penguins['Species'] == 'Gentoo']['Flipper Length']\n",
    "chinstrap = penguins[penguins['Species'] == 'Chinstrap']['Flipper Length']"
   ]
  },
  {
   "cell_type": "markdown",
   "id": "4f64a227",
   "metadata": {},
   "source": [
    "## ANOVA"
   ]
  },
  {
   "cell_type": "markdown",
   "id": "6a7b1e37",
   "metadata": {},
   "source": [
    "ANOVA or analysis of variance is a method for assessing whether or not two or more samples come from the same population by testing if their population means differ significantly. It is a hypothesis test in which the null hypothesis, $H_0$ is that all of the samples are draw from populations with the same mean [R]. \n",
    "\n"
   ]
  },
  {
   "cell_type": "markdown",
   "id": "a7c0e729",
   "metadata": {},
   "source": [
    "### Assumptions\n",
    "\n",
    "A number of assumptions are made of the data subjected to ANOVA for the analysis to be valid:\n",
    "\n",
    "1. The dependent variable must be continuous.\n",
    "1. The independent variable should be categorical, and should consist of two or more categories.\n",
    "1. All observations should be independent of one another.\n",
    "1. There should be no significant outliers.\n",
    "1. The dependent variable should be normally distributed within each category of the independent variable.\n",
    "1. All of the dependent variable groups should have the same variance.\n"
   ]
  },
  {
   "cell_type": "markdown",
   "id": "06457997",
   "metadata": {},
   "source": [
    "It is proposed here to assess whether the Palmer penguin flipper size varies by species. This will be explored by means of an analysis of variance between the flipper sizes of the three Palmer penguin species. The null hypothesis, $H_0$ is that the flipper size of each of the three groups comes from populations with the same mean and that , consequently, flipper size is not contingent on species. If $H_0$ is rejected, then we can say that flipper size is dependent on the species of penguin to which it is attached, at least in the case of the Palmer penguins.\n",
    "\n",
    "For the purposes of this test, the dependent variable is flipper length, and the independent variable is species."
   ]
  },
  {
   "cell_type": "markdown",
   "id": "6b763d94",
   "metadata": {},
   "source": [
    "##### Assumption 1. The dependent variable must be continuous\n",
    "Viewing a few values of the dependent variable, and the fact that its dtype is float64, demonstrates that it is, indeed, continuous."
   ]
  },
  {
   "cell_type": "code",
   "execution_count": 11,
   "id": "e7bd9c89",
   "metadata": {},
   "outputs": [
    {
     "data": {
      "text/plain": [
       "0    181.0\n",
       "1    186.0\n",
       "2    195.0\n",
       "3    193.0\n",
       "4    190.0\n",
       "Name: Flipper Length, dtype: float64"
      ]
     },
     "execution_count": 11,
     "metadata": {},
     "output_type": "execute_result"
    }
   ],
   "source": [
    "# View a sample of the independent variable and its dtype\n",
    "penguins['Flipper Length'].head()"
   ]
  },
  {
   "cell_type": "markdown",
   "id": "0a6cd811",
   "metadata": {},
   "source": [
    "##### Assumption 2. The independent variable should be categorical with two or more values\n",
    "Calling unique() on the indpendent variable demonstrates that it is a categorical variable with three possible values; Adelie, Gentoo, and Chinstrap."
   ]
  },
  {
   "cell_type": "code",
   "execution_count": 13,
   "id": "503f33d7",
   "metadata": {},
   "outputs": [
    {
     "data": {
      "text/plain": [
       "array(['Adelie', 'Gentoo', 'Chinstrap'], dtype=object)"
      ]
     },
     "execution_count": 13,
     "metadata": {},
     "output_type": "execute_result"
    }
   ],
   "source": [
    "penguins['Species'].unique()"
   ]
  },
  {
   "cell_type": "markdown",
   "id": "0e159515",
   "metadata": {},
   "source": [
    "##### Assumption 3. All observations should be independent\n",
    "Each row of the Palmer penguins dataset records the attributes of a single penguin. It is assumed that no penguin has been recorded. Therefore all observations can be assumed to be independent."
   ]
  },
  {
   "cell_type": "markdown",
   "id": "3814ef3f",
   "metadata": {},
   "source": [
    "##### Assumption 4. There should be no significant outliers\n",
    "There is no rigorous definition of an outlier. The *Penguin Dictionary of Statistics* states, a little vaguely, that it is \"an observation that seems very unusual and does not fit the general pattern of other values in a sample\" [4]. The seaborn boxplot provides a quick method to visually check for *its* definition of outliers, but the documentation is not specific as to how it defines the term. In fact, it is user definable via the `whis` parameter, which determines the boxplot's whisker extent and by extension, the value of what is considered an outlier because that is what any point outside that extent is considered [5]. The default value of `whis` is, according to a *Stack Overflow* contributor, 1.5 [6], therefore, seaborn's boxplot designates any point outside 1.5 $\\times$ the interquartile range (IQR). This is confirmed in the *NIST/SEMATECH e-Handbook of Statistical Methods* which, confidently statues that an outlier is a point that lies above the third quartile by more than 1.5 $\\times$ IQR, or below the first quartile by the same amount [7].\n",
    "\n",
    "So, observation of a Seaborn boxplot shows two outliers in the 'Adelie' category. "
   ]
  },
  {
   "cell_type": "code",
   "execution_count": 94,
   "id": "006a7a0d",
   "metadata": {},
   "outputs": [
    {
     "data": {
      "image/png": "[encoded data removed]",
      "text/plain": [
       "<Figure size 432x288 with 1 Axes>"
      ]
     },
     "metadata": {
      "needs_background": "light"
     },
     "output_type": "display_data"
    }
   ],
   "source": [
    "sns.boxplot(x='Species', y='Flipper Length', data=penguins);"
   ]
  },
  {
   "cell_type": "markdown",
   "id": "e5859237",
   "metadata": {},
   "source": [
    "We can calculate the first and third quartiles and the IQR using `scipy.stats.mstats.idealfourths()` and `scipy.stats.iqr`, respectively: "
   ]
  },
  {
   "cell_type": "code",
   "execution_count": 61,
   "id": "f9c33aea",
   "metadata": {},
   "outputs": [
    {
     "name": "stdout",
     "output_type": "stream",
     "text": [
      "Outliers: [172. 210.]\n",
      "Whiskers: [172.5, 208.5]\n"
     ]
    }
   ],
   "source": [
    "# Get Adelie IQR\n",
    "iqr = ss.iqr(adelie)\n",
    "# Get Adelit Q1 and Q3\n",
    "Qs = ss.mstats.idealfourths(adelie)\n",
    "# calculate lower and upper bounds\n",
    "# outside which we offically have an outlier\n",
    "Qs[0] = Qs[0] - (iqr * 1.5)\n",
    "Qs[1] = Qs[1] + (iqr * 1.5)\n",
    "outliers = adelie[(adelie < Qs[0]) | (adelie > Qs[1])]\n",
    "print(f\"Outliers: {outliers.values}\")\n",
    "print(f\"Whiskers: {Qs}\")\n"
   ]
  },
  {
   "cell_type": "markdown",
   "id": "36c4394b",
   "metadata": {},
   "source": [
    "Technically, there are two outliers in the Adelie group but they are only outliers by 0.5, and 1.5cm, and so could hardly be called significant."
   ]
  },
  {
   "cell_type": "markdown",
   "id": "c994bfd4",
   "metadata": {},
   "source": [
    "##### Assumption 5. The dependent variable should be normally distributed within each category of the independent variable\n",
    "A displot shows that none of the three groups are very far off normal but their normality should be quantified so that we can be sure of the validity of the ANOVA. There are a number of tests for normality available in scipy-stats."
   ]
  },
  {
   "cell_type": "code",
   "execution_count": 95,
   "id": "b191cd21",
   "metadata": {},
   "outputs": [
    {
     "data": {
      "image/png": "[encoded data removed]",
      "text/plain": [
       "<Figure size 444.125x360 with 1 Axes>"
      ]
     },
     "metadata": {
      "needs_background": "light"
     },
     "output_type": "display_data"
    }
   ],
   "source": [
    "sns.displot(data=penguins, x='Flipper Length', hue='Species', kind='kde');"
   ]
  },
  {
   "cell_type": "markdown",
   "id": "41309420",
   "metadata": {},
   "source": [
    "Below, both the Shapiro-Wilk [8], and the D'Agostino and Pearson [9] tests for normality are run on each of the three penguins samples."
   ]
  },
  {
   "cell_type": "code",
   "execution_count": 101,
   "id": "4a6f74a1",
   "metadata": {},
   "outputs": [
    {
     "name": "stdout",
     "output_type": "stream",
     "text": [
      "Adelie: \n",
      "Shapiro-Wilks: statistic: 0.993, p-value: 0.720\n",
      "D’Agostino-Pearson: statistic: 1.084, p-value: 0.582\n",
      "Gentoo: \n",
      "Shapiro-Wilks: statistic: 0.962, p-value: 0.002\n",
      "D’Agostino-Pearson: statistic: 6.119, p-value: 0.047\n",
      "Chinstrap: \n",
      "Shapiro-Wilks: statistic: 0.989, p-value: 0.811\n",
      "D’Agostino-Pearson: statistic: 0.086, p-value: 0.958\n"
     ]
    }
   ],
   "source": [
    "for species in ('Adelie', 'Gentoo', 'Chinstrap'):\n",
    "    print(f\"{species}: \")\n",
    "    # Shapiro-Wilk test\n",
    "    (sh_stat, sh_p) = ss.shapiro(penguins[penguins['Species'] == species]['Flipper Length'])\n",
    "    print(f\"Shapiro-Wilks: statistic: {sh_stat:.3f}, p-value: {sh_p:.3f}\")\n",
    "    # D’Agostino and Pearson\n",
    "    (dp_stat, dp_p) = ss.normaltest(penguins[penguins['Species'] == species]['Flipper Length'])\n",
    "    print(f\"D’Agostino-Pearson: statistic: {dp_stat:.3f}, p-value: {dp_p:.3f}\")\n"
   ]
  },
  {
   "cell_type": "markdown",
   "id": "aa00cbd6",
   "metadata": {},
   "source": [
    "It looks like the hypothesis that the Gentoo sample is drawn from a normal distribution must be rejected. A Q-Q plot shows that it's probably light-tailed [10]."
   ]
  },
  {
   "cell_type": "code",
   "execution_count": 108,
   "id": "dc9f7768",
   "metadata": {},
   "outputs": [
    {
     "data": {
      "image/png": "[encoded data removed]",
      "text/plain": [
       "<Figure size 432x288 with 1 Axes>"
      ]
     },
     "metadata": {
      "needs_background": "light"
     },
     "output_type": "display_data"
    }
   ],
   "source": [
    "# Q-Q plot of Gentoo flipper length\n",
    "ss.probplot(gentoo, plot=plt);"
   ]
  },
  {
   "cell_type": "markdown",
   "id": "d80ce8cc",
   "metadata": {},
   "source": [
    "Because one of the categories cannot be assumed to be normal, we are faced with a problem. Can the ANOVA still be relied upon? Some say yes [11], or at least maybe, but the usual advice is either to transform the data to make it normal, or to use the Kruskal-Wallis H test, which doesn't assume normality, instead of ANOVA [12]. In this case, we will perform the Kruskal-Wallis H test, but, for demonstration purposes, will also perform ANOVA. But first, there is still one more assumption to consider:"
   ]
  },
  {
   "cell_type": "markdown",
   "id": "a024003a",
   "metadata": {},
   "source": [
    "##### Assumption 6. Homegeneity of variances between groups\n",
    "Each group should have the same variance. This can be tested using Levene's test [13]."
   ]
  },
  {
   "cell_type": "code",
   "execution_count": 110,
   "id": "a113c656",
   "metadata": {},
   "outputs": [
    {
     "name": "stdout",
     "output_type": "stream",
     "text": [
      "Shapiro-Wilks: statistic: 0.989, p-value: 0.811\n"
     ]
    }
   ],
   "source": [
    "# Levene's test\n",
    "(stat, p) = ss.levene(adelie, gentoo, chinstrap)\n",
    "print(f\"Shapiro-Wilks: statistic: {sh_stat:.3f}, p-value: {sh_p:.3f}\")"
   ]
  },
  {
   "cell_type": "markdown",
   "id": "bc90d3f2",
   "metadata": {},
   "source": [
    "The large p-value returned by Levene's test suggests that all of the samples are draw from populaitons with equal variances."
   ]
  },
  {
   "cell_type": "code",
   "execution_count": 83,
   "id": "0a218863",
   "metadata": {},
   "outputs": [
    {
     "data": {
      "text/plain": [
       "F_onewayResult(statistic=594.8016274385172, pvalue=1.3517103385730013e-111)"
      ]
     },
     "execution_count": 83,
     "metadata": {},
     "output_type": "execute_result"
    }
   ],
   "source": [
    "ss.f_oneway(adelie, gentoo, chinstrap)"
   ]
  },
  {
   "cell_type": "markdown",
   "id": "94478aae",
   "metadata": {},
   "source": [
    "### Using ANOVA with scipy-stats"
   ]
  },
  {
   "cell_type": "markdown",
   "id": "3b9ce1c6",
   "metadata": {},
   "source": [
    "outliers---boxplot\n",
    "\n",
    "check for normality of EACH independent category \n",
    "                    --- kde (distplot?)\n",
    "                    --- shapiro-wilkes\n",
    "                    \n",
    "homogeneity of variances --- levene's test for homogeneity of variance\n",
    "                         --- scipy.stats.levene"
   ]
  },
  {
   "cell_type": "markdown",
   "id": "e77cd7f9-32fa-42be-a314-edcc4a20e989",
   "metadata": {},
   "source": [
    "ANOVA: scipy.stats.f_oneway   ----- also check statsmodels"
   ]
  },
  {
   "cell_type": "markdown",
   "id": "796533a8-d521-4f9b-aaa9-c04a12838791",
   "metadata": {},
   "source": [
    "Perform post-hoc tests --- see notebook"
   ]
  },
  {
   "cell_type": "markdown",
   "id": "42ae863a",
   "metadata": {},
   "source": [
    "## References\n",
    "\n",
    "[1] Horst, A. M., Hill, A. P., Gorman, K. B., 2020, palmerpenguins: Palmer Archipelago (Antarctica) penguin data. R package version 0.1.0. [online]. Available at https://allisonhorst.github.io/palmerpenguins/. doi: 10.5281/zenodo.3960218\n",
    "\n",
    "[2] Environmental Data Initiative, 2021, Data Repository and Curation Service [online]. Available at https://environmentaldatainitiative.org/\n",
    "\n",
    "[3] Scipy Community, 2021, Scipy-stats reference [online]. Available at https://docs.scipy.org/doc/scipy/reference/stats.html\n",
    "\n",
    "[4] Nelson, D., 2004, Dictionary of Statistics, Penguin: London\n",
    "\n",
    "[5] Waskom, M., 2021, seaborn.boxplot [online]. Available at https://seaborn.pydata.org/generated/seaborn.boxplot.html\n",
    "\n",
    "[6] Stack Overflow Contributor, 2017, Python Seaborn - How are outliers determined in boxplots? [online] Available at https://stackoverflow.com/a/46628653\n",
    "\n",
    "[7] NIST/SEMATECH, 2012, e-Handbook of Statistical Methods [online]. Available at www.itl.nist.gov. doi:10.18434/m32189 \n",
    "\n",
    "[8] Scipy Community, 2021, scipy.stats.shapiro [online]. Available at https://docs.scipy.org/doc/scipy/reference/generated/scipy.stats.shapiro.html\n",
    "\n",
    "[9] Scipy Community, 2021, scipy.stats.scipy.stats.normaltest [online]. Available at https://docs.scipy.org/doc/scipy/reference/generated/scipy.stats.normaltest.html\n",
    "\n",
    "[10] Stack Exchange Cross Validated Contributor, 2014, How to interpret a QQ plot [online]. https://stats.stackexchange.com/a/101290\n",
    "\n",
    "[11] Stack Exchange Cross Validated Contributor, 2011, Can I trust ANOVA results for a non-normally distributed DV? [online]. https://stats.stackexchange.com/a/5946\n",
    "\n",
    "[12] Lund Research Ltd., 2018, Laerd Statistics &mdash; One-way ANOVA [online]. Available from https://statistics.laerd.com/statistical-guides/one-way-anova-statistical-guide-3.php\n",
    "\n",
    "[13] Scipy Community, 2021, scipy.stats.levene [online]. Available at https://docs.scipy.org/doc/scipy/reference/generated/scipy.stats.levene.html\n",
    "\n"
   ]
  },
  {
   "cell_type": "markdown",
   "id": "555ff306",
   "metadata": {},
   "source": []
  },
  {
   "cell_type": "markdown",
   "id": "d3d5b490",
   "metadata": {},
   "source": []
  }
 ],
 "metadata": {
  "interpreter": {
   "hash": "46b5aaad53b9a5854718629c2bd19724fcbdab6d4f082179e35f211c312e154d"
  },
  "kernelspec": {
   "display_name": "Python 3 (ipykernel)",
   "language": "python",
   "name": "python3"
  },
  "language_info": {
   "codemirror_mode": {
    "name": "ipython",
    "version": 3
   },
   "file_extension": ".py",
   "mimetype": "text/x-python",
   "name": "python",
   "nbconvert_exporter": "python",
   "pygments_lexer": "ipython3",
   "version": "3.10.1"
  }
 },
 "nbformat": 4,
 "nbformat_minor": 5
}
