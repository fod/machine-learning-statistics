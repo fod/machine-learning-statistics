{
 "cells": [
  {
   "cell_type": "markdown",
   "id": "99d04f3a",
   "metadata": {},
   "source": [
    "# scipy-stats"
   ]
  },
  {
   "cell_type": "markdown",
   "id": "230553a0",
   "metadata": {},
   "source": [
    "## Overview\n",
    "\n",
    "The SciPy Python library is a large collection of scientific computing algorithms and functions presented in a number of subpackages in the domain of, among others, integration, interpolation, optimisation, linear algebra, image and signal processing, and statistics [1]. The library is based on numpy [2]. The SciPy-stats package [3] "
   ]
  },
  {
   "cell_type": "code",
   "execution_count": null,
   "id": "79d59b6c",
   "metadata": {},
   "outputs": [],
   "source": []
  },
  {
   "cell_type": "code",
   "execution_count": null,
   "id": "833e41f0",
   "metadata": {},
   "outputs": [],
   "source": [
    "# imports\n",
    "from scipy import stats as ss\n",
    "import pandas as pd\n",
    "import numpy as np\n",
    "import matplotlib.pyplot as plt"
   ]
  },
  {
   "cell_type": "markdown",
   "id": "4f64a227",
   "metadata": {},
   "source": [
    "## ANOVA"
   ]
  },
  {
   "cell_type": "markdown",
   "id": "a45789a8-6a73-4ded-aadd-40682b9f2073",
   "metadata": {},
   "source": [
    "Assumptions\n",
    "1. Dependent variable must be continuous\n",
    "1. Independent variable must consist of 2 or more independent categorical groups\n",
    "1. Observations should be independent\n",
    "1. No significant outliers\n",
    "1. Dependent variable approx. normally distributed for each independent category\n"
   ]
  },
  {
   "cell_type": "markdown",
   "id": "94478aae",
   "metadata": {},
   "source": [
    "### Using ANOVA with scipy-stats"
   ]
  },
  {
   "cell_type": "markdown",
   "id": "3b9ce1c6",
   "metadata": {},
   "source": [
    "### Demonstration\n",
    "$n\\choose k$"
   ]
  },
  {
   "cell_type": "markdown",
   "id": "42ae863a",
   "metadata": {},
   "source": [
    "## References"
   ]
  }
 ],
 "metadata": {
  "interpreter": {
   "hash": "46b5aaad53b9a5854718629c2bd19724fcbdab6d4f082179e35f211c312e154d"
  },
  "kernelspec": {
   "display_name": "Python 3 (ipykernel)",
   "language": "python",
   "name": "python3"
  },
  "language_info": {
   "codemirror_mode": {
    "name": "ipython",
    "version": 3
   },
   "file_extension": ".py",
   "mimetype": "text/x-python",
   "name": "python",
   "nbconvert_exporter": "python",
   "pygments_lexer": "ipython3",
   "version": "3.9.7"
  }
 },
 "nbformat": 4,
 "nbformat_minor": 5
}
