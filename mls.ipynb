{
 "cells": [
  {
   "cell_type": "markdown",
   "id": "1a34e77b-5873-4c69-9f1a-03309518fabb",
   "metadata": {},
   "source": [
    "# Machine Learning and Statistics\n",
    "## Assessment Notebook"
   ]
  },
  {
   "cell_type": "code",
   "execution_count": null,
   "id": "4aad1a28-bc92-456f-8d66-a13ec68f8c29",
   "metadata": {},
   "outputs": [],
   "source": []
  }
 ],
 "metadata": {
  "kernelspec": {
   "display_name": "Python 3 (ipykernel)",
   "language": "python",
   "name": "python3"
  },
  "language_info": {
   "codemirror_mode": {
    "name": "ipython",
    "version": 3
   },
   "file_extension": ".py",
   "mimetype": "text/x-python",
   "name": "python",
   "nbconvert_exporter": "python",
   "pygments_lexer": "ipython3",
   "version": "3.9.7"
  }
 },
 "nbformat": 4,
 "nbformat_minor": 5
}
